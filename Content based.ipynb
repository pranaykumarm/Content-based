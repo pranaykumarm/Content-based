{
 "metadata": {
  "name": "",
  "signature": "sha256:327fc1a1d255a4ee743df96b5bdfadc54ac772434bef01f68b56be883992fd28"
 },
 "nbformat": 3,
 "nbformat_minor": 0,
 "worksheets": [
  {
   "cells": [
    {
     "cell_type": "code",
     "collapsed": false,
     "input": [
      "import numpy as np\n",
      "import matplotlib.pyplot as plt\n",
      "import math\n",
      "%matplotlib inline\n",
      "\n",
      "from lof import LOF"
     ],
     "language": "python",
     "metadata": {},
     "outputs": [],
     "prompt_number": 85
    },
    {
     "cell_type": "markdown",
     "metadata": {},
     "source": [
      "event: user, access{server(IP)-2, media-2, location-2, path_prefix-2, size, last_modified-2, action-2}<br>\n",
      "e.g. - [123, [1,0,1,0,1,0,1,0,100,1,0,1,0]]"
     ]
    },
    {
     "cell_type": "code",
     "collapsed": false,
     "input": [
      "events = [[0, [1,0,1,0,1,0,1,0,100,1,0,1,0]], [1, [1,0,1,0,1,0,1,0,100,1,0,1,0]], [0, [1,0,0,1,1,0,0,1,1000,0,1,0,1]]]"
     ],
     "language": "python",
     "metadata": {},
     "outputs": [],
     "prompt_number": 3
    },
    {
     "cell_type": "code",
     "collapsed": false,
     "input": [
      "K = len(events[0][1])\n",
      "K"
     ],
     "language": "python",
     "metadata": {},
     "outputs": [
      {
       "metadata": {},
       "output_type": "pyout",
       "prompt_number": 8,
       "text": [
        "13"
       ]
      }
     ],
     "prompt_number": 8
    },
    {
     "cell_type": "code",
     "collapsed": false,
     "input": [
      "U = 0\n",
      "for event in events:\n",
      "    u = event[0]\n",
      "    event[1] = np.array(event[1])\n",
      "    U = max(u,U)\n",
      "    \n",
      "U = U+1\n",
      "U"
     ],
     "language": "python",
     "metadata": {},
     "outputs": [
      {
       "metadata": {},
       "output_type": "pyout",
       "prompt_number": 14,
       "text": [
        "2"
       ]
      }
     ],
     "prompt_number": 14
    },
    {
     "cell_type": "code",
     "collapsed": false,
     "input": [
      "events"
     ],
     "language": "python",
     "metadata": {},
     "outputs": [
      {
       "metadata": {},
       "output_type": "pyout",
       "prompt_number": 7,
       "text": [
        "[[0, array([  1,   0,   1,   0,   1,   0,   1,   0, 100,   1,   0,   1,   0])],\n",
        " [1, array([  1,   0,   1,   0,   1,   0,   1,   0, 100,   1,   0,   1,   0])],\n",
        " [0, array([   1,    0,    0,    1,    1,    0,    0,    1, 1000,    0,    1,\n",
        "            0,    1])]]"
       ]
      }
     ],
     "prompt_number": 7
    },
    {
     "cell_type": "code",
     "collapsed": false,
     "input": [
      "profiles = [[np.array([0.0 for f in xrange(K)]), 0] for u in xrange(U)]\n",
      "profiles"
     ],
     "language": "python",
     "metadata": {},
     "outputs": [
      {
       "metadata": {},
       "output_type": "pyout",
       "prompt_number": 17,
       "text": [
        "[[array([ 0.,  0.,  0.,  0.,  0.,  0.,  0.,  0.,  0.,  0.,  0.,  0.,  0.]), 0],\n",
        " [array([ 0.,  0.,  0.,  0.,  0.,  0.,  0.,  0.,  0.,  0.,  0.,  0.,  0.]), 0]]"
       ]
      }
     ],
     "prompt_number": 17
    },
    {
     "cell_type": "code",
     "collapsed": false,
     "input": [
      "for event in events:\n",
      "    u = event[0]\n",
      "    profiles[u][0] += event[1]\n",
      "    profiles[u][1] += 1\n",
      "    \n",
      "profiles"
     ],
     "language": "python",
     "metadata": {},
     "outputs": [
      {
       "metadata": {},
       "output_type": "pyout",
       "prompt_number": 18,
       "text": [
        "[[array([  2.00000000e+00,   0.00000000e+00,   1.00000000e+00,\n",
        "           1.00000000e+00,   2.00000000e+00,   0.00000000e+00,\n",
        "           1.00000000e+00,   1.00000000e+00,   1.10000000e+03,\n",
        "           1.00000000e+00,   1.00000000e+00,   1.00000000e+00,\n",
        "           1.00000000e+00]), 2],\n",
        " [array([   1.,    0.,    1.,    0.,    1.,    0.,    1.,    0.,  100.,\n",
        "            1.,    0.,    1.,    0.]), 1]]"
       ]
      }
     ],
     "prompt_number": 18
    },
    {
     "cell_type": "code",
     "collapsed": false,
     "input": [
      "for profile in profiles:\n",
      "    profile[0] = profile[0]/profile[1]\n",
      "    \n",
      "profiles"
     ],
     "language": "python",
     "metadata": {},
     "outputs": [
      {
       "metadata": {},
       "output_type": "pyout",
       "prompt_number": 19,
       "text": [
        "[[array([  1.00000000e+00,   0.00000000e+00,   5.00000000e-01,\n",
        "           5.00000000e-01,   1.00000000e+00,   0.00000000e+00,\n",
        "           5.00000000e-01,   5.00000000e-01,   5.50000000e+02,\n",
        "           5.00000000e-01,   5.00000000e-01,   5.00000000e-01,\n",
        "           5.00000000e-01]), 2],\n",
        " [array([   1.,    0.,    1.,    0.,    1.,    0.,    1.,    0.,  100.,\n",
        "            1.,    0.,    1.,    0.]), 1]]"
       ]
      }
     ],
     "prompt_number": 19
    },
    {
     "cell_type": "code",
     "collapsed": false,
     "input": [
      "def score(event):\n",
      "    u = event[0]\n",
      "    event[1] = np.array(event[1])\n",
      "    val = np.dot(profiles[u][0], event[1])/(np.linalg.norm(profiles[u][0])*np.linalg.norm(event[1]))\n",
      "    return val"
     ],
     "language": "python",
     "metadata": {},
     "outputs": [],
     "prompt_number": 24
    },
    {
     "cell_type": "code",
     "collapsed": false,
     "input": [
      "score([1, [1,0,1,0,1,0,1,0,100,1,0,1,0]])"
     ],
     "language": "python",
     "metadata": {},
     "outputs": [
      {
       "metadata": {},
       "output_type": "pyout",
       "prompt_number": 25,
       "text": [
        "1.0"
       ]
      }
     ],
     "prompt_number": 25
    },
    {
     "cell_type": "code",
     "collapsed": false,
     "input": [
      "score([0, [1,0,0,1,1,0,0,1,100,0,1,0,1]])"
     ],
     "language": "python",
     "metadata": {},
     "outputs": [
      {
       "metadata": {},
       "output_type": "pyout",
       "prompt_number": 29,
       "text": [
        "0.99976623039408152"
       ]
      }
     ],
     "prompt_number": 29
    },
    {
     "cell_type": "code",
     "collapsed": false,
     "input": [],
     "language": "python",
     "metadata": {},
     "outputs": []
    },
    {
     "cell_type": "code",
     "collapsed": false,
     "input": [],
     "language": "python",
     "metadata": {},
     "outputs": []
    },
    {
     "cell_type": "code",
     "collapsed": false,
     "input": [],
     "language": "python",
     "metadata": {},
     "outputs": []
    },
    {
     "cell_type": "code",
     "collapsed": false,
     "input": [],
     "language": "python",
     "metadata": {},
     "outputs": []
    },
    {
     "cell_type": "code",
     "collapsed": false,
     "input": [
      "events = [(1,0,1), (1,0,2)]"
     ],
     "language": "python",
     "metadata": {},
     "outputs": [],
     "prompt_number": 141
    },
    {
     "cell_type": "code",
     "collapsed": false,
     "input": [
      "lof = LOF(events, False)"
     ],
     "language": "python",
     "metadata": {},
     "outputs": [],
     "prompt_number": 142
    },
    {
     "cell_type": "code",
     "collapsed": false,
     "input": [
      "print lof.local_outlier_factor(1, (1,0,1.9))"
     ],
     "language": "python",
     "metadata": {},
     "outputs": [
      {
       "output_type": "stream",
       "stream": "stdout",
       "text": [
        "0.1\n"
       ]
      }
     ],
     "prompt_number": 146
    },
    {
     "cell_type": "code",
     "collapsed": false,
     "input": [
      "import fastcluster"
     ],
     "language": "python",
     "metadata": {},
     "outputs": [
      {
       "ename": "ImportError",
       "evalue": "No module named fastcluster",
       "output_type": "pyerr",
       "traceback": [
        "\u001b[0;31m---------------------------------------------------------------------------\u001b[0m\n\u001b[0;31mImportError\u001b[0m                               Traceback (most recent call last)",
        "\u001b[0;32m<ipython-input-107-54b914e90093>\u001b[0m in \u001b[0;36m<module>\u001b[0;34m()\u001b[0m\n\u001b[0;32m----> 1\u001b[0;31m \u001b[0;32mimport\u001b[0m \u001b[0mfastcluster\u001b[0m\u001b[0;34m\u001b[0m\u001b[0m\n\u001b[0m",
        "\u001b[0;31mImportError\u001b[0m: No module named fastcluster"
       ]
      }
     ],
     "prompt_number": 107
    },
    {
     "cell_type": "code",
     "collapsed": false,
     "input": [
      "from scipy.spatial.distance import pdist, squareform\n",
      "from scipy.cluster.hierarchy import linkage, dendrogram"
     ],
     "language": "python",
     "metadata": {},
     "outputs": [],
     "prompt_number": 108
    },
    {
     "cell_type": "code",
     "collapsed": false,
     "input": [
      "events = [[1,0,1], [0,1,1], [2,2,2]]\n",
      "events = np.array(events)"
     ],
     "language": "python",
     "metadata": {},
     "outputs": [],
     "prompt_number": 116
    },
    {
     "cell_type": "code",
     "collapsed": false,
     "input": [
      "data_dist = pdist(events) # computing the distance\n",
      "data_link = linkage(events) # computing the linkage"
     ],
     "language": "python",
     "metadata": {},
     "outputs": [],
     "prompt_number": 117
    },
    {
     "cell_type": "code",
     "collapsed": false,
     "input": [
      "dendrogram(data_link,labels=events.dtype.names)\n",
      "plt.xlabel('Samples')\n",
      "plt.ylabel('Distance')\n",
      "plt.suptitle('Samples clustering', fontweight='bold', fontsize=14);"
     ],
     "language": "python",
     "metadata": {},
     "outputs": [
      {
       "metadata": {},
       "output_type": "display_data",
       "png": "[encoded data removed]",
       "text": [
        "<matplotlib.figure.Figure at 0x108e9d3d0>"
       ]
      }
     ],
     "prompt_number": 118
    },
    {
     "cell_type": "code",
     "collapsed": false,
     "input": [],
     "language": "python",
     "metadata": {},
     "outputs": []
    }
   ],
   "metadata": {}
  }
 ]
}