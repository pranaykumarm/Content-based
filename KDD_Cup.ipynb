{
 "metadata": {
  "name": "",
  "signature": "sha256:7c0da1ab5b38d2f3c09e5aaf3b9e2c9963bc5c90b56ba07ff01139f90014b83e"
 },
 "nbformat": 3,
 "nbformat_minor": 0,
 "worksheets": [
  {
   "cells": [
    {
     "cell_type": "code",
     "collapsed": false,
     "input": [
      "import numpy as np\n",
      "import matplotlib.pyplot as plt\n",
      "import math\n",
      "import networkx as nx\n",
      "import community\n",
      "%matplotlib inline"
     ],
     "language": "python",
     "metadata": {},
     "outputs": [],
     "prompt_number": 8
    },
    {
     "cell_type": "code",
     "collapsed": false,
     "input": [
      "f = open('kddcup-data_10_percent_corrected.txt')\n",
      "\n",
      "all_events = []\n",
      "\n",
      "for line in f:\n",
      "    contents = line.split(',')\n",
      "    all_events.append(contents)\n",
      "\n",
      "f.close()\n",
      "len(all_events)"
     ],
     "language": "python",
     "metadata": {},
     "outputs": [
      {
       "metadata": {},
       "output_type": "pyout",
       "prompt_number": 9,
       "text": [
        "494021"
       ]
      }
     ],
     "prompt_number": 9
    },
    {
     "cell_type": "code",
     "collapsed": false,
     "input": [
      "N = len(all_events)\n",
      "N"
     ],
     "language": "python",
     "metadata": {},
     "outputs": [
      {
       "metadata": {},
       "output_type": "pyout",
       "prompt_number": 10,
       "text": [
        "494021"
       ]
      }
     ],
     "prompt_number": 10
    },
    {
     "cell_type": "code",
     "collapsed": false,
     "input": [
      "F = len(all_events[0])\n",
      "F"
     ],
     "language": "python",
     "metadata": {},
     "outputs": [
      {
       "metadata": {},
       "output_type": "pyout",
       "prompt_number": 11,
       "text": [
        "42"
       ]
      }
     ],
     "prompt_number": 11
    },
    {
     "cell_type": "code",
     "collapsed": false,
     "input": [
      "features = [[] for i in xrange(F)]\n",
      "for event in all_events:\n",
      "    for i in xrange(F):\n",
      "        features[i].append(event[i])"
     ],
     "language": "python",
     "metadata": {},
     "outputs": [],
     "prompt_number": 12
    },
    {
     "cell_type": "code",
     "collapsed": false,
     "input": [
      "#duration - cont\n",
      "k = 0\n",
      "b = float(min(features[k]))\n",
      "a = float(max(features[k]))\n",
      "ch = (a-b)/3.0\n",
      "a, b, ch"
     ],
     "language": "python",
     "metadata": {},
     "outputs": [
      {
       "metadata": {},
       "output_type": "pyout",
       "prompt_number": 13,
       "text": [
        "(9949.0, 0.0, 3316.3333333333335)"
       ]
      }
     ],
     "prompt_number": 13
    },
    {
     "cell_type": "code",
     "collapsed": false,
     "input": [
      "k = 0\n",
      "for event in all_events:\n",
      "    if float(event[k]) <= b+ch:\n",
      "        event[k] = 'low'\n",
      "    elif float(event[k]) <= b+2*ch:\n",
      "        event[k] = 'med'\n",
      "    else:\n",
      "        event[k] = 'hig'"
     ],
     "language": "python",
     "metadata": {},
     "outputs": [],
     "prompt_number": 14
    },
    {
     "cell_type": "code",
     "collapsed": false,
     "input": [
      "event[k]"
     ],
     "language": "python",
     "metadata": {},
     "outputs": [
      {
       "metadata": {},
       "output_type": "pyout",
       "prompt_number": 15,
       "text": [
        "'low'"
       ]
      }
     ],
     "prompt_number": 15
    },
    {
     "cell_type": "code",
     "collapsed": false,
     "input": [
      "#protocol_type - symb\n",
      "protocolset = set(features[1])\n",
      "protocolset"
     ],
     "language": "python",
     "metadata": {},
     "outputs": [
      {
       "metadata": {},
       "output_type": "pyout",
       "prompt_number": 16,
       "text": [
        "{'icmp', 'tcp', 'udp'}"
       ]
      }
     ],
     "prompt_number": 16
    },
    {
     "cell_type": "code",
     "collapsed": false,
     "input": [
      "#service - symb\n",
      "serviceset = set(features[2])\n",
      "serviceset"
     ],
     "language": "python",
     "metadata": {},
     "outputs": [
      {
       "metadata": {},
       "output_type": "pyout",
       "prompt_number": 17,
       "text": [
        "{'IRC',\n",
        " 'X11',\n",
        " 'Z39_50',\n",
        " 'auth',\n",
        " 'bgp',\n",
        " 'courier',\n",
        " 'csnet_ns',\n",
        " 'ctf',\n",
        " 'daytime',\n",
        " 'discard',\n",
        " 'domain',\n",
        " 'domain_u',\n",
        " 'echo',\n",
        " 'eco_i',\n",
        " 'ecr_i',\n",
        " 'efs',\n",
        " 'exec',\n",
        " 'finger',\n",
        " 'ftp',\n",
        " 'ftp_data',\n",
        " 'gopher',\n",
        " 'hostnames',\n",
        " 'http',\n",
        " 'http_443',\n",
        " 'imap4',\n",
        " 'iso_tsap',\n",
        " 'klogin',\n",
        " 'kshell',\n",
        " 'ldap',\n",
        " 'link',\n",
        " 'login',\n",
        " 'mtp',\n",
        " 'name',\n",
        " 'netbios_dgm',\n",
        " 'netbios_ns',\n",
        " 'netbios_ssn',\n",
        " 'netstat',\n",
        " 'nnsp',\n",
        " 'nntp',\n",
        " 'ntp_u',\n",
        " 'other',\n",
        " 'pm_dump',\n",
        " 'pop_2',\n",
        " 'pop_3',\n",
        " 'printer',\n",
        " 'private',\n",
        " 'red_i',\n",
        " 'remote_job',\n",
        " 'rje',\n",
        " 'shell',\n",
        " 'smtp',\n",
        " 'sql_net',\n",
        " 'ssh',\n",
        " 'sunrpc',\n",
        " 'supdup',\n",
        " 'systat',\n",
        " 'telnet',\n",
        " 'tftp_u',\n",
        " 'tim_i',\n",
        " 'time',\n",
        " 'urh_i',\n",
        " 'urp_i',\n",
        " 'uucp',\n",
        " 'uucp_path',\n",
        " 'vmnet',\n",
        " 'whois'}"
       ]
      }
     ],
     "prompt_number": 17
    },
    {
     "cell_type": "code",
     "collapsed": false,
     "input": [
      "#flag - symb\n",
      "flagset = set(features[3])\n",
      "flagset"
     ],
     "language": "python",
     "metadata": {},
     "outputs": [
      {
       "metadata": {},
       "output_type": "pyout",
       "prompt_number": 18,
       "text": [
        "{'OTH', 'REJ', 'RSTO', 'RSTOS0', 'RSTR', 'S0', 'S1', 'S2', 'S3', 'SF', 'SH'}"
       ]
      }
     ],
     "prompt_number": 18
    },
    {
     "cell_type": "code",
     "collapsed": false,
     "input": [
      "#src_bytes - cont\n",
      "k = 4\n",
      "b = float(min(features[k]))\n",
      "a = float(max(features[k]))\n",
      "ch = (a-b)/3.0\n",
      "a, b, ch"
     ],
     "language": "python",
     "metadata": {},
     "outputs": [
      {
       "metadata": {},
       "output_type": "pyout",
       "prompt_number": 19,
       "text": [
        "(999.0, 0.0, 333.0)"
       ]
      }
     ],
     "prompt_number": 19
    },
    {
     "cell_type": "code",
     "collapsed": false,
     "input": [
      "k = 4\n",
      "for event in all_events:\n",
      "    if float(event[k]) <= b+ch:\n",
      "        event[k] = 'low'\n",
      "    elif float(event[k]) <= b+2*ch:\n",
      "        event[k] = 'med'\n",
      "    else:\n",
      "        event[k] = 'hig'"
     ],
     "language": "python",
     "metadata": {},
     "outputs": [],
     "prompt_number": 20
    },
    {
     "cell_type": "code",
     "collapsed": false,
     "input": [
      "#dst_bytes - cont\n",
      "k = 5\n",
      "b = float(min(features[k]))\n",
      "a = float(max(features[k]))\n",
      "ch = (a-b)/3.0\n",
      "a, b, ch"
     ],
     "language": "python",
     "metadata": {},
     "outputs": [
      {
       "metadata": {},
       "output_type": "pyout",
       "prompt_number": 21,
       "text": [
        "(9999.0, 0.0, 3333.0)"
       ]
      }
     ],
     "prompt_number": 21
    },
    {
     "cell_type": "code",
     "collapsed": false,
     "input": [
      "k = 5\n",
      "for event in all_events:\n",
      "    if float(event[k]) <= b+ch:\n",
      "        event[k] = 'low'\n",
      "    elif float(event[k]) <= b+2*ch:\n",
      "        event[k] = 'med'\n",
      "    else:\n",
      "        event[k] = 'hig'"
     ],
     "language": "python",
     "metadata": {},
     "outputs": [],
     "prompt_number": 22
    },
    {
     "cell_type": "code",
     "collapsed": false,
     "input": [
      "#land - symb\n",
      "landset = set(features[6])\n",
      "landset"
     ],
     "language": "python",
     "metadata": {},
     "outputs": [
      {
       "metadata": {},
       "output_type": "pyout",
       "prompt_number": 23,
       "text": [
        "{'0', '1'}"
       ]
      }
     ],
     "prompt_number": 23
    },
    {
     "cell_type": "code",
     "collapsed": false,
     "input": [
      "#wrong_fragment - cont\n",
      "k = 7\n",
      "b = float(min(features[k]))\n",
      "a = float(max(features[k]))\n",
      "ch = (a-b)/3.0\n",
      "a, b, ch"
     ],
     "language": "python",
     "metadata": {},
     "outputs": [
      {
       "metadata": {},
       "output_type": "pyout",
       "prompt_number": 24,
       "text": [
        "(3.0, 0.0, 1.0)"
       ]
      }
     ],
     "prompt_number": 24
    },
    {
     "cell_type": "code",
     "collapsed": false,
     "input": [
      "k = 7\n",
      "for event in all_events:\n",
      "    if float(event[k]) <= b+ch:\n",
      "        event[k] = 'low'\n",
      "    elif float(event[k]) <= b+2*ch:\n",
      "        event[k] = 'med'\n",
      "    else:\n",
      "        event[k] = 'hig'"
     ],
     "language": "python",
     "metadata": {},
     "outputs": [],
     "prompt_number": 25
    },
    {
     "cell_type": "code",
     "collapsed": false,
     "input": [
      "#urgent - cont\n",
      "k = 8\n",
      "b = float(min(features[k]))\n",
      "a = float(max(features[k]))\n",
      "ch = (a-b)/3.0\n",
      "a, b, ch"
     ],
     "language": "python",
     "metadata": {},
     "outputs": [
      {
       "metadata": {},
       "output_type": "pyout",
       "prompt_number": 26,
       "text": [
        "(3.0, 0.0, 1.0)"
       ]
      }
     ],
     "prompt_number": 26
    },
    {
     "cell_type": "code",
     "collapsed": false,
     "input": [
      "k = 8\n",
      "for event in all_events:\n",
      "    if float(event[k]) <= b+ch:\n",
      "        event[k] = 'low'\n",
      "    elif float(event[k]) <= b+2*ch:\n",
      "        event[k] = 'med'\n",
      "    else:\n",
      "        event[k] = 'hig'"
     ],
     "language": "python",
     "metadata": {},
     "outputs": [],
     "prompt_number": 27
    },
    {
     "cell_type": "code",
     "collapsed": false,
     "input": [
      "#hot - cont\n",
      "k = 9\n",
      "b = float(min(features[k]))\n",
      "a = float(max(features[k]))\n",
      "ch = (a-b)/3.0\n",
      "a, b, ch"
     ],
     "language": "python",
     "metadata": {},
     "outputs": [
      {
       "metadata": {},
       "output_type": "pyout",
       "prompt_number": 28,
       "text": [
        "(9.0, 0.0, 3.0)"
       ]
      }
     ],
     "prompt_number": 28
    },
    {
     "cell_type": "code",
     "collapsed": false,
     "input": [
      "k = 9\n",
      "for event in all_events:\n",
      "    if float(event[k]) <= b+ch:\n",
      "        event[k] = 'low'\n",
      "    elif float(event[k]) <= b+2*ch:\n",
      "        event[k] = 'med'\n",
      "    else:\n",
      "        event[k] = 'hig'"
     ],
     "language": "python",
     "metadata": {},
     "outputs": [],
     "prompt_number": 29
    },
    {
     "cell_type": "code",
     "collapsed": false,
     "input": [
      "#num_failed_logins - cont\n",
      "k = 10\n",
      "b = float(min(features[k]))\n",
      "a = float(max(features[k]))\n",
      "ch = (a-b)/3.0\n",
      "a, b, ch"
     ],
     "language": "python",
     "metadata": {},
     "outputs": [
      {
       "metadata": {},
       "output_type": "pyout",
       "prompt_number": 30,
       "text": [
        "(5.0, 0.0, 1.6666666666666667)"
       ]
      }
     ],
     "prompt_number": 30
    },
    {
     "cell_type": "code",
     "collapsed": false,
     "input": [
      "k = 10\n",
      "for event in all_events:\n",
      "    if float(event[k]) <= b+ch:\n",
      "        event[k] = 'low'\n",
      "    elif float(event[k]) <= b+2*ch:\n",
      "        event[k] = 'med'\n",
      "    else:\n",
      "        event[k] = 'hig'"
     ],
     "language": "python",
     "metadata": {},
     "outputs": [],
     "prompt_number": 31
    },
    {
     "cell_type": "code",
     "collapsed": false,
     "input": [
      "#logged_in - symb\n",
      "loggedinset = set(features[11])\n",
      "loggedinset"
     ],
     "language": "python",
     "metadata": {},
     "outputs": [
      {
       "metadata": {},
       "output_type": "pyout",
       "prompt_number": 32,
       "text": [
        "{'0', '1'}"
       ]
      }
     ],
     "prompt_number": 32
    },
    {
     "cell_type": "code",
     "collapsed": false,
     "input": [
      "#num_compromised - cont\n",
      "k = 12\n",
      "b = float(min(features[k]))\n",
      "a = float(max(features[k]))\n",
      "ch = (a-b)/3.0\n",
      "a, b, ch"
     ],
     "language": "python",
     "metadata": {},
     "outputs": [
      {
       "metadata": {},
       "output_type": "pyout",
       "prompt_number": 33,
       "text": [
        "(9.0, 0.0, 3.0)"
       ]
      }
     ],
     "prompt_number": 33
    },
    {
     "cell_type": "code",
     "collapsed": false,
     "input": [
      "k = 12\n",
      "for event in all_events:\n",
      "    if float(event[k]) <= b+ch:\n",
      "        event[k] = 'low'\n",
      "    elif float(event[k]) <= b+2*ch:\n",
      "        event[k] = 'med'\n",
      "    else:\n",
      "        event[k] = 'hig'"
     ],
     "language": "python",
     "metadata": {},
     "outputs": [],
     "prompt_number": 34
    },
    {
     "cell_type": "code",
     "collapsed": false,
     "input": [
      "#root_shell - cont\n",
      "k = 13\n",
      "b = float(min(features[k]))\n",
      "a = float(max(features[k]))\n",
      "ch = (a-b)/3.0\n",
      "a, b, ch"
     ],
     "language": "python",
     "metadata": {},
     "outputs": [
      {
       "metadata": {},
       "output_type": "pyout",
       "prompt_number": 35,
       "text": [
        "(1.0, 0.0, 0.3333333333333333)"
       ]
      }
     ],
     "prompt_number": 35
    },
    {
     "cell_type": "code",
     "collapsed": false,
     "input": [
      "k = 13\n",
      "for event in all_events:\n",
      "    if float(event[k]) <= b+ch:\n",
      "        event[k] = 'low'\n",
      "    elif float(event[k]) <= b+2*ch:\n",
      "        event[k] = 'med'\n",
      "    else:\n",
      "        event[k] = 'hig'"
     ],
     "language": "python",
     "metadata": {},
     "outputs": [],
     "prompt_number": 36
    },
    {
     "cell_type": "code",
     "collapsed": false,
     "input": [
      "#su_attempted - cont\n",
      "k = 14\n",
      "b = float(min(features[k]))\n",
      "a = float(max(features[k]))\n",
      "ch = (a-b)/3.0\n",
      "a, b, ch"
     ],
     "language": "python",
     "metadata": {},
     "outputs": [
      {
       "metadata": {},
       "output_type": "pyout",
       "prompt_number": 37,
       "text": [
        "(2.0, 0.0, 0.6666666666666666)"
       ]
      }
     ],
     "prompt_number": 37
    },
    {
     "cell_type": "code",
     "collapsed": false,
     "input": [
      "k = 14\n",
      "for event in all_events:\n",
      "    if event[k] <= b+ch:\n",
      "        event[k] = 'low'\n",
      "    elif event[k] <= b+2*ch:\n",
      "        event[k] = 'med'\n",
      "    else:\n",
      "        event[k] = 'hig'"
     ],
     "language": "python",
     "metadata": {},
     "outputs": [],
     "prompt_number": 38
    },
    {
     "cell_type": "code",
     "collapsed": false,
     "input": [
      "#num_root - cont\n",
      "k = 15\n",
      "b = float(min(features[k]))\n",
      "a = float(max(features[k]))\n",
      "ch = (a-b)/3.0\n",
      "a, b, ch"
     ],
     "language": "python",
     "metadata": {},
     "outputs": [
      {
       "metadata": {},
       "output_type": "pyout",
       "prompt_number": 39,
       "text": [
        "(993.0, 0.0, 331.0)"
       ]
      }
     ],
     "prompt_number": 39
    },
    {
     "cell_type": "code",
     "collapsed": false,
     "input": [
      "k = 15\n",
      "for event in all_events:\n",
      "    if float(event[k]) <= b+ch:\n",
      "        event[k] = 'low'\n",
      "    elif float(event[k]) <= b+2*ch:\n",
      "        event[k] = 'med'\n",
      "    else:\n",
      "        event[k] = 'hig'"
     ],
     "language": "python",
     "metadata": {},
     "outputs": [],
     "prompt_number": 40
    },
    {
     "cell_type": "code",
     "collapsed": false,
     "input": [
      "#num_file_creations - cont\n",
      "k = 16\n",
      "b = float(min(features[k]))\n",
      "a = float(max(features[k]))\n",
      "ch = (a-b)/3.0\n",
      "a, b, ch"
     ],
     "language": "python",
     "metadata": {},
     "outputs": [
      {
       "metadata": {},
       "output_type": "pyout",
       "prompt_number": 41,
       "text": [
        "(9.0, 0.0, 3.0)"
       ]
      }
     ],
     "prompt_number": 41
    },
    {
     "cell_type": "code",
     "collapsed": false,
     "input": [
      "k = 16\n",
      "for event in all_events:\n",
      "    if float(event[k]) <= b+ch:\n",
      "        event[k] = 'low'\n",
      "    elif float(event[k]) <= b+2*ch:\n",
      "        event[k] = 'med'\n",
      "    else:\n",
      "        event[k] = 'hig'"
     ],
     "language": "python",
     "metadata": {},
     "outputs": [],
     "prompt_number": 42
    },
    {
     "cell_type": "code",
     "collapsed": false,
     "input": [
      "#num_shells - cont\n",
      "k = 17\n",
      "b = float(min(features[k]))\n",
      "a = float(max(features[k]))\n",
      "ch = (a-b)/3.0\n",
      "a, b, ch"
     ],
     "language": "python",
     "metadata": {},
     "outputs": [
      {
       "metadata": {},
       "output_type": "pyout",
       "prompt_number": 43,
       "text": [
        "(2.0, 0.0, 0.6666666666666666)"
       ]
      }
     ],
     "prompt_number": 43
    },
    {
     "cell_type": "code",
     "collapsed": false,
     "input": [
      "k = 17\n",
      "for event in all_events:\n",
      "    if float(event[k]) <= b+ch:\n",
      "        event[k] = 'low'\n",
      "    elif float(event[k]) <= b+2*ch:\n",
      "        event[k] = 'med'\n",
      "    else:\n",
      "        event[k] = 'hig'"
     ],
     "language": "python",
     "metadata": {},
     "outputs": [],
     "prompt_number": 44
    },
    {
     "cell_type": "code",
     "collapsed": false,
     "input": [
      "#num_access_files - cont\n",
      "k = 18\n",
      "b = float(min(features[k]))\n",
      "a = float(max(features[k]))\n",
      "ch = (a-b)/3.0\n",
      "a, b, ch"
     ],
     "language": "python",
     "metadata": {},
     "outputs": [
      {
       "metadata": {},
       "output_type": "pyout",
       "prompt_number": 45,
       "text": [
        "(8.0, 0.0, 2.6666666666666665)"
       ]
      }
     ],
     "prompt_number": 45
    },
    {
     "cell_type": "code",
     "collapsed": false,
     "input": [
      "k = 18\n",
      "for event in all_events:\n",
      "    if float(event[k]) <= b+ch:\n",
      "        event[k] = 'low'\n",
      "    elif float(event[k]) <= b+2*ch:\n",
      "        event[k] = 'med'\n",
      "    else:\n",
      "        event[k] = 'hig'"
     ],
     "language": "python",
     "metadata": {},
     "outputs": [],
     "prompt_number": 46
    },
    {
     "cell_type": "code",
     "collapsed": false,
     "input": [
      "#num_outbound_cmds - cont\n",
      "min(features[19]), max(features[19])"
     ],
     "language": "python",
     "metadata": {},
     "outputs": [
      {
       "metadata": {},
       "output_type": "pyout",
       "prompt_number": 47,
       "text": [
        "('0', '0')"
       ]
      }
     ],
     "prompt_number": 47
    },
    {
     "cell_type": "code",
     "collapsed": false,
     "input": [
      "#is_host_login - symb\n",
      "ishostloginset = set(features[20])\n",
      "ishostloginset"
     ],
     "language": "python",
     "metadata": {},
     "outputs": [
      {
       "metadata": {},
       "output_type": "pyout",
       "prompt_number": 48,
       "text": [
        "{'0'}"
       ]
      }
     ],
     "prompt_number": 48
    },
    {
     "cell_type": "code",
     "collapsed": false,
     "input": [
      "#is_guest_login - symb\n",
      "isguestloginset = set(features[21])\n",
      "isguestloginset"
     ],
     "language": "python",
     "metadata": {},
     "outputs": [
      {
       "metadata": {},
       "output_type": "pyout",
       "prompt_number": 49,
       "text": [
        "{'0', '1'}"
       ]
      }
     ],
     "prompt_number": 49
    },
    {
     "cell_type": "code",
     "collapsed": false,
     "input": [
      "#count - cont\n",
      "k = 22\n",
      "b = float(min(features[k]))\n",
      "a = float(max(features[k]))\n",
      "ch = (a-b)/3.0\n",
      "a, b, ch"
     ],
     "language": "python",
     "metadata": {},
     "outputs": [
      {
       "metadata": {},
       "output_type": "pyout",
       "prompt_number": 50,
       "text": [
        "(99.0, 0.0, 33.0)"
       ]
      }
     ],
     "prompt_number": 50
    },
    {
     "cell_type": "code",
     "collapsed": false,
     "input": [
      "k = 22\n",
      "for event in all_events:\n",
      "    if float(event[k]) <= b+ch:\n",
      "        event[k] = 'low'\n",
      "    elif float(event[k]) <= b+2*ch:\n",
      "        event[k] = 'med'\n",
      "    else:\n",
      "        event[k] = 'hig'"
     ],
     "language": "python",
     "metadata": {},
     "outputs": [],
     "prompt_number": 51
    },
    {
     "cell_type": "code",
     "collapsed": false,
     "input": [
      "#srv_count - cont\n",
      "k = 23\n",
      "b = float(min(features[k]))\n",
      "a = float(max(features[k]))\n",
      "ch = (a-b)/3.0\n",
      "a, b, ch"
     ],
     "language": "python",
     "metadata": {},
     "outputs": [
      {
       "metadata": {},
       "output_type": "pyout",
       "prompt_number": 52,
       "text": [
        "(99.0, 0.0, 33.0)"
       ]
      }
     ],
     "prompt_number": 52
    },
    {
     "cell_type": "code",
     "collapsed": false,
     "input": [
      "k = 23\n",
      "for event in all_events:\n",
      "    if float(event[k]) <= b+ch:\n",
      "        event[k] = 'low'\n",
      "    elif float(event[k]) <= b+2*ch:\n",
      "        event[k] = 'med'\n",
      "    else:\n",
      "        event[k] = 'hig'"
     ],
     "language": "python",
     "metadata": {},
     "outputs": [],
     "prompt_number": 53
    },
    {
     "cell_type": "code",
     "collapsed": false,
     "input": [
      "#serror_rate - cont\n",
      "k = 24\n",
      "b = float(min(features[k]))\n",
      "a = float(max(features[k]))\n",
      "ch = (a-b)/3.0\n",
      "a, b, ch"
     ],
     "language": "python",
     "metadata": {},
     "outputs": [
      {
       "metadata": {},
       "output_type": "pyout",
       "prompt_number": 54,
       "text": [
        "(1.0, 0.0, 0.3333333333333333)"
       ]
      }
     ],
     "prompt_number": 54
    },
    {
     "cell_type": "code",
     "collapsed": false,
     "input": [
      "k = 24\n",
      "for event in all_events:\n",
      "    if float(event[k]) <= b+ch:\n",
      "        event[k] = 'low'\n",
      "    elif float(event[k]) <= b+2*ch:\n",
      "        event[k] = 'med'\n",
      "    else:\n",
      "        event[k] = 'hig'"
     ],
     "language": "python",
     "metadata": {},
     "outputs": [],
     "prompt_number": 55
    },
    {
     "cell_type": "code",
     "collapsed": false,
     "input": [
      "#srv_serror_rate - cont\n",
      "k = 25\n",
      "b = float(min(features[k]))\n",
      "a = float(max(features[k]))\n",
      "ch = (a-b)/3.0\n",
      "a, b, ch"
     ],
     "language": "python",
     "metadata": {},
     "outputs": [
      {
       "metadata": {},
       "output_type": "pyout",
       "prompt_number": 56,
       "text": [
        "(1.0, 0.0, 0.3333333333333333)"
       ]
      }
     ],
     "prompt_number": 56
    },
    {
     "cell_type": "code",
     "collapsed": false,
     "input": [
      "k = 25\n",
      "for event in all_events:\n",
      "    if float(event[k]) <= b+ch:\n",
      "        event[k] = 'low'\n",
      "    elif float(event[k]) <= b+2*ch:\n",
      "        event[k] = 'med'\n",
      "    else:\n",
      "        event[k] = 'hig'"
     ],
     "language": "python",
     "metadata": {},
     "outputs": [],
     "prompt_number": 57
    },
    {
     "cell_type": "code",
     "collapsed": false,
     "input": [
      "#rerror_rate - cont\n",
      "k = 26\n",
      "b = float(min(features[k]))\n",
      "a = float(max(features[k]))\n",
      "ch = (a-b)/3.0\n",
      "a, b, ch"
     ],
     "language": "python",
     "metadata": {},
     "outputs": [
      {
       "metadata": {},
       "output_type": "pyout",
       "prompt_number": 58,
       "text": [
        "(1.0, 0.0, 0.3333333333333333)"
       ]
      }
     ],
     "prompt_number": 58
    },
    {
     "cell_type": "code",
     "collapsed": false,
     "input": [
      "k = 26\n",
      "for event in all_events:\n",
      "    if float(event[k]) <= b+ch:\n",
      "        event[k] = 'low'\n",
      "    elif float(event[k]) <= b+2*ch:\n",
      "        event[k] = 'med'\n",
      "    else:\n",
      "        event[k] = 'hig'"
     ],
     "language": "python",
     "metadata": {},
     "outputs": [],
     "prompt_number": 59
    },
    {
     "cell_type": "code",
     "collapsed": false,
     "input": [
      "#srv_rerror_rate - cont\n",
      "k = 27\n",
      "b = float(min(features[k]))\n",
      "a = float(max(features[k]))\n",
      "ch = (a-b)/3.0\n",
      "a, b, ch"
     ],
     "language": "python",
     "metadata": {},
     "outputs": [
      {
       "metadata": {},
       "output_type": "pyout",
       "prompt_number": 60,
       "text": [
        "(1.0, 0.0, 0.3333333333333333)"
       ]
      }
     ],
     "prompt_number": 60
    },
    {
     "cell_type": "code",
     "collapsed": false,
     "input": [
      "k = 27\n",
      "for event in all_events:\n",
      "    if float(event[k]) <= b+ch:\n",
      "        event[k] = 'low'\n",
      "    elif float(event[k]) <= b+2*ch:\n",
      "        event[k] = 'med'\n",
      "    else:\n",
      "        event[k] = 'hig'"
     ],
     "language": "python",
     "metadata": {},
     "outputs": [],
     "prompt_number": 61
    },
    {
     "cell_type": "code",
     "collapsed": false,
     "input": [
      "#same_srv_rate - cont\n",
      "k = 28\n",
      "b = float(min(features[k]))\n",
      "a = float(max(features[k]))\n",
      "ch = (a-b)/3.0\n",
      "a, b, ch"
     ],
     "language": "python",
     "metadata": {},
     "outputs": [
      {
       "metadata": {},
       "output_type": "pyout",
       "prompt_number": 62,
       "text": [
        "(1.0, 0.0, 0.3333333333333333)"
       ]
      }
     ],
     "prompt_number": 62
    },
    {
     "cell_type": "code",
     "collapsed": false,
     "input": [
      "k = 28\n",
      "for event in all_events:\n",
      "    if float(event[k]) <= b+ch:\n",
      "        event[k] = 'low'\n",
      "    elif float(event[k]) <= b+2*ch:\n",
      "        event[k] = 'med'\n",
      "    else:\n",
      "        event[k] = 'hig'"
     ],
     "language": "python",
     "metadata": {},
     "outputs": [],
     "prompt_number": 63
    },
    {
     "cell_type": "code",
     "collapsed": false,
     "input": [
      "#diff_srv_rate - cont\n",
      "k = 29\n",
      "b = float(min(features[k]))\n",
      "a = float(max(features[k]))\n",
      "ch = (a-b)/3.0\n",
      "a, b, ch"
     ],
     "language": "python",
     "metadata": {},
     "outputs": [
      {
       "metadata": {},
       "output_type": "pyout",
       "prompt_number": 64,
       "text": [
        "(1.0, 0.0, 0.3333333333333333)"
       ]
      }
     ],
     "prompt_number": 64
    },
    {
     "cell_type": "code",
     "collapsed": false,
     "input": [
      "k = 29\n",
      "for event in all_events:\n",
      "    if float(event[k]) <= b+ch:\n",
      "        event[k] = 'low'\n",
      "    elif float(event[k]) <= b+2*ch:\n",
      "        event[k] = 'med'\n",
      "    else:\n",
      "        event[k] = 'hig'"
     ],
     "language": "python",
     "metadata": {},
     "outputs": [],
     "prompt_number": 65
    },
    {
     "cell_type": "code",
     "collapsed": false,
     "input": [
      "#srv_diff_host_rate - cont\n",
      "k = 30\n",
      "b = float(min(features[k]))\n",
      "a = float(max(features[k]))\n",
      "ch = (a-b)/3.0\n",
      "a, b, ch"
     ],
     "language": "python",
     "metadata": {},
     "outputs": [
      {
       "metadata": {},
       "output_type": "pyout",
       "prompt_number": 66,
       "text": [
        "(1.0, 0.0, 0.3333333333333333)"
       ]
      }
     ],
     "prompt_number": 66
    },
    {
     "cell_type": "code",
     "collapsed": false,
     "input": [
      "k = 30\n",
      "for event in all_events:\n",
      "    if float(event[k]) <= b+ch:\n",
      "        event[k] = 'low'\n",
      "    elif float(event[k]) <= b+2*ch:\n",
      "        event[k] = 'med'\n",
      "    else:\n",
      "        event[k] = 'hig'"
     ],
     "language": "python",
     "metadata": {},
     "outputs": [],
     "prompt_number": 67
    },
    {
     "cell_type": "code",
     "collapsed": false,
     "input": [
      "#dst_host_count - cont\n",
      "k = 31\n",
      "b = float(min(features[k]))\n",
      "a = float(max(features[k]))\n",
      "ch = (a-b)/3.0\n",
      "a, b, ch"
     ],
     "language": "python",
     "metadata": {},
     "outputs": [
      {
       "metadata": {},
       "output_type": "pyout",
       "prompt_number": 68,
       "text": [
        "(99.0, 0.0, 33.0)"
       ]
      }
     ],
     "prompt_number": 68
    },
    {
     "cell_type": "code",
     "collapsed": false,
     "input": [
      "k = 31\n",
      "for event in all_events:\n",
      "    if float(event[k]) <= b+ch:\n",
      "        event[k] = 'low'\n",
      "    elif float(event[k]) <= b+2*ch:\n",
      "        event[k] = 'med'\n",
      "    else:\n",
      "        event[k] = 'hig'"
     ],
     "language": "python",
     "metadata": {},
     "outputs": [],
     "prompt_number": 69
    },
    {
     "cell_type": "code",
     "collapsed": false,
     "input": [
      "#dst_host_srv_count - cont\n",
      "k = 32\n",
      "b = float(min(features[k]))\n",
      "a = float(max(features[k]))\n",
      "ch = (a-b)/3.0\n",
      "a, b, ch"
     ],
     "language": "python",
     "metadata": {},
     "outputs": [
      {
       "metadata": {},
       "output_type": "pyout",
       "prompt_number": 70,
       "text": [
        "(99.0, 0.0, 33.0)"
       ]
      }
     ],
     "prompt_number": 70
    },
    {
     "cell_type": "code",
     "collapsed": false,
     "input": [
      "k = 32\n",
      "for event in all_events:\n",
      "    if float(event[k]) <= b+ch:\n",
      "        event[k] = 'low'\n",
      "    elif float(event[k]) <= b+2*ch:\n",
      "        event[k] = 'med'\n",
      "    else:\n",
      "        event[k] = 'hig'"
     ],
     "language": "python",
     "metadata": {},
     "outputs": [],
     "prompt_number": 71
    },
    {
     "cell_type": "code",
     "collapsed": false,
     "input": [
      "#dst_host_same_srv_rate - cont\n",
      "k = 33\n",
      "b = float(min(features[k]))\n",
      "a = float(max(features[k]))\n",
      "ch = (a-b)/3.0\n",
      "a, b, ch"
     ],
     "language": "python",
     "metadata": {},
     "outputs": [
      {
       "metadata": {},
       "output_type": "pyout",
       "prompt_number": 72,
       "text": [
        "(1.0, 0.0, 0.3333333333333333)"
       ]
      }
     ],
     "prompt_number": 72
    },
    {
     "cell_type": "code",
     "collapsed": false,
     "input": [
      "k = 33\n",
      "for event in all_events:\n",
      "    if float(event[k]) <= b+ch:\n",
      "        event[k] = 'low'\n",
      "    elif float(event[k]) <= b+2*ch:\n",
      "        event[k] = 'med'\n",
      "    else:\n",
      "        event[k] = 'hig'"
     ],
     "language": "python",
     "metadata": {},
     "outputs": [],
     "prompt_number": 73
    },
    {
     "cell_type": "code",
     "collapsed": false,
     "input": [
      "#dst_host_diff_srv_rate - cont\n",
      "k = 34\n",
      "b = float(min(features[k]))\n",
      "a = float(max(features[k]))\n",
      "ch = (a-b)/3.0\n",
      "a, b, ch"
     ],
     "language": "python",
     "metadata": {},
     "outputs": [
      {
       "metadata": {},
       "output_type": "pyout",
       "prompt_number": 74,
       "text": [
        "(1.0, 0.0, 0.3333333333333333)"
       ]
      }
     ],
     "prompt_number": 74
    },
    {
     "cell_type": "code",
     "collapsed": false,
     "input": [
      "k = 34\n",
      "for event in all_events:\n",
      "    if float(event[k]) <= b+ch:\n",
      "        event[k] = 'low'\n",
      "    elif float(event[k]) <= b+2*ch:\n",
      "        event[k] = 'med'\n",
      "    else:\n",
      "        event[k] = 'hig'"
     ],
     "language": "python",
     "metadata": {},
     "outputs": [],
     "prompt_number": 75
    },
    {
     "cell_type": "code",
     "collapsed": false,
     "input": [
      "#dst_host_same_src_port_rate - cont\n",
      "k = 35\n",
      "b = float(min(features[k]))\n",
      "a = float(max(features[k]))\n",
      "ch = (a-b)/3.0\n",
      "a, b, ch"
     ],
     "language": "python",
     "metadata": {},
     "outputs": [
      {
       "metadata": {},
       "output_type": "pyout",
       "prompt_number": 76,
       "text": [
        "(1.0, 0.0, 0.3333333333333333)"
       ]
      }
     ],
     "prompt_number": 76
    },
    {
     "cell_type": "code",
     "collapsed": false,
     "input": [
      "k = 35\n",
      "for event in all_events:\n",
      "    if float(event[k]) <= b+ch:\n",
      "        event[k] = 'low'\n",
      "    elif float(event[k]) <= b+2*ch:\n",
      "        event[k] = 'med'\n",
      "    else:\n",
      "        event[k] = 'hig'"
     ],
     "language": "python",
     "metadata": {},
     "outputs": [],
     "prompt_number": 77
    },
    {
     "cell_type": "code",
     "collapsed": false,
     "input": [
      "#dst_host_srv_diff_host_rate - cont\n",
      "k = 36\n",
      "b = float(min(features[k]))\n",
      "a = float(max(features[k]))\n",
      "ch = (a-b)/3.0\n",
      "a, b, ch"
     ],
     "language": "python",
     "metadata": {},
     "outputs": [
      {
       "metadata": {},
       "output_type": "pyout",
       "prompt_number": 78,
       "text": [
        "(1.0, 0.0, 0.3333333333333333)"
       ]
      }
     ],
     "prompt_number": 78
    },
    {
     "cell_type": "code",
     "collapsed": false,
     "input": [
      "k = 36\n",
      "for event in all_events:\n",
      "    if float(event[k]) <= b+ch:\n",
      "        event[k] = 'low'\n",
      "    elif float(event[k]) <= b+2*ch:\n",
      "        event[k] = 'med'\n",
      "    else:\n",
      "        event[k] = 'hig'"
     ],
     "language": "python",
     "metadata": {},
     "outputs": [],
     "prompt_number": 79
    },
    {
     "cell_type": "code",
     "collapsed": false,
     "input": [
      "#dst_host_serror_rate - cont\n",
      "k = 37\n",
      "b = float(min(features[k]))\n",
      "a = float(max(features[k]))\n",
      "ch = (a-b)/3.0\n",
      "a, b, ch"
     ],
     "language": "python",
     "metadata": {},
     "outputs": [
      {
       "metadata": {},
       "output_type": "pyout",
       "prompt_number": 80,
       "text": [
        "(1.0, 0.0, 0.3333333333333333)"
       ]
      }
     ],
     "prompt_number": 80
    },
    {
     "cell_type": "code",
     "collapsed": false,
     "input": [
      "k = 37\n",
      "for event in all_events:\n",
      "    if float(event[k]) <= b+ch:\n",
      "        event[k] = 'low'\n",
      "    elif float(event[k]) <= b+2*ch:\n",
      "        event[k] = 'med'\n",
      "    else:\n",
      "        event[k] = 'hig'"
     ],
     "language": "python",
     "metadata": {},
     "outputs": [],
     "prompt_number": 81
    },
    {
     "cell_type": "code",
     "collapsed": false,
     "input": [
      "#dst_host_srv_serror_rate - cont\n",
      "k = 38\n",
      "b = float(min(features[k]))\n",
      "a = float(max(features[k]))\n",
      "ch = (a-b)/3.0\n",
      "a, b, ch"
     ],
     "language": "python",
     "metadata": {},
     "outputs": [
      {
       "metadata": {},
       "output_type": "pyout",
       "prompt_number": 82,
       "text": [
        "(1.0, 0.0, 0.3333333333333333)"
       ]
      }
     ],
     "prompt_number": 82
    },
    {
     "cell_type": "code",
     "collapsed": false,
     "input": [
      "k = 38\n",
      "for event in all_events:\n",
      "    if float(event[k]) <= b+ch:\n",
      "        event[k] = 'low'\n",
      "    elif float(event[k]) <= b+2*ch:\n",
      "        event[k] = 'med'\n",
      "    else:\n",
      "        event[k] = 'hig'"
     ],
     "language": "python",
     "metadata": {},
     "outputs": [],
     "prompt_number": 83
    },
    {
     "cell_type": "code",
     "collapsed": false,
     "input": [
      "#dst_host_rerror_rate - cont\n",
      "k = 39\n",
      "b = float(min(features[k]))\n",
      "a = float(max(features[k]))\n",
      "ch = (a-b)/3.0\n",
      "a, b, ch"
     ],
     "language": "python",
     "metadata": {},
     "outputs": [
      {
       "metadata": {},
       "output_type": "pyout",
       "prompt_number": 84,
       "text": [
        "(1.0, 0.0, 0.3333333333333333)"
       ]
      }
     ],
     "prompt_number": 84
    },
    {
     "cell_type": "code",
     "collapsed": false,
     "input": [
      "k = 39\n",
      "for event in all_events:\n",
      "    if float(event[k]) <= b+ch:\n",
      "        event[k] = 'low'\n",
      "    elif float(event[k]) <= b+2*ch:\n",
      "        event[k] = 'med'\n",
      "    else:\n",
      "        event[k] = 'hig'"
     ],
     "language": "python",
     "metadata": {},
     "outputs": [],
     "prompt_number": 85
    },
    {
     "cell_type": "code",
     "collapsed": false,
     "input": [
      "#dst_host_srv_rerror_rate - cont\n",
      "k = 40\n",
      "b = float(min(features[k]))\n",
      "a = float(max(features[k]))\n",
      "ch = (a-b)/3.0\n",
      "a, b, ch"
     ],
     "language": "python",
     "metadata": {},
     "outputs": [
      {
       "metadata": {},
       "output_type": "pyout",
       "prompt_number": 86,
       "text": [
        "(1.0, 0.0, 0.3333333333333333)"
       ]
      }
     ],
     "prompt_number": 86
    },
    {
     "cell_type": "code",
     "collapsed": false,
     "input": [
      "k = 40\n",
      "for event in all_events:\n",
      "    if float(event[k]) <= b+ch:\n",
      "        event[k] = 'low'\n",
      "    elif float(event[k]) <= b+2*ch:\n",
      "        event[k] = 'med'\n",
      "    else:\n",
      "        event[k] = 'hig'"
     ],
     "language": "python",
     "metadata": {},
     "outputs": [],
     "prompt_number": 87
    },
    {
     "cell_type": "code",
     "collapsed": false,
     "input": [
      "#label - symb\n",
      "labelset = set(features[41])\n",
      "labelset"
     ],
     "language": "python",
     "metadata": {},
     "outputs": [
      {
       "metadata": {},
       "output_type": "pyout",
       "prompt_number": 88,
       "text": [
        "{'back.\\n',\n",
        " 'buffer_overflow.\\n',\n",
        " 'ftp_write.\\n',\n",
        " 'guess_passwd.\\n',\n",
        " 'imap.\\n',\n",
        " 'ipsweep.\\n',\n",
        " 'land.\\n',\n",
        " 'loadmodule.\\n',\n",
        " 'multihop.\\n',\n",
        " 'neptune.\\n',\n",
        " 'nmap.\\n',\n",
        " 'normal.\\n',\n",
        " 'perl.\\n',\n",
        " 'phf.\\n',\n",
        " 'pod.\\n',\n",
        " 'portsweep.\\n',\n",
        " 'rootkit.\\n',\n",
        " 'satan.\\n',\n",
        " 'smurf.\\n',\n",
        " 'spy.\\n',\n",
        " 'teardrop.\\n',\n",
        " 'warezclient.\\n',\n",
        " 'warezmaster.\\n'}"
       ]
      }
     ],
     "prompt_number": 88
    },
    {
     "cell_type": "code",
     "collapsed": false,
     "input": [
      "labelset = list(labelset)\n",
      "labelset"
     ],
     "language": "python",
     "metadata": {},
     "outputs": [
      {
       "metadata": {},
       "output_type": "pyout",
       "prompt_number": 89,
       "text": [
        "['perl.\\n',\n",
        " 'smurf.\\n',\n",
        " 'ipsweep.\\n',\n",
        " 'ftp_write.\\n',\n",
        " 'nmap.\\n',\n",
        " 'back.\\n',\n",
        " 'guess_passwd.\\n',\n",
        " 'pod.\\n',\n",
        " 'teardrop.\\n',\n",
        " 'multihop.\\n',\n",
        " 'rootkit.\\n',\n",
        " 'warezclient.\\n',\n",
        " 'buffer_overflow.\\n',\n",
        " 'portsweep.\\n',\n",
        " 'phf.\\n',\n",
        " 'normal.\\n',\n",
        " 'loadmodule.\\n',\n",
        " 'neptune.\\n',\n",
        " 'land.\\n',\n",
        " 'satan.\\n',\n",
        " 'warezmaster.\\n',\n",
        " 'imap.\\n',\n",
        " 'spy.\\n']"
       ]
      }
     ],
     "prompt_number": 89
    },
    {
     "cell_type": "heading",
     "level": 2,
     "metadata": {},
     "source": [
      "Building the vectors"
     ]
    },
    {
     "cell_type": "code",
     "collapsed": false,
     "input": [
      "rel_events = []\n",
      "for event in all_events:\n",
      "    rel_events.append([event[k] for k in [1,2,3,4,22,23,28,29,31,32,33,34,35,-1]])"
     ],
     "language": "python",
     "metadata": {},
     "outputs": [],
     "prompt_number": 90
    },
    {
     "cell_type": "code",
     "collapsed": false,
     "input": [
      "rel_events[0]"
     ],
     "language": "python",
     "metadata": {},
     "outputs": [
      {
       "metadata": {},
       "output_type": "pyout",
       "prompt_number": 91,
       "text": [
        "['tcp',\n",
        " 'http',\n",
        " 'SF',\n",
        " 'low',\n",
        " 'low',\n",
        " 'low',\n",
        " 'hig',\n",
        " 'low',\n",
        " 'low',\n",
        " 'low',\n",
        " 'hig',\n",
        " 'low',\n",
        " 'low',\n",
        " 'normal.\\n']"
       ]
      }
     ],
     "prompt_number": 91
    },
    {
     "cell_type": "code",
     "collapsed": false,
     "input": [
      "F = len(all_events[0])\n",
      "F"
     ],
     "language": "python",
     "metadata": {},
     "outputs": [
      {
       "metadata": {},
       "output_type": "pyout",
       "prompt_number": 92,
       "text": [
        "42"
       ]
      }
     ],
     "prompt_number": 92
    },
    {
     "cell_type": "code",
     "collapsed": false,
     "input": [
      "symb_feat = [[] for i in xrange(F-1)]\n",
      "for event in all_events:\n",
      "    for i in xrange(F-1):\n",
      "        symb_feat[i].append(event[i])"
     ],
     "language": "python",
     "metadata": {},
     "outputs": [],
     "prompt_number": 93
    },
    {
     "cell_type": "code",
     "collapsed": false,
     "input": [
      "len(symb_feat)"
     ],
     "language": "python",
     "metadata": {},
     "outputs": [
      {
       "metadata": {},
       "output_type": "pyout",
       "prompt_number": 94,
       "text": [
        "41"
       ]
      }
     ],
     "prompt_number": 94
    },
    {
     "cell_type": "code",
     "collapsed": false,
     "input": [
      "for i in xrange(len(symb_feat)):\n",
      "    symb_feat[i] = set(symb_feat[i])"
     ],
     "language": "python",
     "metadata": {},
     "outputs": [],
     "prompt_number": 95
    },
    {
     "cell_type": "code",
     "collapsed": false,
     "input": [
      "symb_feat[0]"
     ],
     "language": "python",
     "metadata": {},
     "outputs": [
      {
       "metadata": {},
       "output_type": "pyout",
       "prompt_number": 96,
       "text": [
        "{'hig', 'low', 'med'}"
       ]
      }
     ],
     "prompt_number": 96
    },
    {
     "cell_type": "code",
     "collapsed": false,
     "input": [
      "K = 0\n",
      "for lis in symb_feat:\n",
      "    K += len(lis)\n",
      "    \n",
      "K"
     ],
     "language": "python",
     "metadata": {},
     "outputs": [
      {
       "metadata": {},
       "output_type": "pyout",
       "prompt_number": 97,
       "text": [
        "182"
       ]
      }
     ],
     "prompt_number": 97
    },
    {
     "cell_type": "code",
     "collapsed": false,
     "input": [
      "cat_events = [[] for i in xrange(len(labelset))]\n",
      "for event in all_events:\n",
      "    ind = labelset.index(event[-1])\n",
      "    cat_events[ind].append(event[:-1])"
     ],
     "language": "python",
     "metadata": {},
     "outputs": [],
     "prompt_number": 98
    },
    {
     "cell_type": "code",
     "collapsed": false,
     "input": [
      "p = labelset.index('normal.\\n')\n",
      "p"
     ],
     "language": "python",
     "metadata": {},
     "outputs": [
      {
       "metadata": {},
       "output_type": "pyout",
       "prompt_number": 99,
       "text": [
        "15"
       ]
      }
     ],
     "prompt_number": 99
    },
    {
     "cell_type": "code",
     "collapsed": false,
     "input": [
      "profile = np.array([0.0 for j in xrange(K)])\n",
      "\n",
      "for event in cat_events[p]:\n",
      "    vector_ind = 0\n",
      "    field_ind = 0\n",
      "    #profiles[u,K] += 1\n",
      "    \n",
      "    for field in symb_feat:\n",
      "        for ele in field:\n",
      "            if event[field_ind] == ele:\n",
      "                profile[vector_ind] += 1\n",
      "            vector_ind += 1\n",
      "        field_ind += 1\n",
      "        \n",
      "profile = profile/len(cat_events[p])"
     ],
     "language": "python",
     "metadata": {},
     "outputs": [],
     "prompt_number": 481
    },
    {
     "cell_type": "code",
     "collapsed": false,
     "input": [
      "profile"
     ],
     "language": "python",
     "metadata": {},
     "outputs": [
      {
       "metadata": {},
       "output_type": "pyout",
       "prompt_number": 482,
       "text": [
        "array([  1.97136043e-01,   1.32404038e-02,   7.89623553e-01,\n",
        "         3.08394498e-05,   0.00000000e+00,   5.52026152e-03,\n",
        "         0.00000000e+00,   9.86656798e-02,   0.00000000e+00,\n",
        "         7.57211291e-02,   0.00000000e+00,   0.00000000e+00,\n",
        "         1.02798166e-05,   3.99884866e-03,   0.00000000e+00,\n",
        "         3.90427435e-02,   1.43917433e-04,   0.00000000e+00,\n",
        "         8.12105512e-04,   0.00000000e+00,   0.00000000e+00,\n",
        "         3.83437159e-03,   0.00000000e+00,   0.00000000e+00,\n",
        "         0.00000000e+00,   0.00000000e+00,   0.00000000e+00,\n",
        "         0.00000000e+00,   0.00000000e+00,   3.90633031e-03,\n",
        "         4.81095417e-03,   0.00000000e+00,   0.00000000e+00,\n",
        "         0.00000000e+00,   0.00000000e+00,   3.54653673e-03,\n",
        "         0.00000000e+00,   1.02798166e-05,   6.02602850e-02,\n",
        "         0.00000000e+00,   0.00000000e+00,   0.00000000e+00,\n",
        "         2.05596332e-05,   0.00000000e+00,   2.25127984e-03,\n",
        "         0.00000000e+00,   0.00000000e+00,   0.00000000e+00,\n",
        "         2.26155965e-03,   0.00000000e+00,   0.00000000e+00,\n",
        "         9.25183495e-05,   4.31752298e-04,   1.02798166e-05,\n",
        "         0.00000000e+00,   0.00000000e+00,   0.00000000e+00,\n",
        "         0.00000000e+00,   0.00000000e+00,   6.36176731e-01,\n",
        "         0.00000000e+00,   0.00000000e+00,   0.00000000e+00,\n",
        "         0.00000000e+00,   5.34550464e-04,   0.00000000e+00,\n",
        "         0.00000000e+00,   5.78959271e-02,   1.02798166e-05,\n",
        "         1.02798166e-05,   3.18674315e-04,   7.19587163e-05,\n",
        "         1.74756882e-04,   5.55110097e-04,   5.24270647e-04,\n",
        "         0.00000000e+00,   5.49045005e-02,   0.00000000e+00,\n",
        "         6.88747713e-04,   9.42751701e-01,   6.20284134e-02,\n",
        "         8.18078085e-01,   1.19893501e-01,   2.01278809e-02,\n",
        "         9.70610004e-01,   9.26211476e-03,   4.06155554e-02,\n",
        "         9.42731142e-01,   1.66533029e-02,   1.25105368e-02,\n",
        "         9.42659183e-03,   9.78062871e-01,   9.09763770e-03,\n",
        "         9.75821871e-01,   1.50804910e-02,   1.03065441e-01,\n",
        "         2.32693929e-01,   6.64240630e-01,   3.51775324e-02,\n",
        "         1.08020313e-01,   8.56802155e-01,   6.45675281e-02,\n",
        "         1.14085405e-01,   8.21347067e-01,   2.20296470e-02,\n",
        "         9.37323958e-01,   4.06463949e-02,   3.38719957e-02,\n",
        "         8.76333806e-01,   8.97941981e-02])"
       ]
      }
     ],
     "prompt_number": 482
    },
    {
     "cell_type": "code",
     "collapsed": false,
     "input": [
      "np.sum(profile[:3])"
     ],
     "language": "python",
     "metadata": {},
     "outputs": [
      {
       "metadata": {},
       "output_type": "pyout",
       "prompt_number": 483,
       "text": [
        "1.0"
       ]
      }
     ],
     "prompt_number": 483
    },
    {
     "cell_type": "code",
     "collapsed": false,
     "input": [
      "def score(event):\n",
      "    vector_ind = 0\n",
      "    field_ind = 1\n",
      "    vec_eve = np.array([0.0 for i in xrange(K)])\n",
      "    \n",
      "    for field in symb_feat:\n",
      "        for ele in field:\n",
      "            if event[field_ind] == ele:\n",
      "                vec_eve[vector_ind] = 1\n",
      "            vector_ind += 1\n",
      "        field_ind += 1\n",
      "    \n",
      "    val = np.dot(profile, vec_eve)/(np.linalg.norm(profile)*np.linalg.norm(vec_eve))\n",
      "    return val"
     ],
     "language": "python",
     "metadata": {},
     "outputs": [],
     "prompt_number": 484
    },
    {
     "cell_type": "code",
     "collapsed": false,
     "input": [
      "scores = [[] for i in xrange(len(labelset))]\n",
      "\n",
      "for event in all_events:\n",
      "    ind = labelset.index(event[-1])\n",
      "    scores[ind].append(score(event))"
     ],
     "language": "python",
     "metadata": {},
     "outputs": [],
     "prompt_number": 485
    },
    {
     "cell_type": "code",
     "collapsed": false,
     "input": [
      "min(scores[15]), max(scores[15])"
     ],
     "language": "python",
     "metadata": {},
     "outputs": [
      {
       "metadata": {},
       "output_type": "pyout",
       "prompt_number": 486,
       "text": [
        "(0.29277910091030995, 0.70611660657513731)"
       ]
      }
     ],
     "prompt_number": 486
    },
    {
     "cell_type": "code",
     "collapsed": false,
     "input": [
      "min(scores[0]), max(scores[0])"
     ],
     "language": "python",
     "metadata": {},
     "outputs": [
      {
       "metadata": {},
       "output_type": "pyout",
       "prompt_number": 487,
       "text": [
        "(0.55984604852591313, 0.55984604852591313)"
       ]
      }
     ],
     "prompt_number": 487
    },
    {
     "cell_type": "code",
     "collapsed": false,
     "input": [
      "for i in xrange(len(labelset)):\n",
      "    print labelset[i], len(cat_events[i])\n",
      "    print min(scores[i]), max(scores[i])\n",
      "    print '\\n'"
     ],
     "language": "python",
     "metadata": {},
     "outputs": [
      {
       "output_type": "stream",
       "stream": "stdout",
       "text": [
        "perl.\n",
        "3\n",
        "0.559846048526 0.559846048526\n",
        "\n",
        "\n",
        "smurf.\n",
        "280790\n",
        "0.488907966725 0.494420791853\n",
        "\n",
        "\n",
        "ipsweep.\n",
        "1247\n",
        "0.544814810285 0.695174202036\n",
        "\n",
        "\n",
        "ftp_write.\n",
        "8\n",
        "0.450877406173 0.638285059026\n",
        "\n",
        "\n",
        "nmap.\n",
        "231\n",
        "0.544749193074 0.585332948707\n",
        "\n",
        "\n",
        "back.\n",
        "2203\n",
        "0.447270418263 0.53889457083\n",
        "\n",
        "\n",
        "guess_passwd.\n",
        "53\n",
        "0.544970528743 0.706116606575\n",
        "\n",
        "\n",
        "pod.\n",
        "264\n",
        "0.488572045777 0.494420791853\n",
        "\n",
        "\n",
        "teardrop.\n",
        "979\n",
        "0.585332948707 0.677615232111\n",
        "\n",
        "\n",
        "multihop.\n",
        "7\n",
        "0.310802288123 0.634930746349\n",
        "\n",
        "\n",
        "rootkit.\n",
        "10\n",
        "0.30902866469 0.634930746349\n",
        "\n",
        "\n",
        "warezclient.\n",
        "1020\n",
        "0.460801274891 0.640081207771\n",
        "\n",
        "\n",
        "buffer_overflow.\n",
        "30\n",
        "0.383962540862 0.634779924699\n",
        "\n",
        "\n",
        "portsweep.\n",
        "1040\n",
        "0.47875688617 0.610588719605\n",
        "\n",
        "\n",
        "phf.\n",
        "4\n",
        "0.528652409667 0.528652409667\n",
        "\n",
        "\n",
        "normal.\n",
        "97278\n",
        "0.29277910091 0.706116606575\n",
        "\n",
        "\n",
        "loadmodule.\n",
        "9\n",
        "0.381057755052 0.634779924699\n",
        "\n",
        "\n",
        "neptune.\n",
        "107201\n",
        "0.544799140504 0.610588719605\n",
        "\n",
        "\n",
        "land.\n",
        "21\n",
        "0.545013620643 0.545257481623\n",
        "\n",
        "\n",
        "satan.\n",
        "1589\n",
        "0.544807954756 0.643965354947\n",
        "\n",
        "\n",
        "warezmaster.\n",
        "20\n",
        "0.54669714283 0.638285059026\n",
        "\n",
        "\n",
        "imap.\n",
        "12\n",
        "0.386697897157 0.63456544456\n",
        "\n",
        "\n",
        "spy.\n",
        "2\n",
        "0.634779924699 0.634779924699\n",
        "\n",
        "\n"
       ]
      }
     ],
     "prompt_number": 488
    },
    {
     "cell_type": "code",
     "collapsed": false,
     "input": [
      "len(cat_events[15])"
     ],
     "language": "python",
     "metadata": {},
     "outputs": [
      {
       "metadata": {},
       "output_type": "pyout",
       "prompt_number": 489,
       "text": [
        "97278"
       ]
      }
     ],
     "prompt_number": 489
    },
    {
     "cell_type": "code",
     "collapsed": false,
     "input": [
      "len(labelset)"
     ],
     "language": "python",
     "metadata": {},
     "outputs": [
      {
       "metadata": {},
       "output_type": "pyout",
       "prompt_number": 361,
       "text": [
        "23"
       ]
      }
     ],
     "prompt_number": 361
    },
    {
     "cell_type": "code",
     "collapsed": false,
     "input": [
      "p = labelset.index('satan.\\n')\n",
      "p"
     ],
     "language": "python",
     "metadata": {},
     "outputs": [
      {
       "metadata": {},
       "output_type": "pyout",
       "prompt_number": 514,
       "text": [
        "19"
       ]
      }
     ],
     "prompt_number": 514
    },
    {
     "cell_type": "code",
     "collapsed": false,
     "input": [
      "bins = np.linspace(0.29, 0.71, 50)\n",
      "labels = [15, 1,19, 17,2,5,13]\n",
      "\n",
      "for i in labels:\n",
      "    plt.hist(scores[i], bins, alpha=0.5, label=labelset[i][:-2])\n",
      "    \n",
      "plt.legend(loc='upper left')"
     ],
     "language": "python",
     "metadata": {},
     "outputs": [
      {
       "metadata": {},
       "output_type": "pyout",
       "prompt_number": 530,
       "text": [
        "<matplotlib.legend.Legend at 0x163280c10>"
       ]
      },
      {
       "metadata": {},
       "output_type": "display_data",
       "png": "[encoded data removed]",
       "text": [
        "<matplotlib.figure.Figure at 0x163285410>"
       ]
      }
     ],
     "prompt_number": 530
    },
    {
     "cell_type": "code",
     "collapsed": false,
     "input": [
      "fig = plt.figure()\n",
      "ax = fig.add_subplot(111)\n",
      "ax.hist(scores[19],20)"
     ],
     "language": "python",
     "metadata": {},
     "outputs": [
      {
       "metadata": {},
       "output_type": "pyout",
       "prompt_number": 491,
       "text": [
        "(array([  1.00000000e+00,   1.80000000e+02,   1.21900000e+03,\n",
        "          3.00000000e+00,   0.00000000e+00,   0.00000000e+00,\n",
        "          1.00000000e+00,   2.60000000e+01,   1.44000000e+02,\n",
        "          0.00000000e+00,   0.00000000e+00,   0.00000000e+00,\n",
        "          1.00000000e+00,   1.00000000e+00,   0.00000000e+00,\n",
        "          0.00000000e+00,   0.00000000e+00,   0.00000000e+00,\n",
        "          1.10000000e+01,   2.00000000e+00]),\n",
        " array([ 0.54480795,  0.54976582,  0.55472369,  0.55968156,  0.56463943,\n",
        "         0.5695973 ,  0.57455517,  0.57951304,  0.58447091,  0.58942878,\n",
        "         0.59438665,  0.59934452,  0.60430239,  0.60926026,  0.61421813,\n",
        "         0.619176  ,  0.62413387,  0.62909174,  0.63404961,  0.63900748,\n",
        "         0.64396535]),\n",
        " <a list of 20 Patch objects>)"
       ]
      },
      {
       "metadata": {},
       "output_type": "display_data",
       "png": "[encoded data removed]",
       "text": [
        "<matplotlib.figure.Figure at 0x1566f5750>"
       ]
      }
     ],
     "prompt_number": 491
    },
    {
     "cell_type": "code",
     "collapsed": false,
     "input": [
      "fig = plt.figure()\n",
      "ax = fig.add_subplot(111)\n",
      "ax.hist(scores[21],20)"
     ],
     "language": "python",
     "metadata": {},
     "outputs": [
      {
       "metadata": {},
       "output_type": "pyout",
       "prompt_number": 492,
       "text": [
        "(array([ 2.,  0.,  0.,  0.,  0.,  0.,  0.,  0.,  0.,  0.,  0.,  0.,  5.,\n",
        "         0.,  1.,  0.,  0.,  0.,  0.,  4.]),\n",
        " array([ 0.3866979 ,  0.39909127,  0.41148465,  0.42387803,  0.43627141,\n",
        "         0.44866478,  0.46105816,  0.47345154,  0.48584492,  0.49823829,\n",
        "         0.51063167,  0.52302505,  0.53541843,  0.5478118 ,  0.56020518,\n",
        "         0.57259856,  0.58499194,  0.59738531,  0.60977869,  0.62217207,\n",
        "         0.63456544]),\n",
        " <a list of 20 Patch objects>)"
       ]
      },
      {
       "metadata": {},
       "output_type": "display_data",
       "png": "[encoded data removed]",
       "text": [
        "<matplotlib.figure.Figure at 0x159bf1690>"
       ]
      }
     ],
     "prompt_number": 492
    },
    {
     "cell_type": "code",
     "collapsed": false,
     "input": [
      "fig = plt.figure()\n",
      "ax = fig.add_subplot(111)\n",
      "ax.hist(scores[15],20)"
     ],
     "language": "python",
     "metadata": {},
     "outputs": [
      {
       "metadata": {},
       "output_type": "pyout",
       "prompt_number": 529,
       "text": [
        "(array([  5.00000000e+00,   2.00000000e+00,   0.00000000e+00,\n",
        "          0.00000000e+00,   4.00000000e+01,   1.00000000e+00,\n",
        "          1.00000000e+00,   4.00000000e+00,   1.11000000e+02,\n",
        "          1.30000000e+01,   1.42000000e+02,   1.33400000e+03,\n",
        "          1.48100000e+03,   1.29340000e+04,   1.87430000e+04,\n",
        "          2.43760000e+04,   1.67800000e+03,   0.00000000e+00,\n",
        "          0.00000000e+00,   3.64130000e+04]),\n",
        " array([ 0.2927791 ,  0.31344598,  0.33411285,  0.35477973,  0.3754466 ,\n",
        "         0.39611348,  0.41678035,  0.43744723,  0.4581141 ,  0.47878098,\n",
        "         0.49944785,  0.52011473,  0.5407816 ,  0.56144848,  0.58211535,\n",
        "         0.60278223,  0.62344911,  0.64411598,  0.66478286,  0.68544973,\n",
        "         0.70611661]),\n",
        " <a list of 20 Patch objects>)"
       ]
      },
      {
       "metadata": {},
       "output_type": "display_data",
       "png": "[encoded data removed]",
       "text": [
        "<matplotlib.figure.Figure at 0x1602e1650>"
       ]
      }
     ],
     "prompt_number": 529
    },
    {
     "cell_type": "code",
     "collapsed": false,
     "input": [
      "fig = plt.figure()\n",
      "ax = fig.add_subplot(111)\n",
      "ax.hist(scores[17],20)"
     ],
     "language": "python",
     "metadata": {},
     "outputs": [
      {
       "metadata": {},
       "output_type": "pyout",
       "prompt_number": 494,
       "text": [
        "(array([  4.62300000e+03,   9.33000000e+02,   8.21790000e+04,\n",
        "          1.92740000e+04,   0.00000000e+00,   0.00000000e+00,\n",
        "          0.00000000e+00,   0.00000000e+00,   0.00000000e+00,\n",
        "          0.00000000e+00,   0.00000000e+00,   0.00000000e+00,\n",
        "          0.00000000e+00,   0.00000000e+00,   0.00000000e+00,\n",
        "          0.00000000e+00,   0.00000000e+00,   0.00000000e+00,\n",
        "          1.68000000e+02,   2.40000000e+01]),\n",
        " array([ 0.54479914,  0.54808862,  0.5513781 ,  0.55466758,  0.55795706,\n",
        "         0.56124654,  0.56453601,  0.56782549,  0.57111497,  0.57440445,\n",
        "         0.57769393,  0.58098341,  0.58427289,  0.58756237,  0.59085185,\n",
        "         0.59414132,  0.5974308 ,  0.60072028,  0.60400976,  0.60729924,\n",
        "         0.61058872]),\n",
        " <a list of 20 Patch objects>)"
       ]
      },
      {
       "metadata": {},
       "output_type": "display_data",
       "png": "[encoded data removed]",
       "text": [
        "<matplotlib.figure.Figure at 0x12b92b590>"
       ]
      }
     ],
     "prompt_number": 494
    },
    {
     "cell_type": "code",
     "collapsed": false,
     "input": [
      "normal_eve = np.array([[0.0 for j in xrange(K)] for i in xrange(len(cat_events[p]))])\n",
      "\n",
      "for i in xrange(len(cat_events[p])):\n",
      "    event = cat_events[p][i]\n",
      "    vector_ind = 0\n",
      "    field_ind = 0\n",
      "    #profiles[u,K] += 1\n",
      "    \n",
      "    for field in symb_feat:\n",
      "        for ele in field:\n",
      "            if event[field_ind] == ele:\n",
      "                normal_eve[i][vector_ind] += 1\n",
      "            vector_ind += 1\n",
      "        field_ind += 1"
     ],
     "language": "python",
     "metadata": {},
     "outputs": [],
     "prompt_number": 104
    },
    {
     "cell_type": "heading",
     "level": 2,
     "metadata": {},
     "source": [
      "Heirarchical clustering"
     ]
    },
    {
     "cell_type": "code",
     "collapsed": false,
     "input": [
      "from scipy.spatial.distance import pdist, squareform\n",
      "from scipy.cluster.hierarchy import linkage, dendrogram"
     ],
     "language": "python",
     "metadata": {},
     "outputs": [],
     "prompt_number": 1
    },
    {
     "cell_type": "code",
     "collapsed": false,
     "input": [
      "normal_eve"
     ],
     "language": "python",
     "metadata": {},
     "outputs": [
      {
       "metadata": {},
       "output_type": "pyout",
       "prompt_number": 122,
       "text": [
        "array([[ 0.,  0.,  1., ...,  0.,  1.,  0.],\n",
        "       [ 0.,  0.,  1., ...,  0.,  1.,  0.],\n",
        "       [ 0.,  0.,  1., ...,  0.,  1.,  0.],\n",
        "       ..., \n",
        "       [ 0.,  0.,  1., ...,  0.,  1.,  0.],\n",
        "       [ 0.,  0.,  1., ...,  0.,  1.,  0.],\n",
        "       [ 0.,  0.,  1., ...,  0.,  1.,  0.]])"
       ]
      }
     ],
     "prompt_number": 122
    },
    {
     "cell_type": "code",
     "collapsed": false,
     "input": [
      "data_dist = pdist(normal_eve[:1000]) # computing the distance\n",
      "data_link = linkage(normal_eve[:1000]) # computing the linkage"
     ],
     "language": "python",
     "metadata": {},
     "outputs": [],
     "prompt_number": 102
    },
    {
     "cell_type": "code",
     "collapsed": false,
     "input": [
      "dendrogram(data_link,labels=normal_eve[:10000].dtype.names)\n",
      "plt.xlabel('Samples')\n",
      "plt.ylabel('Distance')\n",
      "plt.suptitle('Samples clustering', fontweight='bold', fontsize=14);"
     ],
     "language": "python",
     "metadata": {},
     "outputs": [
      {
       "metadata": {},
       "output_type": "display_data",
       "png": "[encoded data removed]",
       "text": [
        "<matplotlib.figure.Figure at 0x15210ff90>"
       ]
      }
     ],
     "prompt_number": 103
    },
    {
     "cell_type": "code",
     "collapsed": false,
     "input": [
      "type(data_dist), type(data_link)"
     ],
     "language": "python",
     "metadata": {},
     "outputs": [
      {
       "metadata": {},
       "output_type": "pyout",
       "prompt_number": 104,
       "text": [
        "(numpy.ndarray, numpy.ndarray)"
       ]
      }
     ],
     "prompt_number": 104
    },
    {
     "cell_type": "code",
     "collapsed": false,
     "input": [
      "data_dist, len(data_dist)"
     ],
     "language": "python",
     "metadata": {},
     "outputs": [
      {
       "metadata": {},
       "output_type": "pyout",
       "prompt_number": 106,
       "text": [
        "(array([ 0.        ,  0.        ,  2.        , ...,  0.        ,\n",
        "         1.41421356,  1.41421356]), 499500)"
       ]
      }
     ],
     "prompt_number": 106
    },
    {
     "cell_type": "code",
     "collapsed": false,
     "input": [
      "data_link, len(data_link)"
     ],
     "language": "python",
     "metadata": {},
     "outputs": [
      {
       "metadata": {},
       "output_type": "pyout",
       "prompt_number": 107,
       "text": [
        "(array([[  997.        ,   998.        ,     0.        ,     2.        ],\n",
        "        [  996.        ,  1000.        ,     0.        ,     3.        ],\n",
        "        [  995.        ,   999.        ,     0.        ,     2.        ],\n",
        "        ..., \n",
        "        [  212.        ,  1995.        ,     2.        ,   997.        ],\n",
        "        [ 1967.        ,  1996.        ,     2.44948974,   999.        ],\n",
        "        [  920.        ,  1997.        ,     2.44948974,  1000.        ]]),\n",
        " 999)"
       ]
      }
     ],
     "prompt_number": 107
    },
    {
     "cell_type": "code",
     "collapsed": false,
     "input": [
      "len(data_link[0])"
     ],
     "language": "python",
     "metadata": {},
     "outputs": [
      {
       "metadata": {},
       "output_type": "pyout",
       "prompt_number": 108,
       "text": [
        "4"
       ]
      }
     ],
     "prompt_number": 108
    },
    {
     "cell_type": "code",
     "collapsed": false,
     "input": [],
     "language": "python",
     "metadata": {},
     "outputs": []
    },
    {
     "cell_type": "code",
     "collapsed": false,
     "input": [],
     "language": "python",
     "metadata": {},
     "outputs": []
    },
    {
     "cell_type": "code",
     "collapsed": false,
     "input": [],
     "language": "python",
     "metadata": {},
     "outputs": []
    },
    {
     "cell_type": "heading",
     "level": 2,
     "metadata": {},
     "source": [
      "LOF"
     ]
    },
    {
     "cell_type": "code",
     "collapsed": false,
     "input": [
      "from lof import LOF"
     ],
     "language": "python",
     "metadata": {},
     "outputs": [],
     "prompt_number": 109
    },
    {
     "cell_type": "code",
     "collapsed": false,
     "input": [
      "normal_list = list(normal_eve)"
     ],
     "language": "python",
     "metadata": {},
     "outputs": [],
     "prompt_number": 111
    },
    {
     "cell_type": "code",
     "collapsed": false,
     "input": [
      "for i in xrange(len(normal_list)):\n",
      "    normal_list[i] = tuple(normal_list[i])"
     ],
     "language": "python",
     "metadata": {},
     "outputs": [],
     "prompt_number": 112
    },
    {
     "cell_type": "code",
     "collapsed": false,
     "input": [
      "lof = LOF(normal_list, False)"
     ],
     "language": "python",
     "metadata": {},
     "outputs": [],
     "prompt_number": 128
    },
    {
     "cell_type": "code",
     "collapsed": false,
     "input": [
      "print lof.local_outlier_factor(2, normal_list[-10])"
     ],
     "language": "python",
     "metadata": {},
     "outputs": []
    },
    {
     "cell_type": "code",
     "collapsed": false,
     "input": [
      "smurf_eve = np.array([0.0 for j in xrange(K)])\n",
      "\n",
      "event = cat_events[17][0]\n",
      "vector_ind = 0\n",
      "field_ind = 0\n",
      "#profiles[u,K] += 1\n",
      "\n",
      "for field in symb_feat:\n",
      "    for ele in field:\n",
      "        if event[field_ind] == ele:\n",
      "            smurf_eve[vector_ind] += 1\n",
      "        vector_ind += 1\n",
      "    field_ind += 1"
     ],
     "language": "python",
     "metadata": {},
     "outputs": [],
     "prompt_number": 109
    },
    {
     "cell_type": "code",
     "collapsed": false,
     "input": [
      "smurf_eve = tuple(smurf_eve)"
     ],
     "language": "python",
     "metadata": {},
     "outputs": [],
     "prompt_number": 123
    },
    {
     "cell_type": "code",
     "collapsed": false,
     "input": [
      "print lof.local_outlier_factor(2, smurf_eve)"
     ],
     "language": "python",
     "metadata": {},
     "outputs": [
      {
       "output_type": "stream",
       "stream": "stdout",
       "text": [
        "1.42980157402\n"
       ]
      }
     ],
     "prompt_number": 124
    },
    {
     "cell_type": "heading",
     "level": 2,
     "metadata": {},
     "source": [
      "Top 10 scores"
     ]
    },
    {
     "cell_type": "code",
     "collapsed": false,
     "input": [
      "import heapq"
     ],
     "language": "python",
     "metadata": {},
     "outputs": [],
     "prompt_number": 295
    },
    {
     "cell_type": "code",
     "collapsed": false,
     "input": [
      "smurf_eve = np.array([0.0 for j in xrange(K)])\n",
      "\n",
      "event = cat_events[17][2]\n",
      "vector_ind = 0\n",
      "field_ind = 0\n",
      "#profiles[u,K] += 1\n",
      "\n",
      "for field in symb_feat:\n",
      "    for ele in field:\n",
      "        if event[field_ind] == ele:\n",
      "            smurf_eve[vector_ind] += 1\n",
      "        vector_ind += 1\n",
      "    field_ind += 1"
     ],
     "language": "python",
     "metadata": {},
     "outputs": [],
     "prompt_number": 317
    },
    {
     "cell_type": "code",
     "collapsed": false,
     "input": [
      "smurf_eve"
     ],
     "language": "python",
     "metadata": {},
     "outputs": [
      {
       "metadata": {},
       "output_type": "pyout",
       "prompt_number": 318,
       "text": [
        "array([ 0.,  0.,  1.,  0.,  0.,  0.,  0.,  0.,  0.,  1.,  0.,  0.,  0.,\n",
        "        0.,  0.,  0.,  0.,  0.,  0.,  0.,  0.,  0.,  0.,  0.,  0.,  0.,\n",
        "        0.,  0.,  0.,  0.,  0.,  0.,  0.,  0.,  0.,  0.,  0.,  0.,  0.,\n",
        "        0.,  0.,  0.,  0.,  0.,  0.,  0.,  0.,  0.,  0.,  0.,  0.,  0.,\n",
        "        0.,  0.,  0.,  0.,  0.,  0.,  0.,  0.,  0.,  0.,  0.,  0.,  0.,\n",
        "        0.,  0.,  0.,  0.,  0.,  0.,  0.,  0.,  0.,  1.,  0.,  0.,  0.,\n",
        "        0.,  0.,  0.,  1.,  0.,  1.,  0.,  0.,  0.,  1.,  0.,  0.,  1.,\n",
        "        0.,  0.,  1.,  0.,  0.,  1.,  0.,  0.,  1.,  0.,  0.,  0.,  1.,\n",
        "        0.,  1.,  0.,  0.,  0.,  1.])"
       ]
      }
     ],
     "prompt_number": 318
    },
    {
     "cell_type": "code",
     "collapsed": false,
     "input": [
      "scores = []\n",
      "\n",
      "for event in normal_eve:\n",
      "    scores.append(np.dot(event, smurf_eve)/13)"
     ],
     "language": "python",
     "metadata": {},
     "outputs": [],
     "prompt_number": 319
    },
    {
     "cell_type": "code",
     "collapsed": false,
     "input": [
      "elements = heapq.nlargest(10, scores)\n",
      "elements"
     ],
     "language": "python",
     "metadata": {},
     "outputs": [
      {
       "metadata": {},
       "output_type": "pyout",
       "prompt_number": 320,
       "text": [
        "[0.76923076923076927,\n",
        " 0.76923076923076927,\n",
        " 0.76923076923076927,\n",
        " 0.69230769230769229,\n",
        " 0.69230769230769229,\n",
        " 0.69230769230769229,\n",
        " 0.69230769230769229,\n",
        " 0.69230769230769229,\n",
        " 0.69230769230769229,\n",
        " 0.69230769230769229]"
       ]
      }
     ],
     "prompt_number": 320
    },
    {
     "cell_type": "heading",
     "level": 2,
     "metadata": {},
     "source": [
      "K-Means"
     ]
    },
    {
     "cell_type": "code",
     "collapsed": false,
     "input": [
      "from scipy.cluster.vq import vq, kmeans, whiten"
     ],
     "language": "python",
     "metadata": {},
     "outputs": [],
     "prompt_number": 100
    },
    {
     "cell_type": "code",
     "collapsed": false,
     "input": [
      "whitened = whiten(normal_eve)"
     ],
     "language": "python",
     "metadata": {},
     "outputs": [
      {
       "output_type": "stream",
       "stream": "stderr",
       "text": [
        "/Users/bartimaeus/anaconda/lib/python2.7/site-packages/scipy/cluster/vq.py:134: RuntimeWarning: divide by zero encountered in true_divide\n",
        "  return obs / std_dev\n",
        "/Users/bartimaeus/anaconda/lib/python2.7/site-packages/scipy/cluster/vq.py:134: RuntimeWarning: invalid value encountered in true_divide\n",
        "  return obs / std_dev\n"
       ]
      }
     ],
     "prompt_number": 105
    },
    {
     "cell_type": "code",
     "collapsed": false,
     "input": [
      "c = 8"
     ],
     "language": "python",
     "metadata": {},
     "outputs": [],
     "prompt_number": 106
    },
    {
     "cell_type": "code",
     "collapsed": false,
     "input": [
      "a, b = kmeans(normal_eve, c)"
     ],
     "language": "python",
     "metadata": {},
     "outputs": [],
     "prompt_number": 107
    },
    {
     "cell_type": "code",
     "collapsed": false,
     "input": [
      "len(a), b"
     ],
     "language": "python",
     "metadata": {},
     "outputs": [
      {
       "metadata": {},
       "output_type": "pyout",
       "prompt_number": 108,
       "text": [
        "(8, 1.1775805433279045)"
       ]
      }
     ],
     "prompt_number": 108
    },
    {
     "cell_type": "code",
     "collapsed": false,
     "input": [
      "norm_clust = []\n",
      "\n",
      "for event in normal_eve:\n",
      "    d = []\n",
      "    for i in xrange(len(a)):\n",
      "        d.append(np.linalg.norm(a[i]-event))\n",
      "    \n",
      "    norm_clust.append(d.index(min(d)))"
     ],
     "language": "python",
     "metadata": {},
     "outputs": [],
     "prompt_number": 109
    },
    {
     "cell_type": "code",
     "collapsed": false,
     "input": [
      "pro = np.array([[0.0 for i in xrange(K)] for i in xrange(len(a))])\n",
      "eve_clu = [[] for i in xrange(len(a))]\n",
      "                \n",
      "count = [0 for i in xrange(len(a))]\n",
      "\n",
      "for i in xrange(len(norm_clust)):\n",
      "    eve_clu[norm_clust[i]].append(normal_eve[i])\n",
      "    pro[norm_clust[i]] += normal_eve[i]\n",
      "    count[norm_clust[i]] += 1"
     ],
     "language": "python",
     "metadata": {},
     "outputs": [],
     "prompt_number": 110
    },
    {
     "cell_type": "code",
     "collapsed": false,
     "input": [
      "count"
     ],
     "language": "python",
     "metadata": {},
     "outputs": [
      {
       "metadata": {},
       "output_type": "pyout",
       "prompt_number": 111,
       "text": [
        "[23361, 6420, 20082, 7956, 15388, 5592, 4992, 13487]"
       ]
      }
     ],
     "prompt_number": 111
    },
    {
     "cell_type": "code",
     "collapsed": false,
     "input": [
      "for i in xrange(len(a)):\n",
      "    pro[i] = pro[i]/count[i]"
     ],
     "language": "python",
     "metadata": {},
     "outputs": [],
     "prompt_number": 292
    },
    {
     "cell_type": "code",
     "collapsed": false,
     "input": [
      "def score_clust(event):\n",
      "    vector_ind = 0\n",
      "    field_ind = 1\n",
      "    vec_eve = np.array([0.0 for i in xrange(K)])\n",
      "    \n",
      "    for field in symb_feat:\n",
      "        for ele in field:\n",
      "            if event[field_ind] == ele:\n",
      "                vec_eve[vector_ind] = 1\n",
      "            vector_ind += 1\n",
      "        field_ind += 1\n",
      "    \n",
      "    val = []\n",
      "    for pro_ in pro:\n",
      "        val.append(np.dot(pro_, vec_eve)/(np.linalg.norm(pro_)*np.linalg.norm(vec_eve)))\n",
      "    \n",
      "    return max(val)"
     ],
     "language": "python",
     "metadata": {},
     "outputs": [],
     "prompt_number": 293
    },
    {
     "cell_type": "code",
     "collapsed": false,
     "input": [
      "scores_clust = [[] for i in xrange(len(labelset))]\n",
      "\n",
      "for event in all_events:\n",
      "    ind = labelset.index(event[-1])\n",
      "    scores_clust[ind].append(score_clust(event))"
     ],
     "language": "python",
     "metadata": {},
     "outputs": [],
     "prompt_number": 294
    },
    {
     "cell_type": "code",
     "collapsed": false,
     "input": [
      "min(scores_clust[15]), max(scores_clust[15])"
     ],
     "language": "python",
     "metadata": {},
     "outputs": [
      {
       "metadata": {},
       "output_type": "pyout",
       "prompt_number": 295,
       "text": [
        "(0.38093516802419508, 0.74575357304357526)"
       ]
      }
     ],
     "prompt_number": 295
    },
    {
     "cell_type": "code",
     "collapsed": false,
     "input": [
      "min(scores_clust[1]), max(scores_clust[1])"
     ],
     "language": "python",
     "metadata": {},
     "outputs": [
      {
       "metadata": {},
       "output_type": "pyout",
       "prompt_number": 296,
       "text": [
        "(0.49740174407695698, 0.55253735162795858)"
       ]
      }
     ],
     "prompt_number": 296
    },
    {
     "cell_type": "code",
     "collapsed": false,
     "input": [
      "bins = np.linspace(0.29, 0.71, 50)\n",
      "labels = [15, 1,19, 17,2,5,13]\n",
      "\n",
      "for i in labels:\n",
      "    plt.hist(scores_clust[i], bins, alpha=0.5, label=labelset[i][:-2])\n",
      "    \n",
      "plt.legend(loc='upper left')"
     ],
     "language": "python",
     "metadata": {},
     "outputs": [
      {
       "metadata": {},
       "output_type": "pyout",
       "prompt_number": 297,
       "text": [
        "<matplotlib.legend.Legend at 0x16f0b89d0>"
       ]
      },
      {
       "metadata": {},
       "output_type": "display_data",
       "png": "[encoded data removed]",
       "text": [
        "<matplotlib.figure.Figure at 0x154543810>"
       ]
      }
     ],
     "prompt_number": 297
    },
    {
     "cell_type": "code",
     "collapsed": false,
     "input": [
      "bins = np.linspace(0.29, 0.71, 50)\n",
      "labels = [15, 1,19, 17,2,5,13]\n",
      "\n",
      "for i in labels:\n",
      "    plt.hist(scores_clust[i], bins, alpha=0.5, label=labelset[i][:-2])\n",
      "    \n",
      "plt.legend(loc='upper left')"
     ],
     "language": "python",
     "metadata": {},
     "outputs": [
      {
       "metadata": {},
       "output_type": "pyout",
       "prompt_number": 240,
       "text": [
        "<matplotlib.legend.Legend at 0x15534e550>"
       ]
      },
      {
       "metadata": {},
       "output_type": "display_data",
       "png": "[encoded data removed]",
       "text": [
        "<matplotlib.figure.Figure at 0x172424cd0>"
       ]
      }
     ],
     "prompt_number": 240
    },
    {
     "cell_type": "heading",
     "level": 2,
     "metadata": {},
     "source": [
      "Binary Clustering"
     ]
    },
    {
     "cell_type": "code",
     "collapsed": false,
     "input": [
      "import random"
     ],
     "language": "python",
     "metadata": {},
     "outputs": [],
     "prompt_number": 94
    },
    {
     "cell_type": "code",
     "collapsed": false,
     "input": [
      "W = normal_eve"
     ],
     "language": "python",
     "metadata": {},
     "outputs": [],
     "prompt_number": 95
    },
    {
     "cell_type": "code",
     "collapsed": false,
     "input": [
      "n = len(normal_eve)"
     ],
     "language": "python",
     "metadata": {},
     "outputs": [],
     "prompt_number": 96
    },
    {
     "cell_type": "code",
     "collapsed": false,
     "input": [
      "K = 3\n",
      "m = 110"
     ],
     "language": "python",
     "metadata": {},
     "outputs": [],
     "prompt_number": 97
    },
    {
     "cell_type": "heading",
     "level": 3,
     "metadata": {},
     "source": [
      "Block-Diagonal"
     ]
    },
    {
     "cell_type": "code",
     "collapsed": false,
     "input": [
      "def update_A(B):\n",
      "    \n",
      "    A = np.array([[0 for j in xrange(n)] for i in xrange(K)])\n",
      "    for i in xrange(n):\n",
      "        l = []\n",
      "        for k in xrange(K):\n",
      "            l.append(np.linalg.norm(W[i]-B[k]))\n",
      "        k = l.index(min(l))\n",
      "        A[k,i] = 1\n",
      "        \n",
      "    return A"
     ],
     "language": "python",
     "metadata": {},
     "outputs": [],
     "prompt_number": 189
    },
    {
     "cell_type": "code",
     "collapsed": false,
     "input": [
      "def update_B(Y,A):\n",
      "    \n",
      "    B = np.array([[0 for j in xrange(m)] for i in xrange(K)])\n",
      "    for k in xrange(K):\n",
      "        n_k = np.sum(A[k])\n",
      "        for j in xrange(m):\n",
      "            if ((Y[k,j]*1.0)/n_k > 0.5):\n",
      "                B[k,j] = 1\n",
      "                \n",
      "    return B"
     ],
     "language": "python",
     "metadata": {},
     "outputs": [],
     "prompt_number": 234
    },
    {
     "cell_type": "code",
     "collapsed": false,
     "input": [
      "def obj(A,B):\n",
      "    err = 0.0\n",
      "    O = W - np.dot(A.T,B)\n",
      "    for i in xrange(n):\n",
      "        err += (np.linalg.norm(O[i]))**2\n",
      "    return err"
     ],
     "language": "python",
     "metadata": {},
     "outputs": [],
     "prompt_number": 261
    },
    {
     "cell_type": "code",
     "collapsed": false,
     "input": [
      "A = np.array([[0 for j in xrange(n)] for i in xrange(K)])\n",
      "for i in xrange(n):\n",
      "    k = random.randint(0, K-1)\n",
      "    A[k,i] = 1"
     ],
     "language": "python",
     "metadata": {},
     "outputs": [],
     "prompt_number": 286
    },
    {
     "cell_type": "code",
     "collapsed": false,
     "input": [
      "A"
     ],
     "language": "python",
     "metadata": {},
     "outputs": [
      {
       "metadata": {},
       "output_type": "pyout",
       "prompt_number": 287,
       "text": [
        "array([[1, 0, 0, ..., 1, 0, 0],\n",
        "       [0, 0, 1, ..., 0, 0, 1],\n",
        "       [0, 1, 0, ..., 0, 1, 0]])"
       ]
      }
     ],
     "prompt_number": 287
    },
    {
     "cell_type": "code",
     "collapsed": false,
     "input": [
      "Y = np.dot(A,W)\n",
      "B = update_B(Y,A)"
     ],
     "language": "python",
     "metadata": {},
     "outputs": [],
     "prompt_number": 288
    },
    {
     "cell_type": "code",
     "collapsed": false,
     "input": [
      "B"
     ],
     "language": "python",
     "metadata": {},
     "outputs": [
      {
       "metadata": {},
       "output_type": "pyout",
       "prompt_number": 289,
       "text": [
        "array([[0, 0, 1, 0, 0, 0, 0, 0, 0, 0, 0, 0, 0, 0, 0, 0, 0, 0, 0, 0, 0, 0,\n",
        "        0, 0, 0, 0, 0, 0, 0, 0, 0, 0, 0, 0, 0, 0, 0, 0, 0, 0, 0, 0, 0, 0,\n",
        "        0, 0, 0, 0, 0, 0, 0, 0, 0, 0, 0, 0, 0, 0, 0, 1, 0, 0, 0, 0, 0, 0,\n",
        "        0, 0, 0, 0, 0, 0, 0, 0, 0, 0, 0, 0, 0, 1, 0, 1, 0, 0, 1, 0, 0, 1,\n",
        "        0, 0, 0, 1, 0, 1, 0, 0, 0, 1, 0, 0, 1, 0, 0, 1, 0, 1, 0, 0, 1, 0],\n",
        "       [0, 0, 1, 0, 0, 0, 0, 0, 0, 0, 0, 0, 0, 0, 0, 0, 0, 0, 0, 0, 0, 0,\n",
        "        0, 0, 0, 0, 0, 0, 0, 0, 0, 0, 0, 0, 0, 0, 0, 0, 0, 0, 0, 0, 0, 0,\n",
        "        0, 0, 0, 0, 0, 0, 0, 0, 0, 0, 0, 0, 0, 0, 0, 1, 0, 0, 0, 0, 0, 0,\n",
        "        0, 0, 0, 0, 0, 0, 0, 0, 0, 0, 0, 0, 0, 1, 0, 1, 0, 0, 1, 0, 0, 1,\n",
        "        0, 0, 0, 1, 0, 1, 0, 0, 0, 1, 0, 0, 1, 0, 0, 1, 0, 1, 0, 0, 1, 0],\n",
        "       [0, 0, 1, 0, 0, 0, 0, 0, 0, 0, 0, 0, 0, 0, 0, 0, 0, 0, 0, 0, 0, 0,\n",
        "        0, 0, 0, 0, 0, 0, 0, 0, 0, 0, 0, 0, 0, 0, 0, 0, 0, 0, 0, 0, 0, 0,\n",
        "        0, 0, 0, 0, 0, 0, 0, 0, 0, 0, 0, 0, 0, 0, 0, 1, 0, 0, 0, 0, 0, 0,\n",
        "        0, 0, 0, 0, 0, 0, 0, 0, 0, 0, 0, 0, 0, 1, 0, 1, 0, 0, 1, 0, 0, 1,\n",
        "        0, 0, 0, 1, 0, 1, 0, 0, 0, 1, 0, 0, 1, 0, 0, 1, 0, 1, 0, 0, 1, 0]])"
       ]
      }
     ],
     "prompt_number": 289
    },
    {
     "cell_type": "code",
     "collapsed": false,
     "input": [
      "type(B)"
     ],
     "language": "python",
     "metadata": {},
     "outputs": [
      {
       "metadata": {},
       "output_type": "pyout",
       "prompt_number": 290,
       "text": [
        "numpy.ndarray"
       ]
      }
     ],
     "prompt_number": 290
    },
    {
     "cell_type": "code",
     "collapsed": false,
     "input": [
      "err_0 = float(\"inf\")\n",
      "err_1 = obj(A,B)\n",
      "print err_1\n",
      "\n",
      "while (err_1 <= err_0):\n",
      "#for i in xrange(5):\n",
      "    err_0 = err_1\n",
      "    print \"updating A\"\n",
      "    A = update_A(B)\n",
      "    Y = np.dot(A,W)\n",
      "    print \"updating B\"\n",
      "    B = update_B(Y,A)\n",
      "    err_1 = obj(A,B)\n",
      "    print err_1"
     ],
     "language": "python",
     "metadata": {},
     "outputs": [
      {
       "output_type": "stream",
       "stream": "stdout",
       "text": [
        "348274.0\n",
        "updating A\n",
        "updating B"
       ]
      },
      {
       "output_type": "stream",
       "stream": "stdout",
       "text": [
        "\n",
        "348274.0"
       ]
      },
      {
       "output_type": "stream",
       "stream": "stdout",
       "text": [
        "\n",
        "updating A\n",
        "updating B"
       ]
      },
      {
       "output_type": "stream",
       "stream": "stdout",
       "text": [
        "\n",
        "331818.0"
       ]
      },
      {
       "output_type": "stream",
       "stream": "stdout",
       "text": [
        "\n",
        "updating A\n",
        "updating B"
       ]
      },
      {
       "output_type": "stream",
       "stream": "stdout",
       "text": [
        "\n",
        "285348.0"
       ]
      },
      {
       "output_type": "stream",
       "stream": "stdout",
       "text": [
        "\n",
        "updating A\n",
        "updating B"
       ]
      },
      {
       "output_type": "stream",
       "stream": "stdout",
       "text": [
        "\n",
        "280641.0"
       ]
      },
      {
       "output_type": "stream",
       "stream": "stdout",
       "text": [
        "\n",
        "updating A\n",
        "updating B"
       ]
      },
      {
       "output_type": "stream",
       "stream": "stdout",
       "text": [
        "\n",
        "275166.0"
       ]
      },
      {
       "output_type": "stream",
       "stream": "stdout",
       "text": [
        "\n",
        "updating A\n",
        "updating B"
       ]
      },
      {
       "output_type": "stream",
       "stream": "stdout",
       "text": [
        "\n",
        "246344.0"
       ]
      },
      {
       "output_type": "stream",
       "stream": "stdout",
       "text": [
        "\n",
        "updating A\n",
        "updating B"
       ]
      },
      {
       "output_type": "stream",
       "stream": "stdout",
       "text": [
        "\n",
        "239585.0"
       ]
      },
      {
       "output_type": "stream",
       "stream": "stdout",
       "text": [
        "\n",
        "updating A\n",
        "updating B"
       ]
      },
      {
       "output_type": "stream",
       "stream": "stdout",
       "text": [
        "\n",
        "238625.0"
       ]
      },
      {
       "output_type": "stream",
       "stream": "stdout",
       "text": [
        "\n",
        "updating A\n",
        "updating B"
       ]
      },
      {
       "output_type": "stream",
       "stream": "stdout",
       "text": [
        "\n",
        "238625.0"
       ]
      },
      {
       "output_type": "stream",
       "stream": "stdout",
       "text": [
        "\n",
        "updating A\n",
        "updating B"
       ]
      },
      {
       "output_type": "stream",
       "stream": "stdout",
       "text": [
        "\n",
        "238625.0"
       ]
      },
      {
       "output_type": "stream",
       "stream": "stdout",
       "text": [
        "\n",
        "updating A\n",
        "updating B"
       ]
      },
      {
       "output_type": "stream",
       "stream": "stdout",
       "text": [
        "\n",
        "238625.0"
       ]
      },
      {
       "output_type": "stream",
       "stream": "stdout",
       "text": [
        "\n",
        "updating A\n",
        "updating B"
       ]
      },
      {
       "output_type": "stream",
       "stream": "stdout",
       "text": [
        "\n",
        "238625.0"
       ]
      },
      {
       "output_type": "stream",
       "stream": "stdout",
       "text": [
        "\n",
        "updating A\n"
       ]
      },
      {
       "ename": "KeyboardInterrupt",
       "evalue": "",
       "output_type": "pyerr",
       "traceback": [
        "\u001b[0;31m---------------------------------------------------------------------------\u001b[0m\n\u001b[0;31mKeyboardInterrupt\u001b[0m                         Traceback (most recent call last)",
        "\u001b[0;32m<ipython-input-291-157d969f35e1>\u001b[0m in \u001b[0;36m<module>\u001b[0;34m()\u001b[0m\n\u001b[1;32m      7\u001b[0m     \u001b[0merr_0\u001b[0m \u001b[0;34m=\u001b[0m \u001b[0merr_1\u001b[0m\u001b[0;34m\u001b[0m\u001b[0m\n\u001b[1;32m      8\u001b[0m     \u001b[0;32mprint\u001b[0m \u001b[0;34m\"updating A\"\u001b[0m\u001b[0;34m\u001b[0m\u001b[0m\n\u001b[0;32m----> 9\u001b[0;31m     \u001b[0mA\u001b[0m \u001b[0;34m=\u001b[0m \u001b[0mupdate_A\u001b[0m\u001b[0;34m(\u001b[0m\u001b[0mB\u001b[0m\u001b[0;34m)\u001b[0m\u001b[0;34m\u001b[0m\u001b[0m\n\u001b[0m\u001b[1;32m     10\u001b[0m     \u001b[0mY\u001b[0m \u001b[0;34m=\u001b[0m \u001b[0mnp\u001b[0m\u001b[0;34m.\u001b[0m\u001b[0mdot\u001b[0m\u001b[0;34m(\u001b[0m\u001b[0mA\u001b[0m\u001b[0;34m,\u001b[0m\u001b[0mW\u001b[0m\u001b[0;34m)\u001b[0m\u001b[0;34m\u001b[0m\u001b[0m\n\u001b[1;32m     11\u001b[0m     \u001b[0;32mprint\u001b[0m \u001b[0;34m\"updating B\"\u001b[0m\u001b[0;34m\u001b[0m\u001b[0m\n",
        "\u001b[0;32m<ipython-input-189-b2ed23886d9d>\u001b[0m in \u001b[0;36mupdate_A\u001b[0;34m(B)\u001b[0m\n\u001b[1;32m      5\u001b[0m         \u001b[0ml\u001b[0m \u001b[0;34m=\u001b[0m \u001b[0;34m[\u001b[0m\u001b[0;34m]\u001b[0m\u001b[0;34m\u001b[0m\u001b[0m\n\u001b[1;32m      6\u001b[0m         \u001b[0;32mfor\u001b[0m \u001b[0mk\u001b[0m \u001b[0;32min\u001b[0m \u001b[0mxrange\u001b[0m\u001b[0;34m(\u001b[0m\u001b[0mK\u001b[0m\u001b[0;34m)\u001b[0m\u001b[0;34m:\u001b[0m\u001b[0;34m\u001b[0m\u001b[0m\n\u001b[0;32m----> 7\u001b[0;31m             \u001b[0ml\u001b[0m\u001b[0;34m.\u001b[0m\u001b[0mappend\u001b[0m\u001b[0;34m(\u001b[0m\u001b[0mnp\u001b[0m\u001b[0;34m.\u001b[0m\u001b[0mlinalg\u001b[0m\u001b[0;34m.\u001b[0m\u001b[0mnorm\u001b[0m\u001b[0;34m(\u001b[0m\u001b[0mW\u001b[0m\u001b[0;34m[\u001b[0m\u001b[0mi\u001b[0m\u001b[0;34m]\u001b[0m\u001b[0;34m-\u001b[0m\u001b[0mB\u001b[0m\u001b[0;34m[\u001b[0m\u001b[0mk\u001b[0m\u001b[0;34m]\u001b[0m\u001b[0;34m)\u001b[0m\u001b[0;34m)\u001b[0m\u001b[0;34m\u001b[0m\u001b[0m\n\u001b[0m\u001b[1;32m      8\u001b[0m         \u001b[0mk\u001b[0m \u001b[0;34m=\u001b[0m \u001b[0ml\u001b[0m\u001b[0;34m.\u001b[0m\u001b[0mindex\u001b[0m\u001b[0;34m(\u001b[0m\u001b[0mmin\u001b[0m\u001b[0;34m(\u001b[0m\u001b[0ml\u001b[0m\u001b[0;34m)\u001b[0m\u001b[0;34m)\u001b[0m\u001b[0;34m\u001b[0m\u001b[0m\n\u001b[1;32m      9\u001b[0m         \u001b[0mA\u001b[0m\u001b[0;34m[\u001b[0m\u001b[0mk\u001b[0m\u001b[0;34m,\u001b[0m\u001b[0mi\u001b[0m\u001b[0;34m]\u001b[0m \u001b[0;34m=\u001b[0m \u001b[0;36m1\u001b[0m\u001b[0;34m\u001b[0m\u001b[0m\n",
        "\u001b[0;32m/Users/bartimaeus/anaconda/lib/python2.7/site-packages/numpy/linalg/linalg.pyc\u001b[0m in \u001b[0;36mnorm\u001b[0;34m(x, ord, axis)\u001b[0m\n\u001b[1;32m   2054\u001b[0m     \u001b[0;31m# Check the default case first and handle it immediately.\u001b[0m\u001b[0;34m\u001b[0m\u001b[0;34m\u001b[0m\u001b[0m\n\u001b[1;32m   2055\u001b[0m     \u001b[0;32mif\u001b[0m \u001b[0mord\u001b[0m \u001b[0;32mis\u001b[0m \u001b[0mNone\u001b[0m \u001b[0;32mand\u001b[0m \u001b[0maxis\u001b[0m \u001b[0;32mis\u001b[0m \u001b[0mNone\u001b[0m\u001b[0;34m:\u001b[0m\u001b[0;34m\u001b[0m\u001b[0m\n\u001b[0;32m-> 2056\u001b[0;31m         \u001b[0;32mreturn\u001b[0m \u001b[0msqrt\u001b[0m\u001b[0;34m(\u001b[0m\u001b[0madd\u001b[0m\u001b[0;34m.\u001b[0m\u001b[0mreduce\u001b[0m\u001b[0;34m(\u001b[0m\u001b[0;34m(\u001b[0m\u001b[0mx\u001b[0m\u001b[0;34m.\u001b[0m\u001b[0mconj\u001b[0m\u001b[0;34m(\u001b[0m\u001b[0;34m)\u001b[0m \u001b[0;34m*\u001b[0m \u001b[0mx\u001b[0m\u001b[0;34m)\u001b[0m\u001b[0;34m.\u001b[0m\u001b[0mreal\u001b[0m\u001b[0;34m,\u001b[0m \u001b[0maxis\u001b[0m\u001b[0;34m=\u001b[0m\u001b[0mNone\u001b[0m\u001b[0;34m)\u001b[0m\u001b[0;34m)\u001b[0m\u001b[0;34m\u001b[0m\u001b[0m\n\u001b[0m\u001b[1;32m   2057\u001b[0m \u001b[0;34m\u001b[0m\u001b[0m\n\u001b[1;32m   2058\u001b[0m     \u001b[0;31m# Normalize the `axis` argument to a tuple.\u001b[0m\u001b[0;34m\u001b[0m\u001b[0;34m\u001b[0m\u001b[0m\n",
        "\u001b[0;31mKeyboardInterrupt\u001b[0m: "
       ]
      }
     ],
     "prompt_number": 291
    },
    {
     "cell_type": "code",
     "collapsed": false,
     "input": [
      "A"
     ],
     "language": "python",
     "metadata": {},
     "outputs": [
      {
       "metadata": {},
       "output_type": "pyout",
       "prompt_number": 292,
       "text": [
        "array([[1, 1, 1, ..., 1, 1, 1],\n",
        "       [0, 0, 0, ..., 0, 0, 0],\n",
        "       [0, 0, 0, ..., 0, 0, 0]])"
       ]
      }
     ],
     "prompt_number": 292
    },
    {
     "cell_type": "code",
     "collapsed": false,
     "input": [
      "B"
     ],
     "language": "python",
     "metadata": {},
     "outputs": [
      {
       "metadata": {},
       "output_type": "pyout",
       "prompt_number": 293,
       "text": [
        "array([[0, 0, 1, 0, 0, 0, 0, 0, 0, 0, 0, 0, 0, 0, 0, 0, 0, 0, 0, 0, 0, 0,\n",
        "        0, 0, 0, 0, 0, 0, 0, 0, 0, 0, 0, 0, 0, 0, 0, 0, 0, 0, 0, 0, 0, 0,\n",
        "        0, 0, 0, 0, 0, 0, 0, 0, 0, 0, 0, 0, 0, 0, 0, 1, 0, 0, 0, 0, 0, 0,\n",
        "        0, 0, 0, 0, 0, 0, 0, 0, 0, 0, 0, 0, 0, 1, 0, 1, 0, 0, 1, 0, 0, 1,\n",
        "        0, 0, 0, 1, 0, 1, 0, 0, 0, 1, 0, 0, 1, 0, 0, 1, 0, 1, 0, 0, 1, 0],\n",
        "       [1, 0, 0, 0, 0, 0, 0, 0, 0, 0, 0, 0, 0, 0, 0, 0, 0, 0, 0, 0, 0, 0,\n",
        "        0, 0, 0, 0, 0, 0, 0, 0, 0, 0, 0, 0, 0, 0, 0, 0, 0, 0, 0, 0, 0, 0,\n",
        "        0, 0, 0, 0, 0, 0, 0, 0, 0, 0, 0, 0, 0, 0, 0, 0, 0, 0, 0, 0, 0, 0,\n",
        "        0, 1, 0, 0, 0, 0, 0, 0, 0, 0, 0, 0, 0, 1, 0, 1, 0, 0, 1, 0, 0, 1,\n",
        "        0, 0, 0, 1, 0, 1, 0, 0, 0, 1, 0, 1, 0, 0, 1, 0, 0, 0, 1, 0, 0, 1],\n",
        "       [0, 0, 1, 0, 0, 0, 0, 1, 0, 0, 0, 0, 0, 0, 0, 0, 0, 0, 0, 0, 0, 0,\n",
        "        0, 0, 0, 0, 0, 0, 0, 0, 0, 0, 0, 0, 0, 0, 0, 0, 0, 0, 0, 0, 0, 0,\n",
        "        0, 0, 0, 0, 0, 0, 0, 0, 0, 0, 0, 0, 0, 0, 0, 0, 0, 0, 0, 0, 0, 0,\n",
        "        0, 0, 0, 0, 0, 0, 0, 0, 0, 0, 0, 0, 0, 1, 0, 0, 1, 0, 1, 0, 0, 1,\n",
        "        0, 0, 0, 1, 0, 1, 0, 0, 0, 1, 0, 0, 1, 0, 0, 0, 0, 1, 0, 0, 1, 0]])"
       ]
      }
     ],
     "prompt_number": 293
    },
    {
     "cell_type": "code",
     "collapsed": false,
     "input": [
      "np.sqrt(348274.0)/n"
     ],
     "language": "python",
     "metadata": {},
     "outputs": [
      {
       "metadata": {},
       "output_type": "pyout",
       "prompt_number": 259,
       "text": [
        "0.0060666074467486415"
       ]
      }
     ],
     "prompt_number": 259
    },
    {
     "cell_type": "heading",
     "level": 3,
     "metadata": {},
     "source": [
      "Generic"
     ]
    },
    {
     "cell_type": "code",
     "collapsed": false,
     "input": [
      "K = 3\n",
      "C = 3"
     ],
     "language": "python",
     "metadata": {},
     "outputs": [],
     "prompt_number": 98
    },
    {
     "cell_type": "code",
     "collapsed": false,
     "input": [
      "n = len(normal_eve)\n",
      "m = 110"
     ],
     "language": "python",
     "metadata": {},
     "outputs": [],
     "prompt_number": 99
    },
    {
     "cell_type": "code",
     "collapsed": false,
     "input": [
      "global data_clu\n",
      "data_clu = []"
     ],
     "language": "python",
     "metadata": {},
     "outputs": [],
     "prompt_number": 100
    },
    {
     "cell_type": "code",
     "collapsed": false,
     "input": [
      "global feat_clu\n",
      "feat_clu = []"
     ],
     "language": "python",
     "metadata": {},
     "outputs": [],
     "prompt_number": 101
    },
    {
     "cell_type": "code",
     "collapsed": false,
     "input": [
      "A = np.array([[False for j in xrange(K)] for i in xrange(n)])\n",
      "for i in xrange(n):\n",
      "    k = random.randint(0, K-1)\n",
      "    A[i,k] = True\n",
      "    "
     ],
     "language": "python",
     "metadata": {},
     "outputs": [],
     "prompt_number": 102
    },
    {
     "cell_type": "code",
     "collapsed": false,
     "input": [
      "B = np.array([[False for j in xrange(C)] for i in xrange(m)])\n",
      "for j in xrange(m):\n",
      "    c = random.randint(0, C-1)\n",
      "    B[j,c] = True"
     ],
     "language": "python",
     "metadata": {},
     "outputs": [],
     "prompt_number": 103
    },
    {
     "cell_type": "code",
     "collapsed": false,
     "input": [
      "def build_X(A,B):\n",
      "\n",
      "    X = np.array([[0.0 for j in xrange(C)] for i in xrange(K)])\n",
      "\n",
      "    global feat_clu\n",
      "    feat_clu = []\n",
      "    for j in xrange(m):\n",
      "        feat_clu.append(np.where(B[j] == True)[0][0])\n",
      "        \n",
      "    global data_clu\n",
      "    data_clu = []\n",
      "    for i in xrange(n):\n",
      "        data_clu.append(np.where(A[i] == True)[0][0])\n",
      "\n",
      "    for i in xrange(n):\n",
      "        for j in xrange(m):\n",
      "            if (W[i,j]):\n",
      "                k = data_clu[i]\n",
      "                c = feat_clu[j]\n",
      "                X[k,c] += 1.0\n",
      "\n",
      "    #print \"dividing with p_k\"\n",
      "    for k in xrange(K):            \n",
      "        p_k = np.sum(A[:,k])\n",
      "        if (p_k != 0):\n",
      "            X[k] = X[k]/p_k\n",
      "    #print \"dividing with q_c\"\n",
      "    for c in xrange(C):\n",
      "        q_c = np.sum(B[:,c])\n",
      "        if (q_c != 0):\n",
      "            X[:,c] = X[:,c]/q_c\n",
      "        \n",
      "    '''X_dup = np.array([[0.0 for j in xrange(m)] for i in xrange(n)])\n",
      "    for i in xrange(n):\n",
      "        for j in xrange(m):\n",
      "            X_dup[i,j] = X[data_clu[i], feat_clu[j]]'''\n",
      "\n",
      "    return X"
     ],
     "language": "python",
     "metadata": {},
     "outputs": [],
     "prompt_number": 105
    },
    {
     "cell_type": "code",
     "collapsed": false,
     "input": [
      "def update_A(X):\n",
      "    \n",
      "    X_dup = np.array([[0.0 for j in xrange(m)] for i in xrange(n)])\n",
      "    for i in xrange(n):\n",
      "        for j in xrange(m):\n",
      "            X_dup[i,j] = X[data_clu[i], feat_clu[j]]\n",
      "    \n",
      "    A = np.array([[False for j in xrange(K)] for i in xrange(n)])\n",
      "    for i in xrange(n):\n",
      "        l = []\n",
      "        for k in xrange(K):\n",
      "            l.append(np.linalg.norm(W[i]-X_dup[i]))\n",
      "        k = l.index(min(l))\n",
      "        A[i,k] = True\n",
      "        \n",
      "    del X_dup\n",
      "        \n",
      "    return A"
     ],
     "language": "python",
     "metadata": {},
     "outputs": [],
     "prompt_number": 106
    },
    {
     "cell_type": "code",
     "collapsed": false,
     "input": [
      "def update_B(X):\n",
      "    \n",
      "    X_dup = np.array([[0.0 for j in xrange(m)] for i in xrange(n)])\n",
      "    for i in xrange(n):\n",
      "        for j in xrange(m):\n",
      "            X_dup[i,j] = X[data_clu[i], feat_clu[j]]\n",
      "    \n",
      "    B = np.array([[False for j in xrange(C)] for i in xrange(m)])\n",
      "    for j in xrange(m):\n",
      "        l = []\n",
      "        for c in xrange(C):\n",
      "            l.append(np.linalg.norm(W[:,j]-X_dup[:,j]))\n",
      "        c = l.index(min(l))\n",
      "        B[j,c] = True\n",
      "        \n",
      "    del X_dup\n",
      "        \n",
      "    return A"
     ],
     "language": "python",
     "metadata": {},
     "outputs": [],
     "prompt_number": 107
    },
    {
     "cell_type": "code",
     "collapsed": false,
     "input": [
      "X = build_X(A,B)"
     ],
     "language": "python",
     "metadata": {},
     "outputs": [],
     "prompt_number": 108
    },
    {
     "cell_type": "code",
     "collapsed": false,
     "input": [
      "np.sum(X)"
     ],
     "language": "python",
     "metadata": {},
     "outputs": [
      {
       "metadata": {},
       "output_type": "pyout",
       "prompt_number": 109,
       "text": [
        "1.099025080160662"
       ]
      }
     ],
     "prompt_number": 109
    },
    {
     "cell_type": "code",
     "collapsed": false,
     "input": [
      "def obj(A,B,X):\n",
      "    err = 0.0\n",
      "    print \"building G\"\n",
      "    G = np.dot(A,X)\n",
      "    print \"building O\"\n",
      "    O = W - np.dot(G,B.T)\n",
      "    del G\n",
      "    print \"computing err\"\n",
      "    for i in xrange(n):\n",
      "        err += (np.linalg.norm(O[i]))**2\n",
      "    del O\n",
      "    return err"
     ],
     "language": "python",
     "metadata": {},
     "outputs": [],
     "prompt_number": 110
    },
    {
     "cell_type": "code",
     "collapsed": false,
     "input": [
      "err_1 = obj(A,B,X)\n",
      "err_1"
     ],
     "language": "python",
     "metadata": {},
     "outputs": [
      {
       "output_type": "stream",
       "stream": "stdout",
       "text": [
        "building G\n",
        "building O\n",
        "computing err"
       ]
      },
      {
       "output_type": "stream",
       "stream": "stdout",
       "text": [
        "\n"
       ]
      },
      {
       "metadata": {},
       "output_type": "pyout",
       "prompt_number": 111,
       "text": [
        "1112655.3117347623"
       ]
      }
     ],
     "prompt_number": 111
    },
    {
     "cell_type": "code",
     "collapsed": false,
     "input": [
      "for i in xrange(5):\n",
      "    print i\n",
      "    del A\n",
      "    A = update_A(X)\n",
      "    del B\n",
      "    B = update_B(X)\n",
      "    del X\n",
      "    X = build_X(A,B)"
     ],
     "language": "python",
     "metadata": {},
     "outputs": [
      {
       "output_type": "stream",
       "stream": "stdout",
       "text": [
        "0\n",
        "1"
       ]
      },
      {
       "output_type": "stream",
       "stream": "stdout",
       "text": [
        "\n",
        "2"
       ]
      },
      {
       "output_type": "stream",
       "stream": "stdout",
       "text": [
        "\n",
        "3"
       ]
      },
      {
       "output_type": "stream",
       "stream": "stdout",
       "text": [
        "\n",
        "4"
       ]
      },
      {
       "output_type": "stream",
       "stream": "stdout",
       "text": [
        "\n"
       ]
      }
     ],
     "prompt_number": 112
    },
    {
     "cell_type": "code",
     "collapsed": false,
     "input": [
      "A"
     ],
     "language": "python",
     "metadata": {},
     "outputs": [
      {
       "metadata": {},
       "output_type": "pyout",
       "prompt_number": 113,
       "text": [
        "array([[ True, False, False],\n",
        "       [ True, False, False],\n",
        "       [ True, False, False],\n",
        "       ..., \n",
        "       [ True, False, False],\n",
        "       [ True, False, False],\n",
        "       [ True, False, False]], dtype=bool)"
       ]
      }
     ],
     "prompt_number": 113
    },
    {
     "cell_type": "code",
     "collapsed": false,
     "input": [
      "B"
     ],
     "language": "python",
     "metadata": {},
     "outputs": [
      {
       "metadata": {},
       "output_type": "pyout",
       "prompt_number": 114,
       "text": [
        "array([[ True, False, False],\n",
        "       [ True, False, False],\n",
        "       [ True, False, False],\n",
        "       ..., \n",
        "       [ True, False, False],\n",
        "       [ True, False, False],\n",
        "       [ True, False, False]], dtype=bool)"
       ]
      }
     ],
     "prompt_number": 114
    },
    {
     "cell_type": "code",
     "collapsed": false,
     "input": [
      "X"
     ],
     "language": "python",
     "metadata": {},
     "outputs": [
      {
       "metadata": {},
       "output_type": "pyout",
       "prompt_number": 115,
       "text": [
        "array([[ 0.00013364,  0.        ,  0.        ],\n",
        "       [ 0.        ,  0.        ,  0.        ],\n",
        "       [ 0.        ,  0.        ,  0.        ]])"
       ]
      }
     ],
     "prompt_number": 115
    },
    {
     "cell_type": "code",
     "collapsed": false,
     "input": [
      "for i in xrange(10):\n",
      "    plt.plot(normal_eve[1000*i])"
     ],
     "language": "python",
     "metadata": {},
     "outputs": [
      {
       "metadata": {},
       "output_type": "display_data",
       "png": "[encoded data removed]",
       "text": [
        "<matplotlib.figure.Figure at 0x17060b350>"
       ]
      }
     ],
     "prompt_number": 131
    },
    {
     "cell_type": "heading",
     "level": 2,
     "metadata": {},
     "source": [
      "One Class"
     ]
    },
    {
     "cell_type": "code",
     "collapsed": false,
     "input": [
      "from sklearn import svm"
     ],
     "language": "python",
     "metadata": {},
     "outputs": [],
     "prompt_number": 96
    },
    {
     "cell_type": "code",
     "collapsed": false,
     "input": [
      "clf = svm.OneClassSVM(nu=0.00001, kernel=\"rbf\", verbose=True, gamma=0.075)"
     ],
     "language": "python",
     "metadata": {},
     "outputs": [],
     "prompt_number": 243
    },
    {
     "cell_type": "code",
     "collapsed": false,
     "input": [
      "clf.fit(normal_eve)"
     ],
     "language": "python",
     "metadata": {},
     "outputs": [
      {
       "output_type": "stream",
       "stream": "stdout",
       "text": [
        "[LibSVM]"
       ]
      },
      {
       "metadata": {},
       "output_type": "pyout",
       "prompt_number": 244,
       "text": [
        "OneClassSVM(cache_size=200, coef0=0.0, degree=3, gamma=0.075, kernel='rbf',\n",
        "      max_iter=-1, nu=1e-05, random_state=None, shrinking=True, tol=0.001,\n",
        "      verbose=True)"
       ]
      }
     ],
     "prompt_number": 244
    },
    {
     "cell_type": "code",
     "collapsed": false,
     "input": [
      "np.sum(clf.predict(normal_eve[10000:20000]))"
     ],
     "language": "python",
     "metadata": {},
     "outputs": [
      {
       "metadata": {},
       "output_type": "pyout",
       "prompt_number": 245,
       "text": [
        "9998.0"
       ]
      }
     ],
     "prompt_number": 245
    },
    {
     "cell_type": "code",
     "collapsed": false,
     "input": [
      "smurf_eve = np.array([0.0 for j in xrange(K)])\n",
      "\n",
      "event = cat_events[4][0]\n",
      "vector_ind = 0\n",
      "field_ind = 0\n",
      "#profiles[u,K] += 1\n",
      "\n",
      "for field in symb_feat:\n",
      "    for ele in field:\n",
      "        if event[field_ind] == ele:\n",
      "            smurf_eve[vector_ind] += 1\n",
      "        vector_ind += 1\n",
      "    field_ind += 1"
     ],
     "language": "python",
     "metadata": {},
     "outputs": [],
     "prompt_number": 330
    },
    {
     "cell_type": "code",
     "collapsed": false,
     "input": [
      "clf.predict(smurf_eve)"
     ],
     "language": "python",
     "metadata": {},
     "outputs": [
      {
       "ename": "ValueError",
       "evalue": "X.shape[1] = 182 should be equal to 110, the number of features at training time",
       "output_type": "pyerr",
       "traceback": [
        "\u001b[0;31m---------------------------------------------------------------------------\u001b[0m\n\u001b[0;31mValueError\u001b[0m                                Traceback (most recent call last)",
        "\u001b[0;32m<ipython-input-331-b584036041a8>\u001b[0m in \u001b[0;36m<module>\u001b[0;34m()\u001b[0m\n\u001b[0;32m----> 1\u001b[0;31m \u001b[0mclf\u001b[0m\u001b[0;34m.\u001b[0m\u001b[0mpredict\u001b[0m\u001b[0;34m(\u001b[0m\u001b[0msmurf_eve\u001b[0m\u001b[0;34m)\u001b[0m\u001b[0;34m\u001b[0m\u001b[0m\n\u001b[0m",
        "\u001b[0;32m/Users/bartimaeus/anaconda/lib/python2.7/site-packages/sklearn/svm/base.pyc\u001b[0m in \u001b[0;36mpredict\u001b[0;34m(self, X)\u001b[0m\n\u001b[1;32m    280\u001b[0m         \u001b[0my_pred\u001b[0m \u001b[0;34m:\u001b[0m \u001b[0marray\u001b[0m\u001b[0;34m,\u001b[0m \u001b[0mshape\u001b[0m \u001b[0;34m(\u001b[0m\u001b[0mn_samples\u001b[0m\u001b[0;34m,\u001b[0m\u001b[0;34m)\u001b[0m\u001b[0;34m\u001b[0m\u001b[0m\n\u001b[1;32m    281\u001b[0m         \"\"\"\n\u001b[0;32m--> 282\u001b[0;31m         \u001b[0mX\u001b[0m \u001b[0;34m=\u001b[0m \u001b[0mself\u001b[0m\u001b[0;34m.\u001b[0m\u001b[0m_validate_for_predict\u001b[0m\u001b[0;34m(\u001b[0m\u001b[0mX\u001b[0m\u001b[0;34m)\u001b[0m\u001b[0;34m\u001b[0m\u001b[0m\n\u001b[0m\u001b[1;32m    283\u001b[0m         \u001b[0mpredict\u001b[0m \u001b[0;34m=\u001b[0m \u001b[0mself\u001b[0m\u001b[0;34m.\u001b[0m\u001b[0m_sparse_predict\u001b[0m \u001b[0;32mif\u001b[0m \u001b[0mself\u001b[0m\u001b[0;34m.\u001b[0m\u001b[0m_sparse\u001b[0m \u001b[0;32melse\u001b[0m \u001b[0mself\u001b[0m\u001b[0;34m.\u001b[0m\u001b[0m_dense_predict\u001b[0m\u001b[0;34m\u001b[0m\u001b[0m\n\u001b[1;32m    284\u001b[0m         \u001b[0;32mreturn\u001b[0m \u001b[0mpredict\u001b[0m\u001b[0;34m(\u001b[0m\u001b[0mX\u001b[0m\u001b[0;34m)\u001b[0m\u001b[0;34m\u001b[0m\u001b[0m\n",
        "\u001b[0;32m/Users/bartimaeus/anaconda/lib/python2.7/site-packages/sklearn/svm/base.pyc\u001b[0m in \u001b[0;36m_validate_for_predict\u001b[0;34m(self, X)\u001b[0m\n\u001b[1;32m    402\u001b[0m             raise ValueError(\"X.shape[1] = %d should be equal to %d, \"\n\u001b[1;32m    403\u001b[0m                              \u001b[0;34m\"the number of features at training time\"\u001b[0m \u001b[0;34m%\u001b[0m\u001b[0;34m\u001b[0m\u001b[0m\n\u001b[0;32m--> 404\u001b[0;31m                              (n_features, self.shape_fit_[1]))\n\u001b[0m\u001b[1;32m    405\u001b[0m         \u001b[0;32mreturn\u001b[0m \u001b[0mX\u001b[0m\u001b[0;34m\u001b[0m\u001b[0m\n\u001b[1;32m    406\u001b[0m \u001b[0;34m\u001b[0m\u001b[0m\n",
        "\u001b[0;31mValueError\u001b[0m: X.shape[1] = 182 should be equal to 110, the number of features at training time"
       ]
      }
     ],
     "prompt_number": 331
    },
    {
     "cell_type": "code",
     "collapsed": false,
     "input": [
      "neptune_eve = np.array([[0.0 for j in xrange(K)] for i in xrange(len(cat_events[19]))])\n",
      "\n",
      "for i in xrange(len(cat_events[19])):\n",
      "    event = cat_events[19][i]\n",
      "    vector_ind = 0\n",
      "    field_ind = 0\n",
      "    #profiles[u,K] += 1\n",
      "    \n",
      "    for field in symb_feat:\n",
      "        for ele in field:\n",
      "            if event[field_ind] == ele:\n",
      "                neptune_eve[i][vector_ind] += 1\n",
      "            vector_ind += 1\n",
      "        field_ind += 1"
     ],
     "language": "python",
     "metadata": {},
     "outputs": [],
     "prompt_number": 222
    },
    {
     "cell_type": "code",
     "collapsed": false,
     "input": [
      "test = clf.predict(neptune_eve)"
     ],
     "language": "python",
     "metadata": {},
     "outputs": [],
     "prompt_number": 246
    },
    {
     "cell_type": "code",
     "collapsed": false,
     "input": [
      "np.sum(test)"
     ],
     "language": "python",
     "metadata": {},
     "outputs": [
      {
       "metadata": {},
       "output_type": "pyout",
       "prompt_number": 247,
       "text": [
        "-1357.0"
       ]
      }
     ],
     "prompt_number": 247
    },
    {
     "cell_type": "heading",
     "level": 3,
     "metadata": {},
     "source": [
      "Grid"
     ]
    },
    {
     "cell_type": "code",
     "collapsed": false,
     "input": [
      "from sklearn import svm, grid_search, datasets"
     ],
     "language": "python",
     "metadata": {},
     "outputs": [],
     "prompt_number": 94
    },
    {
     "cell_type": "code",
     "collapsed": false,
     "input": [
      "C_range = 10.0 ** np.arange(-8, -3)\n",
      "gamma_range = 10.0 ** np.arange(-8, 0)\n",
      "param_grid = dict(gamma=gamma_range, nu=C_range)\n",
      "svr = svm.OneClassSVM()"
     ],
     "language": "python",
     "metadata": {},
     "outputs": [],
     "prompt_number": 105
    },
    {
     "cell_type": "code",
     "collapsed": false,
     "input": [
      "y = np.ones(len(normal_eve))"
     ],
     "language": "python",
     "metadata": {},
     "outputs": [],
     "prompt_number": 106
    },
    {
     "cell_type": "code",
     "collapsed": false,
     "input": [
      "grid = grid_search.GridSearchCV(svr, param_grid=param_grid, verbose = 1, scoring = 'accuracy')\n",
      "grid.fit(normal_eve, y)\n",
      "print(\"The best classifier is: \", grid.best_estimator_)"
     ],
     "language": "python",
     "metadata": {},
     "outputs": [
      {
       "output_type": "stream",
       "stream": "stderr",
       "text": [
        "[Parallel(n_jobs=1)]: Done   1 jobs       | elapsed:    0.3s\n",
        "[Parallel(n_jobs=1)]: Done  50 jobs       | elapsed:   14.6s\n"
       ]
      },
      {
       "output_type": "stream",
       "stream": "stdout",
       "text": [
        "Fitting 3 folds for each of 40 candidates, totalling 120 fits\n",
        "('The best classifier is: ', OneClassSVM(cache_size=200, coef0=0.0, degree=3, gamma=0.0001, kernel='rbf',\n",
        "      max_iter=-1, nu=0.0001, random_state=None, shrinking=True, tol=0.001,\n",
        "      verbose=False))"
       ]
      },
      {
       "output_type": "stream",
       "stream": "stdout",
       "text": [
        "\n"
       ]
      },
      {
       "output_type": "stream",
       "stream": "stderr",
       "text": [
        "[Parallel(n_jobs=1)]: Done 120 out of 120 | elapsed:   53.0s finished\n"
       ]
      }
     ],
     "prompt_number": 107
    },
    {
     "cell_type": "code",
     "collapsed": false,
     "input": [
      "clf = svm.OneClassSVM(nu=0.0001, kernel=\"rbf\", verbose=True, gamma=0.0001)"
     ],
     "language": "python",
     "metadata": {},
     "outputs": [],
     "prompt_number": 100
    },
    {
     "cell_type": "code",
     "collapsed": false,
     "input": [
      "clf.fit(normal_eve)"
     ],
     "language": "python",
     "metadata": {},
     "outputs": [
      {
       "output_type": "stream",
       "stream": "stdout",
       "text": [
        "[LibSVM]"
       ]
      },
      {
       "metadata": {},
       "output_type": "pyout",
       "prompt_number": 101,
       "text": [
        "OneClassSVM(cache_size=200, coef0=0.0, degree=3, gamma=0.0001, kernel='rbf',\n",
        "      max_iter=-1, nu=0.0001, random_state=None, shrinking=True, tol=0.001,\n",
        "      verbose=True)"
       ]
      }
     ],
     "prompt_number": 101
    },
    {
     "cell_type": "code",
     "collapsed": false,
     "input": [
      "np.sum(clf.predict(normal_eve[10000:20000]))"
     ],
     "language": "python",
     "metadata": {},
     "outputs": [
      {
       "metadata": {},
       "output_type": "pyout",
       "prompt_number": 102,
       "text": [
        "10000.0"
       ]
      }
     ],
     "prompt_number": 102
    },
    {
     "cell_type": "code",
     "collapsed": false,
     "input": [
      "np.sum(clf.predict(neptune_eve))"
     ],
     "language": "python",
     "metadata": {},
     "outputs": [
      {
       "ename": "NameError",
       "evalue": "name 'neptune_eve' is not defined",
       "output_type": "pyerr",
       "traceback": [
        "\u001b[0;31m---------------------------------------------------------------------------\u001b[0m\n\u001b[0;31mNameError\u001b[0m                                 Traceback (most recent call last)",
        "\u001b[0;32m<ipython-input-103-c886b62a28e0>\u001b[0m in \u001b[0;36m<module>\u001b[0;34m()\u001b[0m\n\u001b[0;32m----> 1\u001b[0;31m \u001b[0mnp\u001b[0m\u001b[0;34m.\u001b[0m\u001b[0msum\u001b[0m\u001b[0;34m(\u001b[0m\u001b[0mclf\u001b[0m\u001b[0;34m.\u001b[0m\u001b[0mpredict\u001b[0m\u001b[0;34m(\u001b[0m\u001b[0mneptune_eve\u001b[0m\u001b[0;34m)\u001b[0m\u001b[0;34m)\u001b[0m\u001b[0;34m\u001b[0m\u001b[0m\n\u001b[0m",
        "\u001b[0;31mNameError\u001b[0m: name 'neptune_eve' is not defined"
       ]
      }
     ],
     "prompt_number": 103
    },
    {
     "cell_type": "code",
     "collapsed": false,
     "input": [
      "len(neptune_eve)"
     ],
     "language": "python",
     "metadata": {},
     "outputs": [
      {
       "metadata": {},
       "output_type": "pyout",
       "prompt_number": 283,
       "text": [
        "1589"
       ]
      }
     ],
     "prompt_number": 283
    },
    {
     "cell_type": "code",
     "collapsed": false,
     "input": [
      "w = 10\n",
      "smurf_eve = np.array([[0.0 for j in xrange(K)] for i in xrange(len(cat_events[w]))])\n",
      "\n",
      "for i in xrange(len(cat_events[w])):\n",
      "    event = cat_events[w][i]\n",
      "    vector_ind = 0\n",
      "    field_ind = 0\n",
      "    #profiles[u,K] += 1\n",
      "    \n",
      "    for field in symb_feat:\n",
      "        for ele in field:\n",
      "            if event[field_ind] == ele:\n",
      "                smurf_eve[i][vector_ind] += 1\n",
      "            vector_ind += 1\n",
      "        field_ind += 1"
     ],
     "language": "python",
     "metadata": {},
     "outputs": [],
     "prompt_number": 284
    },
    {
     "cell_type": "code",
     "collapsed": false,
     "input": [
      "np.sum(clf.predict(smurf_eve))"
     ],
     "language": "python",
     "metadata": {},
     "outputs": [
      {
       "metadata": {},
       "output_type": "pyout",
       "prompt_number": 285,
       "text": [
        "10.0"
       ]
      }
     ],
     "prompt_number": 285
    },
    {
     "cell_type": "code",
     "collapsed": false,
     "input": [
      "len(smurf_eve)"
     ],
     "language": "python",
     "metadata": {},
     "outputs": [
      {
       "metadata": {},
       "output_type": "pyout",
       "prompt_number": 286,
       "text": [
        "10"
       ]
      }
     ],
     "prompt_number": 286
    },
    {
     "cell_type": "code",
     "collapsed": false,
     "input": [
      "len(labelset)"
     ],
     "language": "python",
     "metadata": {},
     "outputs": [
      {
       "metadata": {},
       "output_type": "pyout",
       "prompt_number": 288,
       "text": [
        "23"
       ]
      }
     ],
     "prompt_number": 288
    },
    {
     "cell_type": "code",
     "collapsed": false,
     "input": [
      "for w in xrange(len(labelset)):\n",
      "    smurf_eve = np.array([[0.0 for j in xrange(K)] for i in xrange(len(cat_events[w]))])\n",
      "\n",
      "    for i in xrange(len(cat_events[w])):\n",
      "        event = cat_events[w][i]\n",
      "        vector_ind = 0\n",
      "        field_ind = 0\n",
      "        #profiles[u,K] += 1\n",
      "\n",
      "        for field in symb_feat:\n",
      "            for ele in field:\n",
      "                if event[field_ind] == ele:\n",
      "                    smurf_eve[i][vector_ind] += 1\n",
      "                vector_ind += 1\n",
      "            field_ind += 1\n",
      "            \n",
      "    print labelset[w][:-1]\n",
      "    print np.sum(clf.predict(smurf_eve))\n",
      "    print len(smurf_eve)"
     ],
     "language": "python",
     "metadata": {},
     "outputs": [
      {
       "output_type": "stream",
       "stream": "stdout",
       "text": [
        "perl.\n",
        "3.0\n",
        "3\n",
        "smurf."
       ]
      },
      {
       "output_type": "stream",
       "stream": "stdout",
       "text": [
        "\n",
        "175134.0"
       ]
      },
      {
       "output_type": "stream",
       "stream": "stdout",
       "text": [
        "\n",
        "280790\n",
        "ipsweep."
       ]
      },
      {
       "output_type": "stream",
       "stream": "stdout",
       "text": [
        "\n",
        "659.0\n",
        "1247\n",
        "ftp_write.\n",
        "8.0\n",
        "8\n",
        "nmap.\n",
        "23.0\n",
        "231\n",
        "back."
       ]
      },
      {
       "output_type": "stream",
       "stream": "stdout",
       "text": [
        "\n",
        "2203.0\n",
        "2203\n",
        "guess_passwd.\n",
        "51.0\n",
        "53\n",
        "pod.\n",
        "236.0\n",
        "264\n",
        "teardrop."
       ]
      },
      {
       "output_type": "stream",
       "stream": "stdout",
       "text": [
        "\n",
        "-385.0\n",
        "979\n",
        "multihop.\n",
        "3.0\n",
        "7\n",
        "rootkit.\n",
        "10.0\n",
        "10\n",
        "warezclient."
       ]
      },
      {
       "output_type": "stream",
       "stream": "stdout",
       "text": [
        "\n",
        "1016.0\n",
        "1020\n",
        "buffer_overflow.\n",
        "30.0\n",
        "30\n",
        "portsweep."
       ]
      },
      {
       "output_type": "stream",
       "stream": "stdout",
       "text": [
        "\n",
        "872.0\n",
        "1040\n",
        "phf.\n",
        "4.0\n",
        "4\n",
        "normal."
       ]
      },
      {
       "output_type": "stream",
       "stream": "stdout",
       "text": [
        "\n",
        "97266.0"
       ]
      },
      {
       "output_type": "stream",
       "stream": "stdout",
       "text": [
        "\n",
        "97278\n",
        "loadmodule.\n",
        "7.0\n",
        "9\n",
        "neptune."
       ]
      },
      {
       "output_type": "stream",
       "stream": "stdout",
       "text": [
        "\n",
        "-63957.0"
       ]
      },
      {
       "output_type": "stream",
       "stream": "stdout",
       "text": [
        "\n",
        "107201\n",
        "land.\n",
        "-13.0\n",
        "21\n",
        "satan."
       ]
      },
      {
       "output_type": "stream",
       "stream": "stdout",
       "text": [
        "\n",
        "-1191.0\n",
        "1589\n",
        "warezmaster.\n",
        "20.0\n",
        "20\n",
        "imap.\n",
        "-4.0\n",
        "12\n",
        "spy.\n",
        "2.0\n",
        "2\n"
       ]
      }
     ],
     "prompt_number": 104
    },
    {
     "cell_type": "heading",
     "level": 2,
     "metadata": {},
     "source": [
      "OCSVM on clusters"
     ]
    },
    {
     "cell_type": "code",
     "collapsed": false,
     "input": [
      "from sklearn import svm, grid_search, datasets"
     ],
     "language": "python",
     "metadata": {},
     "outputs": [],
     "prompt_number": 112
    },
    {
     "cell_type": "code",
     "collapsed": false,
     "input": [
      "C_range = 10.0 ** np.arange(-8, -3)\n",
      "gamma_range = 10.0 ** np.arange(-8, 0)\n",
      "param_grid = dict(gamma=gamma_range, nu=C_range)\n",
      "svr = svm.OneClassSVM()"
     ],
     "language": "python",
     "metadata": {},
     "outputs": [],
     "prompt_number": 113
    },
    {
     "cell_type": "code",
     "collapsed": false,
     "input": [
      "y = np.ones(len(normal_eve))"
     ],
     "language": "python",
     "metadata": {},
     "outputs": [],
     "prompt_number": 114
    },
    {
     "cell_type": "code",
     "collapsed": false,
     "input": [
      "best_nu = [0 for i in xrange(len(a))]\n",
      "best_gamma = [0 for i in xrange(len(a))]\n",
      "best_sco = [0 for i in xrange(len(a))]\n",
      "\n",
      "for i in xrange(len(a)):\n",
      "    for nu in C_range:\n",
      "        for gamma in gamma_range:\n",
      "            clf = svm.OneClassSVM(nu=nu, kernel=\"rbf\", verbose=True, gamma=gamma)\n",
      "            clf.fit(eve_clu[i])\n",
      "            sco = clf.predict(eve_clu[i])\n",
      "            if np.sum(sco) >= best_sco[i] :\n",
      "                best_nu[i] = nu\n",
      "                best_gamma[i] = gamma\n",
      "                best_sco[i] = np.sum(sco)"
     ],
     "language": "python",
     "metadata": {},
     "outputs": [
      {
       "output_type": "stream",
       "stream": "stdout",
       "text": [
        "[LibSVM][LibSVM]"
       ]
      },
      {
       "output_type": "stream",
       "stream": "stdout",
       "text": [
        "[LibSVM]"
       ]
      },
      {
       "output_type": "stream",
       "stream": "stdout",
       "text": [
        "[LibSVM]"
       ]
      },
      {
       "output_type": "stream",
       "stream": "stdout",
       "text": [
        "[LibSVM]"
       ]
      },
      {
       "output_type": "stream",
       "stream": "stdout",
       "text": [
        "[LibSVM]"
       ]
      },
      {
       "output_type": "stream",
       "stream": "stdout",
       "text": [
        "[LibSVM]"
       ]
      },
      {
       "output_type": "stream",
       "stream": "stdout",
       "text": [
        "[LibSVM]"
       ]
      },
      {
       "output_type": "stream",
       "stream": "stdout",
       "text": [
        "[LibSVM]"
       ]
      },
      {
       "output_type": "stream",
       "stream": "stdout",
       "text": [
        "[LibSVM]"
       ]
      },
      {
       "output_type": "stream",
       "stream": "stdout",
       "text": [
        "[LibSVM]"
       ]
      },
      {
       "output_type": "stream",
       "stream": "stdout",
       "text": [
        "[LibSVM]"
       ]
      },
      {
       "output_type": "stream",
       "stream": "stdout",
       "text": [
        "[LibSVM]"
       ]
      },
      {
       "output_type": "stream",
       "stream": "stdout",
       "text": [
        "[LibSVM]"
       ]
      },
      {
       "output_type": "stream",
       "stream": "stdout",
       "text": [
        "[LibSVM]"
       ]
      },
      {
       "output_type": "stream",
       "stream": "stdout",
       "text": [
        "[LibSVM]"
       ]
      },
      {
       "output_type": "stream",
       "stream": "stdout",
       "text": [
        "[LibSVM]"
       ]
      },
      {
       "output_type": "stream",
       "stream": "stdout",
       "text": [
        "[LibSVM]"
       ]
      },
      {
       "output_type": "stream",
       "stream": "stdout",
       "text": [
        "[LibSVM]"
       ]
      },
      {
       "output_type": "stream",
       "stream": "stdout",
       "text": [
        "[LibSVM]"
       ]
      },
      {
       "output_type": "stream",
       "stream": "stdout",
       "text": [
        "[LibSVM]"
       ]
      },
      {
       "output_type": "stream",
       "stream": "stdout",
       "text": [
        "[LibSVM]"
       ]
      },
      {
       "output_type": "stream",
       "stream": "stdout",
       "text": [
        "[LibSVM]"
       ]
      },
      {
       "output_type": "stream",
       "stream": "stdout",
       "text": [
        "[LibSVM]"
       ]
      },
      {
       "output_type": "stream",
       "stream": "stdout",
       "text": [
        "[LibSVM]"
       ]
      },
      {
       "output_type": "stream",
       "stream": "stdout",
       "text": [
        "[LibSVM]"
       ]
      },
      {
       "output_type": "stream",
       "stream": "stdout",
       "text": [
        "[LibSVM]"
       ]
      },
      {
       "output_type": "stream",
       "stream": "stdout",
       "text": [
        "[LibSVM]"
       ]
      },
      {
       "output_type": "stream",
       "stream": "stdout",
       "text": [
        "[LibSVM]"
       ]
      },
      {
       "output_type": "stream",
       "stream": "stdout",
       "text": [
        "[LibSVM]"
       ]
      },
      {
       "output_type": "stream",
       "stream": "stdout",
       "text": [
        "[LibSVM]"
       ]
      },
      {
       "output_type": "stream",
       "stream": "stdout",
       "text": [
        "[LibSVM]"
       ]
      },
      {
       "output_type": "stream",
       "stream": "stdout",
       "text": [
        "[LibSVM]"
       ]
      },
      {
       "output_type": "stream",
       "stream": "stdout",
       "text": [
        "[LibSVM]"
       ]
      },
      {
       "output_type": "stream",
       "stream": "stdout",
       "text": [
        "[LibSVM]"
       ]
      },
      {
       "output_type": "stream",
       "stream": "stdout",
       "text": [
        "[LibSVM]"
       ]
      },
      {
       "output_type": "stream",
       "stream": "stdout",
       "text": [
        "[LibSVM]"
       ]
      },
      {
       "output_type": "stream",
       "stream": "stdout",
       "text": [
        "[LibSVM]"
       ]
      },
      {
       "output_type": "stream",
       "stream": "stdout",
       "text": [
        "[LibSVM]"
       ]
      },
      {
       "output_type": "stream",
       "stream": "stdout",
       "text": [
        "[LibSVM]"
       ]
      },
      {
       "output_type": "stream",
       "stream": "stdout",
       "text": [
        "[LibSVM]"
       ]
      },
      {
       "output_type": "stream",
       "stream": "stdout",
       "text": [
        "[LibSVM]"
       ]
      },
      {
       "output_type": "stream",
       "stream": "stdout",
       "text": [
        "[LibSVM]"
       ]
      },
      {
       "output_type": "stream",
       "stream": "stdout",
       "text": [
        "[LibSVM]"
       ]
      },
      {
       "output_type": "stream",
       "stream": "stdout",
       "text": [
        "[LibSVM]"
       ]
      },
      {
       "output_type": "stream",
       "stream": "stdout",
       "text": [
        "[LibSVM]"
       ]
      },
      {
       "output_type": "stream",
       "stream": "stdout",
       "text": [
        "[LibSVM]"
       ]
      },
      {
       "output_type": "stream",
       "stream": "stdout",
       "text": [
        "[LibSVM]"
       ]
      },
      {
       "output_type": "stream",
       "stream": "stdout",
       "text": [
        "[LibSVM]"
       ]
      },
      {
       "output_type": "stream",
       "stream": "stdout",
       "text": [
        "[LibSVM]"
       ]
      },
      {
       "output_type": "stream",
       "stream": "stdout",
       "text": [
        "[LibSVM]"
       ]
      },
      {
       "output_type": "stream",
       "stream": "stdout",
       "text": [
        "[LibSVM]"
       ]
      },
      {
       "output_type": "stream",
       "stream": "stdout",
       "text": [
        "[LibSVM]"
       ]
      },
      {
       "output_type": "stream",
       "stream": "stdout",
       "text": [
        "[LibSVM]"
       ]
      },
      {
       "output_type": "stream",
       "stream": "stdout",
       "text": [
        "[LibSVM]"
       ]
      },
      {
       "output_type": "stream",
       "stream": "stdout",
       "text": [
        "[LibSVM]"
       ]
      },
      {
       "output_type": "stream",
       "stream": "stdout",
       "text": [
        "[LibSVM]"
       ]
      },
      {
       "output_type": "stream",
       "stream": "stdout",
       "text": [
        "[LibSVM]"
       ]
      },
      {
       "output_type": "stream",
       "stream": "stdout",
       "text": [
        "[LibSVM]"
       ]
      },
      {
       "output_type": "stream",
       "stream": "stdout",
       "text": [
        "[LibSVM]"
       ]
      },
      {
       "output_type": "stream",
       "stream": "stdout",
       "text": [
        "[LibSVM]"
       ]
      },
      {
       "output_type": "stream",
       "stream": "stdout",
       "text": [
        "[LibSVM]"
       ]
      },
      {
       "output_type": "stream",
       "stream": "stdout",
       "text": [
        "[LibSVM]"
       ]
      },
      {
       "output_type": "stream",
       "stream": "stdout",
       "text": [
        "[LibSVM]"
       ]
      },
      {
       "output_type": "stream",
       "stream": "stdout",
       "text": [
        "[LibSVM]"
       ]
      },
      {
       "output_type": "stream",
       "stream": "stdout",
       "text": [
        "[LibSVM]"
       ]
      },
      {
       "output_type": "stream",
       "stream": "stdout",
       "text": [
        "[LibSVM]"
       ]
      },
      {
       "output_type": "stream",
       "stream": "stdout",
       "text": [
        "[LibSVM]"
       ]
      },
      {
       "output_type": "stream",
       "stream": "stdout",
       "text": [
        "[LibSVM]"
       ]
      },
      {
       "output_type": "stream",
       "stream": "stdout",
       "text": [
        "[LibSVM]"
       ]
      },
      {
       "output_type": "stream",
       "stream": "stdout",
       "text": [
        "[LibSVM]"
       ]
      },
      {
       "output_type": "stream",
       "stream": "stdout",
       "text": [
        "[LibSVM]"
       ]
      },
      {
       "output_type": "stream",
       "stream": "stdout",
       "text": [
        "[LibSVM]"
       ]
      },
      {
       "output_type": "stream",
       "stream": "stdout",
       "text": [
        "[LibSVM]"
       ]
      },
      {
       "output_type": "stream",
       "stream": "stdout",
       "text": [
        "[LibSVM]"
       ]
      },
      {
       "output_type": "stream",
       "stream": "stdout",
       "text": [
        "[LibSVM]"
       ]
      },
      {
       "output_type": "stream",
       "stream": "stdout",
       "text": [
        "[LibSVM]"
       ]
      },
      {
       "output_type": "stream",
       "stream": "stdout",
       "text": [
        "[LibSVM]"
       ]
      },
      {
       "output_type": "stream",
       "stream": "stdout",
       "text": [
        "[LibSVM]"
       ]
      },
      {
       "output_type": "stream",
       "stream": "stdout",
       "text": [
        "[LibSVM]"
       ]
      },
      {
       "output_type": "stream",
       "stream": "stdout",
       "text": [
        "[LibSVM]"
       ]
      },
      {
       "output_type": "stream",
       "stream": "stdout",
       "text": [
        "[LibSVM]"
       ]
      },
      {
       "output_type": "stream",
       "stream": "stdout",
       "text": [
        "[LibSVM]"
       ]
      },
      {
       "output_type": "stream",
       "stream": "stdout",
       "text": [
        "[LibSVM]"
       ]
      },
      {
       "output_type": "stream",
       "stream": "stdout",
       "text": [
        "[LibSVM]"
       ]
      },
      {
       "output_type": "stream",
       "stream": "stdout",
       "text": [
        "[LibSVM]"
       ]
      },
      {
       "output_type": "stream",
       "stream": "stdout",
       "text": [
        "[LibSVM]"
       ]
      },
      {
       "output_type": "stream",
       "stream": "stdout",
       "text": [
        "[LibSVM]"
       ]
      },
      {
       "output_type": "stream",
       "stream": "stdout",
       "text": [
        "[LibSVM]"
       ]
      },
      {
       "output_type": "stream",
       "stream": "stdout",
       "text": [
        "[LibSVM]"
       ]
      },
      {
       "output_type": "stream",
       "stream": "stdout",
       "text": [
        "[LibSVM]"
       ]
      },
      {
       "output_type": "stream",
       "stream": "stdout",
       "text": [
        "[LibSVM]"
       ]
      },
      {
       "output_type": "stream",
       "stream": "stdout",
       "text": [
        "[LibSVM]"
       ]
      },
      {
       "output_type": "stream",
       "stream": "stdout",
       "text": [
        "[LibSVM]"
       ]
      },
      {
       "output_type": "stream",
       "stream": "stdout",
       "text": [
        "[LibSVM]"
       ]
      },
      {
       "output_type": "stream",
       "stream": "stdout",
       "text": [
        "[LibSVM]"
       ]
      },
      {
       "output_type": "stream",
       "stream": "stdout",
       "text": [
        "[LibSVM]"
       ]
      },
      {
       "output_type": "stream",
       "stream": "stdout",
       "text": [
        "[LibSVM]"
       ]
      },
      {
       "output_type": "stream",
       "stream": "stdout",
       "text": [
        "[LibSVM]"
       ]
      },
      {
       "output_type": "stream",
       "stream": "stdout",
       "text": [
        "[LibSVM]"
       ]
      },
      {
       "output_type": "stream",
       "stream": "stdout",
       "text": [
        "[LibSVM]"
       ]
      },
      {
       "output_type": "stream",
       "stream": "stdout",
       "text": [
        "[LibSVM]"
       ]
      },
      {
       "output_type": "stream",
       "stream": "stdout",
       "text": [
        "[LibSVM]"
       ]
      },
      {
       "output_type": "stream",
       "stream": "stdout",
       "text": [
        "[LibSVM]"
       ]
      },
      {
       "output_type": "stream",
       "stream": "stdout",
       "text": [
        "[LibSVM]"
       ]
      },
      {
       "output_type": "stream",
       "stream": "stdout",
       "text": [
        "[LibSVM]"
       ]
      },
      {
       "output_type": "stream",
       "stream": "stdout",
       "text": [
        "[LibSVM]"
       ]
      },
      {
       "output_type": "stream",
       "stream": "stdout",
       "text": [
        "[LibSVM]"
       ]
      },
      {
       "output_type": "stream",
       "stream": "stdout",
       "text": [
        "[LibSVM]"
       ]
      },
      {
       "output_type": "stream",
       "stream": "stdout",
       "text": [
        "[LibSVM]"
       ]
      },
      {
       "output_type": "stream",
       "stream": "stdout",
       "text": [
        "[LibSVM]"
       ]
      },
      {
       "output_type": "stream",
       "stream": "stdout",
       "text": [
        "[LibSVM]"
       ]
      },
      {
       "output_type": "stream",
       "stream": "stdout",
       "text": [
        "[LibSVM]"
       ]
      },
      {
       "output_type": "stream",
       "stream": "stdout",
       "text": [
        "[LibSVM]"
       ]
      },
      {
       "output_type": "stream",
       "stream": "stdout",
       "text": [
        "[LibSVM]"
       ]
      },
      {
       "output_type": "stream",
       "stream": "stdout",
       "text": [
        "[LibSVM]"
       ]
      },
      {
       "output_type": "stream",
       "stream": "stdout",
       "text": [
        "[LibSVM]"
       ]
      },
      {
       "output_type": "stream",
       "stream": "stdout",
       "text": [
        "[LibSVM]"
       ]
      },
      {
       "output_type": "stream",
       "stream": "stdout",
       "text": [
        "[LibSVM]"
       ]
      },
      {
       "output_type": "stream",
       "stream": "stdout",
       "text": [
        "[LibSVM]"
       ]
      },
      {
       "output_type": "stream",
       "stream": "stdout",
       "text": [
        "[LibSVM]"
       ]
      },
      {
       "output_type": "stream",
       "stream": "stdout",
       "text": [
        "[LibSVM]"
       ]
      },
      {
       "output_type": "stream",
       "stream": "stdout",
       "text": [
        "[LibSVM]"
       ]
      },
      {
       "output_type": "stream",
       "stream": "stdout",
       "text": [
        "[LibSVM]"
       ]
      },
      {
       "output_type": "stream",
       "stream": "stdout",
       "text": [
        "[LibSVM]"
       ]
      },
      {
       "output_type": "stream",
       "stream": "stdout",
       "text": [
        "[LibSVM]"
       ]
      },
      {
       "output_type": "stream",
       "stream": "stdout",
       "text": [
        "[LibSVM]"
       ]
      },
      {
       "output_type": "stream",
       "stream": "stdout",
       "text": [
        "[LibSVM]"
       ]
      },
      {
       "output_type": "stream",
       "stream": "stdout",
       "text": [
        "[LibSVM]"
       ]
      },
      {
       "output_type": "stream",
       "stream": "stdout",
       "text": [
        "[LibSVM]"
       ]
      },
      {
       "output_type": "stream",
       "stream": "stdout",
       "text": [
        "[LibSVM]"
       ]
      },
      {
       "output_type": "stream",
       "stream": "stdout",
       "text": [
        "[LibSVM]"
       ]
      },
      {
       "output_type": "stream",
       "stream": "stdout",
       "text": [
        "[LibSVM]"
       ]
      },
      {
       "output_type": "stream",
       "stream": "stdout",
       "text": [
        "[LibSVM]"
       ]
      },
      {
       "output_type": "stream",
       "stream": "stdout",
       "text": [
        "[LibSVM]"
       ]
      },
      {
       "output_type": "stream",
       "stream": "stdout",
       "text": [
        "[LibSVM]"
       ]
      },
      {
       "output_type": "stream",
       "stream": "stdout",
       "text": [
        "[LibSVM]"
       ]
      },
      {
       "output_type": "stream",
       "stream": "stdout",
       "text": [
        "[LibSVM]"
       ]
      },
      {
       "output_type": "stream",
       "stream": "stdout",
       "text": [
        "[LibSVM]"
       ]
      },
      {
       "output_type": "stream",
       "stream": "stdout",
       "text": [
        "[LibSVM]"
       ]
      },
      {
       "output_type": "stream",
       "stream": "stdout",
       "text": [
        "[LibSVM]"
       ]
      },
      {
       "output_type": "stream",
       "stream": "stdout",
       "text": [
        "[LibSVM]"
       ]
      },
      {
       "output_type": "stream",
       "stream": "stdout",
       "text": [
        "[LibSVM]"
       ]
      },
      {
       "output_type": "stream",
       "stream": "stdout",
       "text": [
        "[LibSVM]"
       ]
      },
      {
       "output_type": "stream",
       "stream": "stdout",
       "text": [
        "[LibSVM]"
       ]
      },
      {
       "output_type": "stream",
       "stream": "stdout",
       "text": [
        "[LibSVM]"
       ]
      },
      {
       "output_type": "stream",
       "stream": "stdout",
       "text": [
        "[LibSVM]"
       ]
      },
      {
       "output_type": "stream",
       "stream": "stdout",
       "text": [
        "[LibSVM]"
       ]
      },
      {
       "output_type": "stream",
       "stream": "stdout",
       "text": [
        "[LibSVM]"
       ]
      },
      {
       "output_type": "stream",
       "stream": "stdout",
       "text": [
        "[LibSVM]"
       ]
      },
      {
       "output_type": "stream",
       "stream": "stdout",
       "text": [
        "[LibSVM]"
       ]
      },
      {
       "output_type": "stream",
       "stream": "stdout",
       "text": [
        "[LibSVM]"
       ]
      },
      {
       "output_type": "stream",
       "stream": "stdout",
       "text": [
        "[LibSVM]"
       ]
      },
      {
       "output_type": "stream",
       "stream": "stdout",
       "text": [
        "[LibSVM]"
       ]
      },
      {
       "output_type": "stream",
       "stream": "stdout",
       "text": [
        "[LibSVM]"
       ]
      },
      {
       "output_type": "stream",
       "stream": "stdout",
       "text": [
        "[LibSVM]"
       ]
      },
      {
       "output_type": "stream",
       "stream": "stdout",
       "text": [
        "[LibSVM]"
       ]
      },
      {
       "output_type": "stream",
       "stream": "stdout",
       "text": [
        "[LibSVM]"
       ]
      },
      {
       "output_type": "stream",
       "stream": "stdout",
       "text": [
        "[LibSVM]"
       ]
      },
      {
       "output_type": "stream",
       "stream": "stdout",
       "text": [
        "[LibSVM]"
       ]
      },
      {
       "output_type": "stream",
       "stream": "stdout",
       "text": [
        "[LibSVM]"
       ]
      },
      {
       "output_type": "stream",
       "stream": "stdout",
       "text": [
        "[LibSVM]"
       ]
      },
      {
       "output_type": "stream",
       "stream": "stdout",
       "text": [
        "[LibSVM]"
       ]
      },
      {
       "output_type": "stream",
       "stream": "stdout",
       "text": [
        "[LibSVM]"
       ]
      },
      {
       "output_type": "stream",
       "stream": "stdout",
       "text": [
        "[LibSVM]"
       ]
      },
      {
       "output_type": "stream",
       "stream": "stdout",
       "text": [
        "[LibSVM]"
       ]
      },
      {
       "output_type": "stream",
       "stream": "stdout",
       "text": [
        "[LibSVM]"
       ]
      },
      {
       "output_type": "stream",
       "stream": "stdout",
       "text": [
        "[LibSVM]"
       ]
      },
      {
       "output_type": "stream",
       "stream": "stdout",
       "text": [
        "[LibSVM]"
       ]
      },
      {
       "output_type": "stream",
       "stream": "stdout",
       "text": [
        "[LibSVM]"
       ]
      },
      {
       "output_type": "stream",
       "stream": "stdout",
       "text": [
        "[LibSVM]"
       ]
      },
      {
       "output_type": "stream",
       "stream": "stdout",
       "text": [
        "[LibSVM]"
       ]
      },
      {
       "output_type": "stream",
       "stream": "stdout",
       "text": [
        "[LibSVM]"
       ]
      },
      {
       "output_type": "stream",
       "stream": "stdout",
       "text": [
        "[LibSVM]"
       ]
      },
      {
       "output_type": "stream",
       "stream": "stdout",
       "text": [
        "[LibSVM]"
       ]
      },
      {
       "output_type": "stream",
       "stream": "stdout",
       "text": [
        "[LibSVM]"
       ]
      },
      {
       "output_type": "stream",
       "stream": "stdout",
       "text": [
        "[LibSVM]"
       ]
      },
      {
       "output_type": "stream",
       "stream": "stdout",
       "text": [
        "[LibSVM]"
       ]
      },
      {
       "output_type": "stream",
       "stream": "stdout",
       "text": [
        "[LibSVM]"
       ]
      },
      {
       "output_type": "stream",
       "stream": "stdout",
       "text": [
        "[LibSVM]"
       ]
      },
      {
       "output_type": "stream",
       "stream": "stdout",
       "text": [
        "[LibSVM]"
       ]
      },
      {
       "output_type": "stream",
       "stream": "stdout",
       "text": [
        "[LibSVM]"
       ]
      },
      {
       "output_type": "stream",
       "stream": "stdout",
       "text": [
        "[LibSVM]"
       ]
      },
      {
       "output_type": "stream",
       "stream": "stdout",
       "text": [
        "[LibSVM]"
       ]
      },
      {
       "output_type": "stream",
       "stream": "stdout",
       "text": [
        "[LibSVM]"
       ]
      },
      {
       "output_type": "stream",
       "stream": "stdout",
       "text": [
        "[LibSVM]"
       ]
      },
      {
       "output_type": "stream",
       "stream": "stdout",
       "text": [
        "[LibSVM]"
       ]
      },
      {
       "output_type": "stream",
       "stream": "stdout",
       "text": [
        "[LibSVM]"
       ]
      },
      {
       "output_type": "stream",
       "stream": "stdout",
       "text": [
        "[LibSVM]"
       ]
      },
      {
       "output_type": "stream",
       "stream": "stdout",
       "text": [
        "[LibSVM]"
       ]
      },
      {
       "output_type": "stream",
       "stream": "stdout",
       "text": [
        "[LibSVM]"
       ]
      },
      {
       "output_type": "stream",
       "stream": "stdout",
       "text": [
        "[LibSVM]"
       ]
      },
      {
       "output_type": "stream",
       "stream": "stdout",
       "text": [
        "[LibSVM]"
       ]
      },
      {
       "output_type": "stream",
       "stream": "stdout",
       "text": [
        "[LibSVM]"
       ]
      },
      {
       "output_type": "stream",
       "stream": "stdout",
       "text": [
        "[LibSVM]"
       ]
      },
      {
       "output_type": "stream",
       "stream": "stdout",
       "text": [
        "[LibSVM]"
       ]
      },
      {
       "output_type": "stream",
       "stream": "stdout",
       "text": [
        "[LibSVM]"
       ]
      },
      {
       "output_type": "stream",
       "stream": "stdout",
       "text": [
        "[LibSVM]"
       ]
      },
      {
       "output_type": "stream",
       "stream": "stdout",
       "text": [
        "[LibSVM]"
       ]
      },
      {
       "output_type": "stream",
       "stream": "stdout",
       "text": [
        "[LibSVM]"
       ]
      },
      {
       "output_type": "stream",
       "stream": "stdout",
       "text": [
        "[LibSVM]"
       ]
      },
      {
       "output_type": "stream",
       "stream": "stdout",
       "text": [
        "[LibSVM]"
       ]
      },
      {
       "output_type": "stream",
       "stream": "stdout",
       "text": [
        "[LibSVM]"
       ]
      },
      {
       "output_type": "stream",
       "stream": "stdout",
       "text": [
        "[LibSVM]"
       ]
      },
      {
       "output_type": "stream",
       "stream": "stdout",
       "text": [
        "[LibSVM]"
       ]
      },
      {
       "output_type": "stream",
       "stream": "stdout",
       "text": [
        "[LibSVM]"
       ]
      },
      {
       "output_type": "stream",
       "stream": "stdout",
       "text": [
        "[LibSVM]"
       ]
      },
      {
       "output_type": "stream",
       "stream": "stdout",
       "text": [
        "[LibSVM]"
       ]
      },
      {
       "output_type": "stream",
       "stream": "stdout",
       "text": [
        "[LibSVM]"
       ]
      },
      {
       "output_type": "stream",
       "stream": "stdout",
       "text": [
        "[LibSVM]"
       ]
      },
      {
       "output_type": "stream",
       "stream": "stdout",
       "text": [
        "[LibSVM]"
       ]
      },
      {
       "output_type": "stream",
       "stream": "stdout",
       "text": [
        "[LibSVM]"
       ]
      },
      {
       "output_type": "stream",
       "stream": "stdout",
       "text": [
        "[LibSVM]"
       ]
      },
      {
       "output_type": "stream",
       "stream": "stdout",
       "text": [
        "[LibSVM]"
       ]
      },
      {
       "output_type": "stream",
       "stream": "stdout",
       "text": [
        "[LibSVM]"
       ]
      },
      {
       "output_type": "stream",
       "stream": "stdout",
       "text": [
        "[LibSVM]"
       ]
      },
      {
       "output_type": "stream",
       "stream": "stdout",
       "text": [
        "[LibSVM]"
       ]
      },
      {
       "output_type": "stream",
       "stream": "stdout",
       "text": [
        "[LibSVM]"
       ]
      },
      {
       "output_type": "stream",
       "stream": "stdout",
       "text": [
        "[LibSVM]"
       ]
      },
      {
       "output_type": "stream",
       "stream": "stdout",
       "text": [
        "[LibSVM]"
       ]
      },
      {
       "output_type": "stream",
       "stream": "stdout",
       "text": [
        "[LibSVM]"
       ]
      },
      {
       "output_type": "stream",
       "stream": "stdout",
       "text": [
        "[LibSVM]"
       ]
      },
      {
       "output_type": "stream",
       "stream": "stdout",
       "text": [
        "[LibSVM]"
       ]
      },
      {
       "output_type": "stream",
       "stream": "stdout",
       "text": [
        "[LibSVM]"
       ]
      },
      {
       "output_type": "stream",
       "stream": "stdout",
       "text": [
        "[LibSVM]"
       ]
      },
      {
       "output_type": "stream",
       "stream": "stdout",
       "text": [
        "[LibSVM]"
       ]
      },
      {
       "output_type": "stream",
       "stream": "stdout",
       "text": [
        "[LibSVM]"
       ]
      },
      {
       "output_type": "stream",
       "stream": "stdout",
       "text": [
        "[LibSVM]"
       ]
      },
      {
       "output_type": "stream",
       "stream": "stdout",
       "text": [
        "[LibSVM]"
       ]
      },
      {
       "output_type": "stream",
       "stream": "stdout",
       "text": [
        "[LibSVM]"
       ]
      },
      {
       "output_type": "stream",
       "stream": "stdout",
       "text": [
        "[LibSVM]"
       ]
      },
      {
       "output_type": "stream",
       "stream": "stdout",
       "text": [
        "[LibSVM]"
       ]
      },
      {
       "output_type": "stream",
       "stream": "stdout",
       "text": [
        "[LibSVM]"
       ]
      },
      {
       "output_type": "stream",
       "stream": "stdout",
       "text": [
        "[LibSVM]"
       ]
      },
      {
       "output_type": "stream",
       "stream": "stdout",
       "text": [
        "[LibSVM]"
       ]
      },
      {
       "output_type": "stream",
       "stream": "stdout",
       "text": [
        "[LibSVM]"
       ]
      },
      {
       "output_type": "stream",
       "stream": "stdout",
       "text": [
        "[LibSVM]"
       ]
      },
      {
       "output_type": "stream",
       "stream": "stdout",
       "text": [
        "[LibSVM]"
       ]
      },
      {
       "output_type": "stream",
       "stream": "stdout",
       "text": [
        "[LibSVM]"
       ]
      },
      {
       "output_type": "stream",
       "stream": "stdout",
       "text": [
        "[LibSVM]"
       ]
      },
      {
       "output_type": "stream",
       "stream": "stdout",
       "text": [
        "[LibSVM]"
       ]
      },
      {
       "output_type": "stream",
       "stream": "stdout",
       "text": [
        "[LibSVM]"
       ]
      },
      {
       "output_type": "stream",
       "stream": "stdout",
       "text": [
        "[LibSVM]"
       ]
      },
      {
       "output_type": "stream",
       "stream": "stdout",
       "text": [
        "[LibSVM]"
       ]
      },
      {
       "output_type": "stream",
       "stream": "stdout",
       "text": [
        "[LibSVM]"
       ]
      },
      {
       "output_type": "stream",
       "stream": "stdout",
       "text": [
        "[LibSVM]"
       ]
      },
      {
       "output_type": "stream",
       "stream": "stdout",
       "text": [
        "[LibSVM]"
       ]
      },
      {
       "output_type": "stream",
       "stream": "stdout",
       "text": [
        "[LibSVM]"
       ]
      },
      {
       "output_type": "stream",
       "stream": "stdout",
       "text": [
        "[LibSVM]"
       ]
      },
      {
       "output_type": "stream",
       "stream": "stdout",
       "text": [
        "[LibSVM]"
       ]
      },
      {
       "output_type": "stream",
       "stream": "stdout",
       "text": [
        "[LibSVM]"
       ]
      },
      {
       "output_type": "stream",
       "stream": "stdout",
       "text": [
        "[LibSVM]"
       ]
      },
      {
       "output_type": "stream",
       "stream": "stdout",
       "text": [
        "[LibSVM]"
       ]
      },
      {
       "output_type": "stream",
       "stream": "stdout",
       "text": [
        "[LibSVM]"
       ]
      },
      {
       "output_type": "stream",
       "stream": "stdout",
       "text": [
        "[LibSVM]"
       ]
      },
      {
       "output_type": "stream",
       "stream": "stdout",
       "text": [
        "[LibSVM]"
       ]
      },
      {
       "output_type": "stream",
       "stream": "stdout",
       "text": [
        "[LibSVM]"
       ]
      },
      {
       "output_type": "stream",
       "stream": "stdout",
       "text": [
        "[LibSVM]"
       ]
      },
      {
       "output_type": "stream",
       "stream": "stdout",
       "text": [
        "[LibSVM]"
       ]
      },
      {
       "output_type": "stream",
       "stream": "stdout",
       "text": [
        "[LibSVM]"
       ]
      },
      {
       "output_type": "stream",
       "stream": "stdout",
       "text": [
        "[LibSVM]"
       ]
      },
      {
       "output_type": "stream",
       "stream": "stdout",
       "text": [
        "[LibSVM]"
       ]
      },
      {
       "output_type": "stream",
       "stream": "stdout",
       "text": [
        "[LibSVM]"
       ]
      },
      {
       "output_type": "stream",
       "stream": "stdout",
       "text": [
        "[LibSVM]"
       ]
      },
      {
       "output_type": "stream",
       "stream": "stdout",
       "text": [
        "[LibSVM]"
       ]
      },
      {
       "output_type": "stream",
       "stream": "stdout",
       "text": [
        "[LibSVM]"
       ]
      },
      {
       "output_type": "stream",
       "stream": "stdout",
       "text": [
        "[LibSVM]"
       ]
      },
      {
       "output_type": "stream",
       "stream": "stdout",
       "text": [
        "[LibSVM]"
       ]
      },
      {
       "output_type": "stream",
       "stream": "stdout",
       "text": [
        "[LibSVM]"
       ]
      },
      {
       "output_type": "stream",
       "stream": "stdout",
       "text": [
        "[LibSVM]"
       ]
      },
      {
       "output_type": "stream",
       "stream": "stdout",
       "text": [
        "[LibSVM]"
       ]
      },
      {
       "output_type": "stream",
       "stream": "stdout",
       "text": [
        "[LibSVM]"
       ]
      },
      {
       "output_type": "stream",
       "stream": "stdout",
       "text": [
        "[LibSVM]"
       ]
      },
      {
       "output_type": "stream",
       "stream": "stdout",
       "text": [
        "[LibSVM]"
       ]
      },
      {
       "output_type": "stream",
       "stream": "stdout",
       "text": [
        "[LibSVM]"
       ]
      },
      {
       "output_type": "stream",
       "stream": "stdout",
       "text": [
        "[LibSVM]"
       ]
      },
      {
       "output_type": "stream",
       "stream": "stdout",
       "text": [
        "[LibSVM]"
       ]
      },
      {
       "output_type": "stream",
       "stream": "stdout",
       "text": [
        "[LibSVM]"
       ]
      },
      {
       "output_type": "stream",
       "stream": "stdout",
       "text": [
        "[LibSVM]"
       ]
      },
      {
       "output_type": "stream",
       "stream": "stdout",
       "text": [
        "[LibSVM]"
       ]
      },
      {
       "output_type": "stream",
       "stream": "stdout",
       "text": [
        "[LibSVM]"
       ]
      },
      {
       "output_type": "stream",
       "stream": "stdout",
       "text": [
        "[LibSVM]"
       ]
      },
      {
       "output_type": "stream",
       "stream": "stdout",
       "text": [
        "[LibSVM]"
       ]
      },
      {
       "output_type": "stream",
       "stream": "stdout",
       "text": [
        "[LibSVM]"
       ]
      },
      {
       "output_type": "stream",
       "stream": "stdout",
       "text": [
        "[LibSVM]"
       ]
      },
      {
       "output_type": "stream",
       "stream": "stdout",
       "text": [
        "[LibSVM]"
       ]
      },
      {
       "output_type": "stream",
       "stream": "stdout",
       "text": [
        "[LibSVM]"
       ]
      },
      {
       "output_type": "stream",
       "stream": "stdout",
       "text": [
        "[LibSVM]"
       ]
      },
      {
       "output_type": "stream",
       "stream": "stdout",
       "text": [
        "[LibSVM]"
       ]
      },
      {
       "output_type": "stream",
       "stream": "stdout",
       "text": [
        "[LibSVM]"
       ]
      },
      {
       "output_type": "stream",
       "stream": "stdout",
       "text": [
        "[LibSVM]"
       ]
      },
      {
       "output_type": "stream",
       "stream": "stdout",
       "text": [
        "[LibSVM]"
       ]
      },
      {
       "output_type": "stream",
       "stream": "stdout",
       "text": [
        "[LibSVM]"
       ]
      },
      {
       "output_type": "stream",
       "stream": "stdout",
       "text": [
        "[LibSVM]"
       ]
      },
      {
       "output_type": "stream",
       "stream": "stdout",
       "text": [
        "[LibSVM]"
       ]
      },
      {
       "output_type": "stream",
       "stream": "stdout",
       "text": [
        "[LibSVM]"
       ]
      },
      {
       "output_type": "stream",
       "stream": "stdout",
       "text": [
        "[LibSVM]"
       ]
      },
      {
       "output_type": "stream",
       "stream": "stdout",
       "text": [
        "[LibSVM]"
       ]
      },
      {
       "output_type": "stream",
       "stream": "stdout",
       "text": [
        "[LibSVM]"
       ]
      },
      {
       "output_type": "stream",
       "stream": "stdout",
       "text": [
        "[LibSVM]"
       ]
      },
      {
       "output_type": "stream",
       "stream": "stdout",
       "text": [
        "[LibSVM]"
       ]
      },
      {
       "output_type": "stream",
       "stream": "stdout",
       "text": [
        "[LibSVM]"
       ]
      },
      {
       "output_type": "stream",
       "stream": "stdout",
       "text": [
        "[LibSVM]"
       ]
      },
      {
       "output_type": "stream",
       "stream": "stdout",
       "text": [
        "[LibSVM]"
       ]
      },
      {
       "output_type": "stream",
       "stream": "stdout",
       "text": [
        "[LibSVM]"
       ]
      },
      {
       "output_type": "stream",
       "stream": "stdout",
       "text": [
        "[LibSVM]"
       ]
      },
      {
       "output_type": "stream",
       "stream": "stdout",
       "text": [
        "[LibSVM]"
       ]
      },
      {
       "output_type": "stream",
       "stream": "stdout",
       "text": [
        "[LibSVM]"
       ]
      },
      {
       "output_type": "stream",
       "stream": "stdout",
       "text": [
        "[LibSVM]"
       ]
      },
      {
       "output_type": "stream",
       "stream": "stdout",
       "text": [
        "[LibSVM]"
       ]
      },
      {
       "output_type": "stream",
       "stream": "stdout",
       "text": [
        "[LibSVM]"
       ]
      },
      {
       "output_type": "stream",
       "stream": "stdout",
       "text": [
        "[LibSVM]"
       ]
      },
      {
       "output_type": "stream",
       "stream": "stdout",
       "text": [
        "[LibSVM]"
       ]
      },
      {
       "output_type": "stream",
       "stream": "stdout",
       "text": [
        "[LibSVM]"
       ]
      },
      {
       "output_type": "stream",
       "stream": "stdout",
       "text": [
        "[LibSVM]"
       ]
      },
      {
       "output_type": "stream",
       "stream": "stdout",
       "text": [
        "[LibSVM]"
       ]
      },
      {
       "output_type": "stream",
       "stream": "stdout",
       "text": [
        "[LibSVM]"
       ]
      },
      {
       "output_type": "stream",
       "stream": "stdout",
       "text": [
        "[LibSVM]"
       ]
      },
      {
       "output_type": "stream",
       "stream": "stdout",
       "text": [
        "[LibSVM]"
       ]
      },
      {
       "output_type": "stream",
       "stream": "stdout",
       "text": [
        "[LibSVM]"
       ]
      }
     ],
     "prompt_number": 117
    },
    {
     "cell_type": "code",
     "collapsed": false,
     "input": [
      "best_sco"
     ],
     "language": "python",
     "metadata": {},
     "outputs": [
      {
       "metadata": {},
       "output_type": "pyout",
       "prompt_number": 118,
       "text": [
        "[23343.0, 6406.0, 20074.0, 7944.0, 15322.0, 5486.0, 4968.0, 13455.0]"
       ]
      }
     ],
     "prompt_number": 118
    },
    {
     "cell_type": "code",
     "collapsed": false,
     "input": [
      "count"
     ],
     "language": "python",
     "metadata": {},
     "outputs": [
      {
       "metadata": {},
       "output_type": "pyout",
       "prompt_number": 119,
       "text": [
        "[23361, 6420, 20082, 7956, 15388, 5592, 4992, 13487]"
       ]
      }
     ],
     "prompt_number": 119
    },
    {
     "cell_type": "code",
     "collapsed": false,
     "input": [
      "clf = []\n",
      "for i in xrange(len(a)):\n",
      "    clf.append(svm.OneClassSVM(nu=best_nu[i], kernel=\"rbf\", verbose=True, gamma=best_gamma[i]))\n",
      "    clf[i].fit(eve_clu[i])"
     ],
     "language": "python",
     "metadata": {},
     "outputs": [
      {
       "output_type": "stream",
       "stream": "stdout",
       "text": [
        "[LibSVM][LibSVM]"
       ]
      },
      {
       "output_type": "stream",
       "stream": "stdout",
       "text": [
        "[LibSVM]"
       ]
      },
      {
       "output_type": "stream",
       "stream": "stdout",
       "text": [
        "[LibSVM]"
       ]
      },
      {
       "output_type": "stream",
       "stream": "stdout",
       "text": [
        "[LibSVM]"
       ]
      },
      {
       "output_type": "stream",
       "stream": "stdout",
       "text": [
        "[LibSVM]"
       ]
      },
      {
       "output_type": "stream",
       "stream": "stdout",
       "text": [
        "[LibSVM]"
       ]
      },
      {
       "output_type": "stream",
       "stream": "stdout",
       "text": [
        "[LibSVM]"
       ]
      }
     ],
     "prompt_number": 121
    },
    {
     "cell_type": "code",
     "collapsed": false,
     "input": [
      "def prediction(event_set):\n",
      "    \n",
      "    pred_set = []\n",
      "    \n",
      "    for event in event_set:\n",
      "        for i in xrange(len(a)):\n",
      "            flag = 0\n",
      "            val = clf[i].predict(event)\n",
      "            if val==1:\n",
      "                pred_set.append(1)\n",
      "                flag = 1\n",
      "                break\n",
      "        if flag==0:\n",
      "            pred_set.append(-1)\n",
      "            \n",
      "    return pred_set"
     ],
     "language": "python",
     "metadata": {},
     "outputs": [],
     "prompt_number": 123
    },
    {
     "cell_type": "code",
     "collapsed": false,
     "input": [
      "for w in xrange(len(labelset)):\n",
      "    smurf_eve = np.array([[0.0 for j in xrange(K)] for i in xrange(len(cat_events[w]))])\n",
      "\n",
      "    for i in xrange(len(cat_events[w])):\n",
      "        event = cat_events[w][i]\n",
      "        vector_ind = 0\n",
      "        field_ind = 0\n",
      "        #profiles[u,K] += 1\n",
      "\n",
      "        for field in symb_feat:\n",
      "            for ele in field:\n",
      "                if event[field_ind] == ele:\n",
      "                    smurf_eve[i][vector_ind] += 1\n",
      "                vector_ind += 1\n",
      "            field_ind += 1\n",
      "            \n",
      "    print labelset[w][:-1]\n",
      "    print np.sum(prediction(smurf_eve))\n",
      "    print len(smurf_eve)"
     ],
     "language": "python",
     "metadata": {},
     "outputs": [
      {
       "output_type": "stream",
       "stream": "stdout",
       "text": [
        "perl.\n",
        "3\n",
        "3\n",
        "smurf."
       ]
      },
      {
       "output_type": "stream",
       "stream": "stdout",
       "text": [
        "\n",
        "-280700"
       ]
      },
      {
       "output_type": "stream",
       "stream": "stdout",
       "text": [
        "\n",
        "280790\n",
        "ipsweep."
       ]
      },
      {
       "output_type": "stream",
       "stream": "stdout",
       "text": [
        "\n",
        "-435"
       ]
      },
      {
       "output_type": "stream",
       "stream": "stdout",
       "text": [
        "\n",
        "1247\n",
        "ftp_write.\n",
        "8\n",
        "8\n",
        "nmap.\n",
        "-55"
       ]
      },
      {
       "output_type": "stream",
       "stream": "stdout",
       "text": [
        "\n",
        "231\n",
        "back."
       ]
      },
      {
       "output_type": "stream",
       "stream": "stdout",
       "text": [
        "\n",
        "2193"
       ]
      },
      {
       "output_type": "stream",
       "stream": "stdout",
       "text": [
        "\n",
        "2203\n",
        "guess_passwd.\n",
        "47\n",
        "53\n",
        "pod.\n",
        "-80"
       ]
      },
      {
       "output_type": "stream",
       "stream": "stdout",
       "text": [
        "\n",
        "264\n",
        "teardrop."
       ]
      },
      {
       "output_type": "stream",
       "stream": "stdout",
       "text": [
        "\n",
        "-609"
       ]
      },
      {
       "output_type": "stream",
       "stream": "stdout",
       "text": [
        "\n",
        "979\n",
        "multihop.\n",
        "3\n",
        "7\n",
        "rootkit.\n",
        "10\n",
        "10\n",
        "warezclient."
       ]
      },
      {
       "output_type": "stream",
       "stream": "stdout",
       "text": [
        "\n",
        "1010"
       ]
      },
      {
       "output_type": "stream",
       "stream": "stdout",
       "text": [
        "\n",
        "1020\n",
        "buffer_overflow.\n",
        "28\n",
        "30\n",
        "portsweep."
       ]
      },
      {
       "output_type": "stream",
       "stream": "stdout",
       "text": [
        "\n",
        "-850"
       ]
      },
      {
       "output_type": "stream",
       "stream": "stdout",
       "text": [
        "\n",
        "1040\n",
        "phf.\n",
        "2\n",
        "4\n",
        "normal."
       ]
      },
      {
       "output_type": "stream",
       "stream": "stdout",
       "text": [
        "\n",
        "97102"
       ]
      },
      {
       "output_type": "stream",
       "stream": "stdout",
       "text": [
        "\n",
        "97278\n",
        "loadmodule.\n",
        "3\n",
        "9\n",
        "neptune."
       ]
      },
      {
       "output_type": "stream",
       "stream": "stdout",
       "text": [
        "\n",
        "-107159"
       ]
      },
      {
       "output_type": "stream",
       "stream": "stdout",
       "text": [
        "\n",
        "107201\n",
        "land.\n",
        "-17\n",
        "21\n",
        "satan."
       ]
      },
      {
       "output_type": "stream",
       "stream": "stdout",
       "text": [
        "\n",
        "-1317"
       ]
      },
      {
       "output_type": "stream",
       "stream": "stdout",
       "text": [
        "\n",
        "1589\n",
        "warezmaster.\n",
        "20\n",
        "20\n",
        "imap.\n",
        "-6\n",
        "12\n",
        "spy.\n",
        "2\n",
        "2\n"
       ]
      }
     ],
     "prompt_number": 124
    },
    {
     "cell_type": "code",
     "collapsed": false,
     "input": [],
     "language": "python",
     "metadata": {},
     "outputs": []
    }
   ],
   "metadata": {}
  }
 ]
}