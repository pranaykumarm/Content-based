{
 "metadata": {
  "name": "",
  "signature": "sha256:b8bc3f45b994696b3266012064d3284d7ff7a48fdfe244296dc84f414ad87d82"
 },
 "nbformat": 3,
 "nbformat_minor": 0,
 "worksheets": [
  {
   "cells": [
    {
     "cell_type": "code",
     "collapsed": false,
     "input": [
      "import numpy as np\n",
      "import matplotlib.pyplot as plt\n",
      "import math\n",
      "import networkx as nx\n",
      "import community\n",
      "%matplotlib inline"
     ],
     "language": "python",
     "metadata": {},
     "outputs": [],
     "prompt_number": 1
    },
    {
     "cell_type": "code",
     "collapsed": false,
     "input": [
      "f = open('features.log')\n",
      "\n",
      "all_events = []\n",
      "\n",
      "for line in f:\n",
      "    contents = line.split()\n",
      "    all_events.append([int(contents[0]),contents[1],contents[2],contents[3],contents[4],contents[5],contents[6],float(contents[7]),float(contents[8])])\n",
      "\n",
      "f.close()"
     ],
     "language": "python",
     "metadata": {},
     "outputs": [],
     "prompt_number": 2
    },
    {
     "cell_type": "code",
     "collapsed": false,
     "input": [
      "all_events[:5]"
     ],
     "language": "python",
     "metadata": {},
     "outputs": [
      {
       "metadata": {},
       "output_type": "pyout",
       "prompt_number": 3,
       "text": [
        "[[419, '450', 'PUSH', '1.1', 'box', 'skype', 'apache', 620.0, 3400.0],\n",
        " [351, '200', 'PUSH', '1', 'box', 'skype', 'explorer', 570.0, 8100.0],\n",
        " [32, '200', 'GET', '1', 'email', 'skype', 'apache', 910.0, 8100.0],\n",
        " [375, '200', 'PUSH', '1', 'email', 'skype', 'explorer', 840.0, 0.0],\n",
        " [38, '150', 'PUT', '1.1', 'email', 'skype', 'apache', 340.0, 2700.0]]"
       ]
      }
     ],
     "prompt_number": 3
    },
    {
     "cell_type": "code",
     "collapsed": false,
     "input": [
      "new_events = all_events[1000000:]\n",
      "events = all_events[:1000000]"
     ],
     "language": "python",
     "metadata": {},
     "outputs": [],
     "prompt_number": 4
    },
    {
     "cell_type": "code",
     "collapsed": false,
     "input": [
      "len(events), len(new_events)"
     ],
     "language": "python",
     "metadata": {},
     "outputs": [
      {
       "metadata": {},
       "output_type": "pyout",
       "prompt_number": 5,
       "text": [
        "(1000000, 109999)"
       ]
      }
     ],
     "prompt_number": 5
    },
    {
     "cell_type": "code",
     "collapsed": false,
     "input": [
      "users = []\n",
      "httpcode = {}\n",
      "httpop = {}\n",
      "httpversion = {} \n",
      "application = {}\n",
      "media = {}\n",
      "browser = {}\n",
      "bytesOut = []\n",
      "bytesIn = []\n",
      "\n",
      "for event in events:\n",
      "    users.append(event[0])\n",
      "    httpcode.setdefault(event[1])\n",
      "    httpop.setdefault(event[2])\n",
      "    httpversion.setdefault(event[3])\n",
      "    application.setdefault(event[4])\n",
      "    media.setdefault(event[5])\n",
      "    browser.setdefault(event[6])\n",
      "    bytesOut.append(event[7])\n",
      "    bytesIn.append(event[8])\n",
      "    \n",
      "U = max(users)+1"
     ],
     "language": "python",
     "metadata": {},
     "outputs": [],
     "prompt_number": 6
    },
    {
     "cell_type": "code",
     "collapsed": false,
     "input": [
      "U"
     ],
     "language": "python",
     "metadata": {},
     "outputs": [
      {
       "metadata": {},
       "output_type": "pyout",
       "prompt_number": 7,
       "text": [
        "1000"
       ]
      }
     ],
     "prompt_number": 7
    },
    {
     "cell_type": "code",
     "collapsed": false,
     "input": [
      "httpcode = httpcode.keys()\n",
      "httpop = httpop.keys()\n",
      "httpversion = httpversion.keys()\n",
      "application = application.keys()\n",
      "media = media.keys()\n",
      "browser = browser.keys()\n",
      "\n",
      "print httpcode\n",
      "print httpop\n",
      "print httpversion\n",
      "print application\n",
      "print media\n",
      "print browser"
     ],
     "language": "python",
     "metadata": {},
     "outputs": [
      {
       "output_type": "stream",
       "stream": "stdout",
       "text": [
        "['450', '200', '400', '300', '150']\n",
        "['PUSH', 'PUT', 'GET']\n",
        "['1', '1.1']\n",
        "['box', 'web', 'email', 'social']\n",
        "['tor', 'pdf', 'mpeg', 'text', 'skype']\n",
        "['apache', 'chrome', 'opera', 'explorer']\n"
       ]
      }
     ],
     "prompt_number": 8
    },
    {
     "cell_type": "code",
     "collapsed": false,
     "input": [
      "#features = [httpcode,httpop,httpversion,application,media,browser]\n",
      "features = [application,media,browser]\n",
      "features"
     ],
     "language": "python",
     "metadata": {},
     "outputs": [
      {
       "metadata": {},
       "output_type": "pyout",
       "prompt_number": 9,
       "text": [
        "[['box', 'web', 'email', 'social'],\n",
        " ['tor', 'pdf', 'mpeg', 'text', 'skype'],\n",
        " ['apache', 'chrome', 'opera', 'explorer']]"
       ]
      }
     ],
     "prompt_number": 9
    },
    {
     "cell_type": "code",
     "collapsed": false,
     "input": [
      "flat_feat = []\n",
      "for l in features:\n",
      "    for e in l:\n",
      "        flat_feat.append(e)\n",
      "        \n",
      "flat_feat"
     ],
     "language": "python",
     "metadata": {},
     "outputs": [
      {
       "metadata": {},
       "output_type": "pyout",
       "prompt_number": 10,
       "text": [
        "['box',\n",
        " 'web',\n",
        " 'email',\n",
        " 'social',\n",
        " 'tor',\n",
        " 'pdf',\n",
        " 'mpeg',\n",
        " 'text',\n",
        " 'skype',\n",
        " 'apache',\n",
        " 'chrome',\n",
        " 'opera',\n",
        " 'explorer']"
       ]
      }
     ],
     "prompt_number": 10
    },
    {
     "cell_type": "code",
     "collapsed": false,
     "input": [
      "#K = len(httpcode)+len(httpop)+len(httpversion)+len(application)+len(media)+len(browser)\n",
      "K = len(application)+len(media)+len(browser)\n",
      "K"
     ],
     "language": "python",
     "metadata": {},
     "outputs": [
      {
       "metadata": {},
       "output_type": "pyout",
       "prompt_number": 17,
       "text": [
        "13"
       ]
      }
     ],
     "prompt_number": 17
    },
    {
     "cell_type": "heading",
     "level": 2,
     "metadata": {},
     "source": [
      "Single Profile"
     ]
    },
    {
     "cell_type": "code",
     "collapsed": false,
     "input": [
      "fig = plt.figure()\n",
      "ax = fig.add_subplot(111)\n",
      "ax.hist(bytesOut,20)"
     ],
     "language": "python",
     "metadata": {},
     "outputs": [
      {
       "metadata": {},
       "output_type": "pyout",
       "prompt_number": 10,
       "text": [
        "(array([ 49708.,  49532.,  49768.,  49890.,  50484.,  49900.,  49846.,\n",
        "         49470.,  50400.,  50058.,  50226.,  50108.,  49728.,  49984.,\n",
        "         49806.,  50284.,  49958.,  50466.,  50230.,  50154.]),\n",
        " array([   0. ,   49.5,   99. ,  148.5,  198. ,  247.5,  297. ,  346.5,\n",
        "         396. ,  445.5,  495. ,  544.5,  594. ,  643.5,  693. ,  742.5,\n",
        "         792. ,  841.5,  891. ,  940.5,  990. ]),\n",
        " <a list of 20 Patch objects>)"
       ]
      },
      {
       "metadata": {},
       "output_type": "display_data",
       "png": "[encoded data removed]",
       "text": [
        "<matplotlib.figure.Figure at 0x108501750>"
       ]
      }
     ],
     "prompt_number": 10
    },
    {
     "cell_type": "code",
     "collapsed": false,
     "input": [
      "fig = plt.figure()\n",
      "ax = fig.add_subplot(111)\n",
      "ax.hist(bytesIn,20)"
     ],
     "language": "python",
     "metadata": {},
     "outputs": [
      {
       "metadata": {},
       "output_type": "pyout",
       "prompt_number": 11,
       "text": [
        "(array([ 50088.,  49892.,  49920.,  49454.,  50376.,  49948.,  50056.,\n",
        "         49550.,  50400.,  49718.,  50248.,  50232.,  49924.,  49876.,\n",
        "         49688.,  49874.,  49932.,  50438.,  49848.,  50538.]),\n",
        " array([    0.,   495.,   990.,  1485.,  1980.,  2475.,  2970.,  3465.,\n",
        "         3960.,  4455.,  4950.,  5445.,  5940.,  6435.,  6930.,  7425.,\n",
        "         7920.,  8415.,  8910.,  9405.,  9900.]),\n",
        " <a list of 20 Patch objects>)"
       ]
      },
      {
       "metadata": {},
       "output_type": "display_data",
       "png": "[encoded data removed]",
       "text": [
        "<matplotlib.figure.Figure at 0x128617550>"
       ]
      }
     ],
     "prompt_number": 11
    },
    {
     "cell_type": "code",
     "collapsed": false,
     "input": [
      "profiles = np.array([[0.0 for j in xrange(K+1)] for i in xrange(U+1)])\n",
      "\n",
      "for event in events:\n",
      "    u = event[0]\n",
      "    vector_ind = 0\n",
      "    field_ind = 1\n",
      "    profiles[u,K] += 1\n",
      "    \n",
      "    for field in features:\n",
      "        for ele in field:\n",
      "            if event[field_ind] == ele:\n",
      "                profiles[u,vector_ind] += 1\n",
      "            vector_ind += 1\n",
      "        field_ind += 1"
     ],
     "language": "python",
     "metadata": {},
     "outputs": [],
     "prompt_number": 11
    },
    {
     "cell_type": "code",
     "collapsed": false,
     "input": [
      "profiles[:5]"
     ],
     "language": "python",
     "metadata": {},
     "outputs": [
      {
       "metadata": {},
       "output_type": "pyout",
       "prompt_number": 12,
       "text": [
        "array([[  219.,   218.,   197.,   193.,   180.,   331.,   308.,   368.,\n",
        "          495.,   512.,   523.,     0.,   484.,     0.,   518.,     0.,\n",
        "            0.,     0.,   489.,   484.,     0.,     0.,   523.,  1007.],\n",
        "       [  196.,   192.,   192.,   206.,   173.,   326.,   299.,   334.,\n",
        "          498.,   461.,   488.,     0.,   471.,     0.,   492.,     0.,\n",
        "            0.,     0.,   467.,   476.,     0.,     0.,   483.,   959.],\n",
        "       [  197.,   203.,   191.,   202.,   209.,   340.,   337.,   325.,\n",
        "          469.,   533.,   522.,     0.,   480.,     0.,   486.,     0.,\n",
        "            0.,     0.,   516.,   497.,     0.,     0.,   505.,  1002.],\n",
        "       [  210.,   200.,   214.,   205.,   192.,   353.,   317.,   351.,\n",
        "          524.,   497.,   520.,     0.,   501.,     0.,   516.,     0.,\n",
        "            0.,     0.,   505.,   521.,     0.,     0.,   500.,  1021.],\n",
        "       [  199.,   200.,   180.,   198.,   218.,   316.,   321.,   358.,\n",
        "          508.,   487.,   501.,     0.,   494.,     0.,   477.,     0.,\n",
        "            0.,     0.,   518.,   503.,     0.,     0.,   492.,   995.]])"
       ]
      }
     ],
     "prompt_number": 12
    },
    {
     "cell_type": "code",
     "collapsed": false,
     "input": [
      "profiles[5]"
     ],
     "language": "python",
     "metadata": {},
     "outputs": [
      {
       "metadata": {},
       "output_type": "pyout",
       "prompt_number": 21,
       "text": [
        "array([  2.09580838e-01,   1.91616766e-01,   2.07584830e-01,\n",
        "         2.08582834e-01,   1.82634731e-01,   3.24351297e-01,\n",
        "         3.51297405e-01,   3.24351297e-01,   4.91017964e-01,\n",
        "         5.08982036e-01,   5.04990020e-01,   0.00000000e+00,\n",
        "         4.95009980e-01,   0.00000000e+00,   4.87025948e-01,\n",
        "         0.00000000e+00,   0.00000000e+00,   0.00000000e+00,\n",
        "         5.12974052e-01,   5.28942116e-01,   0.00000000e+00,\n",
        "         0.00000000e+00,   4.71057884e-01,   1.00200000e+03])"
       ]
      }
     ],
     "prompt_number": 21
    },
    {
     "cell_type": "code",
     "collapsed": false,
     "input": [
      "tup_5 = tuple(profiles[5][:-1])"
     ],
     "language": "python",
     "metadata": {},
     "outputs": [],
     "prompt_number": 26
    },
    {
     "cell_type": "code",
     "collapsed": false,
     "input": [
      "tup_5"
     ],
     "language": "python",
     "metadata": {},
     "outputs": [
      {
       "metadata": {},
       "output_type": "pyout",
       "prompt_number": 27,
       "text": [
        "(0.20958083832335328,\n",
        " 0.19161676646706588,\n",
        " 0.20758483033932135,\n",
        " 0.20858283433133731,\n",
        " 0.18263473053892215,\n",
        " 0.32435129740518964,\n",
        " 0.35129740518962077,\n",
        " 0.32435129740518964,\n",
        " 0.49101796407185627,\n",
        " 0.50898203592814373,\n",
        " 0.50499001996007986,\n",
        " 0.0,\n",
        " 0.49500998003992014,\n",
        " 0.0,\n",
        " 0.48702594810379241,\n",
        " 0.0,\n",
        " 0.0,\n",
        " 0.0,\n",
        " 0.51297405189620759,\n",
        " 0.52894211576846306,\n",
        " 0.0,\n",
        " 0.0,\n",
        " 0.47105788423153694)"
       ]
      }
     ],
     "prompt_number": 27
    },
    {
     "cell_type": "code",
     "collapsed": false,
     "input": [
      "for k in xrange(K+1):\n",
      "    profiles[U,k] = np.sum(profiles[:-1,k])"
     ],
     "language": "python",
     "metadata": {},
     "outputs": [],
     "prompt_number": 13
    },
    {
     "cell_type": "code",
     "collapsed": false,
     "input": [
      "profiles[U]"
     ],
     "language": "python",
     "metadata": {},
     "outputs": [
      {
       "metadata": {},
       "output_type": "pyout",
       "prompt_number": 14,
       "text": [
        "array([  200586.,   198982.,   199668.,   199922.,   200842.,   333378.,\n",
        "         331948.,   334674.,   500584.,   499416.,   249711.,   249711.,\n",
        "         250289.,   250289.,   249457.,   166877.,   166955.,   166168.,\n",
        "         250543.,   248991.,   248991.,   251009.,   251009.,  1000000.])"
       ]
      }
     ],
     "prompt_number": 14
    },
    {
     "cell_type": "code",
     "collapsed": false,
     "input": [
      "for profile in profiles:\n",
      "    profile[:-1] = profile[:-1]/profile[-1]"
     ],
     "language": "python",
     "metadata": {},
     "outputs": [],
     "prompt_number": 15
    },
    {
     "cell_type": "code",
     "collapsed": false,
     "input": [
      "profiles[:5]"
     ],
     "language": "python",
     "metadata": {},
     "outputs": [
      {
       "metadata": {},
       "output_type": "pyout",
       "prompt_number": 16,
       "text": [
        "array([[  2.17477656e-01,   2.16484608e-01,   1.95630586e-01,\n",
        "          1.91658391e-01,   1.78748759e-01,   3.28699106e-01,\n",
        "          3.05858987e-01,   3.65441907e-01,   4.91559086e-01,\n",
        "          5.08440914e-01,   5.19364449e-01,   0.00000000e+00,\n",
        "          4.80635551e-01,   0.00000000e+00,   5.14399206e-01,\n",
        "          0.00000000e+00,   0.00000000e+00,   0.00000000e+00,\n",
        "          4.85600794e-01,   4.80635551e-01,   0.00000000e+00,\n",
        "          0.00000000e+00,   5.19364449e-01,   1.00700000e+03],\n",
        "       [  2.04379562e-01,   2.00208551e-01,   2.00208551e-01,\n",
        "          2.14807091e-01,   1.80396246e-01,   3.39937435e-01,\n",
        "          3.11783107e-01,   3.48279458e-01,   5.19290928e-01,\n",
        "          4.80709072e-01,   5.08863399e-01,   0.00000000e+00,\n",
        "          4.91136601e-01,   0.00000000e+00,   5.13034411e-01,\n",
        "          0.00000000e+00,   0.00000000e+00,   0.00000000e+00,\n",
        "          4.86965589e-01,   4.96350365e-01,   0.00000000e+00,\n",
        "          0.00000000e+00,   5.03649635e-01,   9.59000000e+02],\n",
        "       [  1.96606786e-01,   2.02594810e-01,   1.90618762e-01,\n",
        "          2.01596806e-01,   2.08582834e-01,   3.39321357e-01,\n",
        "          3.36327345e-01,   3.24351297e-01,   4.68063872e-01,\n",
        "          5.31936128e-01,   5.20958084e-01,   0.00000000e+00,\n",
        "          4.79041916e-01,   0.00000000e+00,   4.85029940e-01,\n",
        "          0.00000000e+00,   0.00000000e+00,   0.00000000e+00,\n",
        "          5.14970060e-01,   4.96007984e-01,   0.00000000e+00,\n",
        "          0.00000000e+00,   5.03992016e-01,   1.00200000e+03],\n",
        "       [  2.05680705e-01,   1.95886386e-01,   2.09598433e-01,\n",
        "          2.00783546e-01,   1.88050930e-01,   3.45739471e-01,\n",
        "          3.10479922e-01,   3.43780607e-01,   5.13222331e-01,\n",
        "          4.86777669e-01,   5.09304603e-01,   0.00000000e+00,\n",
        "          4.90695397e-01,   0.00000000e+00,   5.05386876e-01,\n",
        "          0.00000000e+00,   0.00000000e+00,   0.00000000e+00,\n",
        "          4.94613124e-01,   5.10284035e-01,   0.00000000e+00,\n",
        "          0.00000000e+00,   4.89715965e-01,   1.02100000e+03],\n",
        "       [  2.00000000e-01,   2.01005025e-01,   1.80904523e-01,\n",
        "          1.98994975e-01,   2.19095477e-01,   3.17587940e-01,\n",
        "          3.22613065e-01,   3.59798995e-01,   5.10552764e-01,\n",
        "          4.89447236e-01,   5.03517588e-01,   0.00000000e+00,\n",
        "          4.96482412e-01,   0.00000000e+00,   4.79396985e-01,\n",
        "          0.00000000e+00,   0.00000000e+00,   0.00000000e+00,\n",
        "          5.20603015e-01,   5.05527638e-01,   0.00000000e+00,\n",
        "          0.00000000e+00,   4.94472362e-01,   9.95000000e+02]])"
       ]
      }
     ],
     "prompt_number": 16
    },
    {
     "cell_type": "code",
     "collapsed": false,
     "input": [
      "sum(profiles[0,:5]), sum(profiles[0,5:8]), sum(profiles[0,8:10]), sum(profiles[0,10:14]), sum(profiles[0,14:19]), sum(profiles[0,19:23])"
     ],
     "language": "python",
     "metadata": {},
     "outputs": [
      {
       "metadata": {},
       "output_type": "pyout",
       "prompt_number": 19,
       "text": [
        "(1.0, 1.0, 1.0, 1.0, 1.0, 1.0)"
       ]
      }
     ],
     "prompt_number": 19
    },
    {
     "cell_type": "code",
     "collapsed": false,
     "input": [
      "sum(profiles[U,:5]), sum(profiles[U,5:8]), sum(profiles[U,8:10]), sum(profiles[U,10:14]), sum(profiles[U,14:19]), sum(profiles[U,19:23])"
     ],
     "language": "python",
     "metadata": {},
     "outputs": [
      {
       "metadata": {},
       "output_type": "pyout",
       "prompt_number": 173,
       "text": [
        "(1.0, 1.0, 1.0, 1.0, 1.0, 1.0)"
       ]
      }
     ],
     "prompt_number": 173
    },
    {
     "cell_type": "code",
     "collapsed": false,
     "input": [
      "profiles[U]"
     ],
     "language": "python",
     "metadata": {},
     "outputs": [
      {
       "metadata": {},
       "output_type": "pyout",
       "prompt_number": 174,
       "text": [
        "array([  2.00586000e-01,   1.98982000e-01,   1.99668000e-01,\n",
        "         1.99922000e-01,   2.00842000e-01,   3.33378000e-01,\n",
        "         3.31948000e-01,   3.34674000e-01,   5.00584000e-01,\n",
        "         4.99416000e-01,   2.49711000e-01,   2.49711000e-01,\n",
        "         2.50289000e-01,   2.50289000e-01,   2.49457000e-01,\n",
        "         1.66877000e-01,   1.66955000e-01,   1.66168000e-01,\n",
        "         2.50543000e-01,   2.48991000e-01,   2.48991000e-01,\n",
        "         2.51009000e-01,   2.51009000e-01,   1.00000000e+06])"
       ]
      }
     ],
     "prompt_number": 174
    },
    {
     "cell_type": "code",
     "collapsed": false,
     "input": [
      "def score(event):\n",
      "    u = event[0]\n",
      "    vector_ind = 0\n",
      "    field_ind = 1\n",
      "    access_pro = np.array([0.0 for i in xrange(K)])\n",
      "    \n",
      "    for field in features:\n",
      "        for ele in field:\n",
      "            if event[field_ind] == ele:\n",
      "                access_pro[vector_ind] = 1\n",
      "            vector_ind += 1\n",
      "        field_ind += 1\n",
      "    \n",
      "    val = np.dot(profiles[u,:-1], access_pro)/(np.linalg.norm(profiles[u,:-1])*np.linalg.norm(access_pro))\n",
      "    return val"
     ],
     "language": "python",
     "metadata": {},
     "outputs": [],
     "prompt_number": 175
    },
    {
     "cell_type": "code",
     "collapsed": false,
     "input": [
      "scores = []\n",
      "for event in new_events:\n",
      "    scores.append(score(event))"
     ],
     "language": "python",
     "metadata": {},
     "outputs": [],
     "prompt_number": 176
    },
    {
     "cell_type": "code",
     "collapsed": false,
     "input": [
      "fig = plt.figure()\n",
      "ax = fig.add_subplot(111)\n",
      "ax.hist(scores,20)"
     ],
     "language": "python",
     "metadata": {},
     "outputs": [
      {
       "metadata": {},
       "output_type": "pyout",
       "prompt_number": 177,
       "text": [
        "(array([  4.93000000e+03,   5.06400000e+03,   6.00000000e+00,\n",
        "          0.00000000e+00,   0.00000000e+00,   0.00000000e+00,\n",
        "          0.00000000e+00,   0.00000000e+00,   0.00000000e+00,\n",
        "          0.00000000e+00,   0.00000000e+00,   0.00000000e+00,\n",
        "          0.00000000e+00,   0.00000000e+00,   0.00000000e+00,\n",
        "          7.00000000e+00,   1.52000000e+03,   4.35180000e+04,\n",
        "          5.26250000e+04,   2.32900000e+03]),\n",
        " array([ 0.25301034,  0.27375928,  0.29450823,  0.31525717,  0.33600612,\n",
        "         0.35675506,  0.377504  ,  0.39825295,  0.41900189,  0.43975084,\n",
        "         0.46049978,  0.48124872,  0.50199767,  0.52274661,  0.54349556,\n",
        "         0.5642445 ,  0.58499344,  0.60574239,  0.62649133,  0.64724028,\n",
        "         0.66798922]),\n",
        " <a list of 20 Patch objects>)"
       ]
      },
      {
       "metadata": {},
       "output_type": "display_data",
       "png": "[encoded data removed]",
       "text": [
        "<matplotlib.figure.Figure at 0x107f0b450>"
       ]
      }
     ],
     "prompt_number": 177
    },
    {
     "cell_type": "code",
     "collapsed": false,
     "input": [
      "import numpy as np\n",
      "import matplotlib.pyplot as plt\n",
      "from scipy.stats import gaussian_kde\n",
      "\n",
      "# Calculate the point density\n",
      "xy = np.vstack([[i for i in xrange(len(scores))], scores])\n",
      "z = gaussian_kde(xy)(xy)\n",
      "\n",
      "fig, ax = plt.subplots()\n",
      "ax.scatter([i for i in xrange(len(scores))], scores, c=z, s=20, edgecolor='')\n",
      "plt.xlabel('event')\n",
      "plt.ylabel('score')"
     ],
     "language": "python",
     "metadata": {},
     "outputs": [
      {
       "metadata": {},
       "output_type": "pyout",
       "prompt_number": 82,
       "text": [
        "<matplotlib.text.Text at 0x14cfa3e50>"
       ]
      },
      {
       "metadata": {},
       "output_type": "display_data",
       "png": "[encoded data removed]",
       "text": [
        "<matplotlib.figure.Figure at 0x13190fb10>"
       ]
      }
     ],
     "prompt_number": 82
    },
    {
     "cell_type": "heading",
     "level": 2,
     "metadata": {},
     "source": [
      "Popularity"
     ]
    },
    {
     "cell_type": "code",
     "collapsed": false,
     "input": [
      "profiles[U]"
     ],
     "language": "python",
     "metadata": {},
     "outputs": [
      {
       "metadata": {},
       "output_type": "pyout",
       "prompt_number": 178,
       "text": [
        "array([  2.00586000e-01,   1.98982000e-01,   1.99668000e-01,\n",
        "         1.99922000e-01,   2.00842000e-01,   3.33378000e-01,\n",
        "         3.31948000e-01,   3.34674000e-01,   5.00584000e-01,\n",
        "         4.99416000e-01,   2.49711000e-01,   2.49711000e-01,\n",
        "         2.50289000e-01,   2.50289000e-01,   2.49457000e-01,\n",
        "         1.66877000e-01,   1.66955000e-01,   1.66168000e-01,\n",
        "         2.50543000e-01,   2.48991000e-01,   2.48991000e-01,\n",
        "         2.51009000e-01,   2.51009000e-01,   1.00000000e+06])"
       ]
      }
     ],
     "prompt_number": 178
    },
    {
     "cell_type": "code",
     "collapsed": false,
     "input": [
      "features"
     ],
     "language": "python",
     "metadata": {},
     "outputs": [
      {
       "metadata": {},
       "output_type": "pyout",
       "prompt_number": 179,
       "text": [
        "[['450', '200', '400', '300', '150'],\n",
        " ['PUSH', 'PUT', 'GET'],\n",
        " ['1', '1.1'],\n",
        " ['box', 'web', 'email', 'social'],\n",
        " ['tor', 'pdf', 'mpeg', 'text', 'skype'],\n",
        " ['apache', 'chrome', 'opera', 'explorer']]"
       ]
      }
     ],
     "prompt_number": 179
    },
    {
     "cell_type": "code",
     "collapsed": false,
     "input": [
      "i = 0\n",
      "pop = []\n",
      "for field in features:\n",
      "    val = 0\n",
      "    j = 0\n",
      "    for ele in field:\n",
      "        if profiles[U,i]>=val:\n",
      "            val = profiles[U,i]\n",
      "            ind = j\n",
      "        j += 1\n",
      "        i += 1\n",
      "    pop.append(field[ind])\n",
      "    \n",
      "pop"
     ],
     "language": "python",
     "metadata": {},
     "outputs": [
      {
       "metadata": {},
       "output_type": "pyout",
       "prompt_number": 180,
       "text": [
        "['150', 'GET', '1', 'social', 'skype', 'explorer']"
       ]
      }
     ],
     "prompt_number": 180
    },
    {
     "cell_type": "heading",
     "level": 2,
     "metadata": {},
     "source": [
      "Grouping"
     ]
    },
    {
     "cell_type": "code",
     "collapsed": false,
     "input": [
      "G = 4\n",
      "groups = np.array([[0.0 for j in xrange(K+1)] for i in xrange(G)])\n",
      "\n",
      "for i in xrange(G):\n",
      "    for k in xrange(K+1):\n",
      "        groups[i,k] = np.mean(profiles[i*250:(i+1)*250,k])\n",
      "    \n",
      "groups"
     ],
     "language": "python",
     "metadata": {},
     "outputs": [
      {
       "metadata": {},
       "output_type": "pyout",
       "prompt_number": 181,
       "text": [
        "array([[  2.01202567e-01,   1.99300057e-01,   1.99425667e-01,\n",
        "          1.99050920e-01,   2.01020789e-01,   3.33940804e-01,\n",
        "          3.32029356e-01,   3.34029840e-01,   4.99261658e-01,\n",
        "          5.00738342e-01,   5.00675633e-01,   0.00000000e+00,\n",
        "          4.99324367e-01,   0.00000000e+00,   4.97902564e-01,\n",
        "          0.00000000e+00,   0.00000000e+00,   0.00000000e+00,\n",
        "          5.02097436e-01,   4.98902994e-01,   0.00000000e+00,\n",
        "          0.00000000e+00,   5.01097006e-01,   9.99256000e+02],\n",
        "       [  1.99979943e-01,   1.98711442e-01,   1.99888999e-01,\n",
        "          2.00779772e-01,   2.00639843e-01,   3.32789002e-01,\n",
        "          3.31928918e-01,   3.35282080e-01,   5.01870172e-01,\n",
        "          4.98129828e-01,   4.98154740e-01,   0.00000000e+00,\n",
        "          5.01845260e-01,   0.00000000e+00,   4.99936388e-01,\n",
        "          0.00000000e+00,   0.00000000e+00,   0.00000000e+00,\n",
        "          5.00063612e-01,   4.97167501e-01,   0.00000000e+00,\n",
        "          0.00000000e+00,   5.02832499e-01,   1.00074400e+03],\n",
        "       [  2.01202567e-01,   1.99300057e-01,   1.99425667e-01,\n",
        "          1.99050920e-01,   2.01020789e-01,   3.33940804e-01,\n",
        "          3.32029356e-01,   3.34029840e-01,   4.99261658e-01,\n",
        "          5.00738342e-01,   0.00000000e+00,   5.00675633e-01,\n",
        "          0.00000000e+00,   4.99324367e-01,   0.00000000e+00,\n",
        "          3.34397653e-01,   3.33205116e-01,   3.32397232e-01,\n",
        "          0.00000000e+00,   0.00000000e+00,   4.98902994e-01,\n",
        "          5.01097006e-01,   0.00000000e+00,   9.99256000e+02],\n",
        "       [  1.99979943e-01,   1.98711442e-01,   1.99888999e-01,\n",
        "          2.00779772e-01,   2.00639843e-01,   3.32789002e-01,\n",
        "          3.31928918e-01,   3.35282080e-01,   5.01870172e-01,\n",
        "          4.98129828e-01,   0.00000000e+00,   4.98154740e-01,\n",
        "          0.00000000e+00,   5.01845260e-01,   0.00000000e+00,\n",
        "          3.33125340e-01,   3.34640559e-01,   3.32234101e-01,\n",
        "          0.00000000e+00,   0.00000000e+00,   4.97167501e-01,\n",
        "          5.02832499e-01,   0.00000000e+00,   1.00074400e+03]])"
       ]
      }
     ],
     "prompt_number": 181
    },
    {
     "cell_type": "code",
     "collapsed": false,
     "input": [
      "u=100\n",
      "g=0\n",
      "np.dot(profiles[u,:-1], groups[g,:-1])/(np.linalg.norm(profiles[u,:-1])*np.linalg.norm(groups[g,:-1]))"
     ],
     "language": "python",
     "metadata": {},
     "outputs": [
      {
       "metadata": {},
       "output_type": "pyout",
       "prompt_number": 185,
       "text": [
        "0.99910335682930829"
       ]
      }
     ],
     "prompt_number": 185
    },
    {
     "cell_type": "code",
     "collapsed": false,
     "input": [
      "sum(groups[0,:5]), sum(groups[0,5:8]), sum(groups[0,8:10]), sum(groups[0,10:14]), sum(groups[0,14:19]), sum(groups[0,19:23])"
     ],
     "language": "python",
     "metadata": {},
     "outputs": [
      {
       "metadata": {},
       "output_type": "pyout",
       "prompt_number": 183,
       "text": [
        "(1.0000000000000004, 1.0, 1.0, 1.0, 1.0, 1.0)"
       ]
      }
     ],
     "prompt_number": 183
    },
    {
     "cell_type": "code",
     "collapsed": false,
     "input": [
      "profiles[U,K]"
     ],
     "language": "python",
     "metadata": {},
     "outputs": [
      {
       "metadata": {},
       "output_type": "pyout",
       "prompt_number": 184,
       "text": [
        "1000000.0"
       ]
      }
     ],
     "prompt_number": 184
    },
    {
     "cell_type": "code",
     "collapsed": false,
     "input": [
      "sim = np.array([[0.0 for j in xrange(U)] for i in xrange(U)])\n",
      "vals = []\n",
      "\n",
      "for u in xrange(U):\n",
      "    for v in xrange(u+1):\n",
      "        val = np.dot(profiles[u,:-1], profiles[v,:-1])/(np.linalg.norm(profiles[u,:-1])*np.linalg.norm(profiles[v,:-1]))\n",
      "        sim[u,v] = val\n",
      "        sim[v,u] = val\n",
      "        vals.append(val)"
     ],
     "language": "python",
     "metadata": {},
     "outputs": [],
     "prompt_number": 20
    },
    {
     "cell_type": "code",
     "collapsed": false,
     "input": [
      "fig = plt.figure()\n",
      "ax = fig.add_subplot(111)\n",
      "ax.hist(vals,20)"
     ],
     "language": "python",
     "metadata": {},
     "outputs": [
      {
       "metadata": {},
       "output_type": "pyout",
       "prompt_number": 21,
       "text": [
        "(array([ 250000.,       0.,       0.,       0.,       0.,       0.,\n",
        "              0.,       0.,       0.,       0.,       0.,       0.,\n",
        "              0.,       0.,       0.,       0.,       0.,       0.,\n",
        "              0.,  250500.]),\n",
        " array([ 0.41817428,  0.44726557,  0.47635685,  0.50544814,  0.53453942,\n",
        "         0.56363071,  0.592722  ,  0.62181328,  0.65090457,  0.67999585,\n",
        "         0.70908714,  0.73817843,  0.76726971,  0.796361  ,  0.82545228,\n",
        "         0.85454357,  0.88363486,  0.91272614,  0.94181743,  0.97090871,  1.        ]),\n",
        " <a list of 20 Patch objects>)"
       ]
      },
      {
       "metadata": {},
       "output_type": "display_data",
       "png": "[encoded data removed]",
       "text": [
        "<matplotlib.figure.Figure at 0x12986e310>"
       ]
      }
     ],
     "prompt_number": 21
    },
    {
     "cell_type": "code",
     "collapsed": false,
     "input": [
      "sim"
     ],
     "language": "python",
     "metadata": {},
     "outputs": [
      {
       "metadata": {},
       "output_type": "pyout",
       "prompt_number": 22,
       "text": [
        "array([[ 1.        ,  0.99926932,  0.99848705, ...,  0.42147072,\n",
        "         0.4213612 ,  0.42125953],\n",
        "       [ 0.99926932,  1.        ,  0.99814468, ...,  0.42100162,\n",
        "         0.42133308,  0.42197753],\n",
        "       [ 0.99848705,  0.99814468,  1.        , ...,  0.42192303,\n",
        "         0.4213752 ,  0.42035039],\n",
        "       ..., \n",
        "       [ 0.42147072,  0.42100162,  0.42192303, ...,  1.        ,\n",
        "         0.99801012,  0.99700641],\n",
        "       [ 0.4213612 ,  0.42133308,  0.4213752 , ...,  0.99801012,\n",
        "         1.        ,  0.99755268],\n",
        "       [ 0.42125953,  0.42197753,  0.42035039, ...,  0.99700641,\n",
        "         0.99755268,  1.        ]])"
       ]
      }
     ],
     "prompt_number": 22
    },
    {
     "cell_type": "code",
     "collapsed": false,
     "input": [
      "labels = [-1 for u in xrange(U)]\n",
      "\n",
      "new = 0\n",
      "for u in xrange(U):\n",
      "    if labels[u]==-1:\n",
      "        labels[u] = new\n",
      "        new += 1\n",
      "    for v in xrange(u+1,U):\n",
      "        if sim[u,v]>0.7:\n",
      "            labels[v] = labels[u]\n",
      "            \n",
      "max(labels)+1"
     ],
     "language": "python",
     "metadata": {},
     "outputs": [
      {
       "metadata": {},
       "output_type": "pyout",
       "prompt_number": 30,
       "text": [
        "2"
       ]
      }
     ],
     "prompt_number": 30
    },
    {
     "cell_type": "code",
     "collapsed": false,
     "input": [
      "fig = plt.figure()\n",
      "ax = fig.add_subplot(111)\n",
      "ax.hist(labels,20)"
     ],
     "language": "python",
     "metadata": {},
     "outputs": [
      {
       "metadata": {},
       "output_type": "pyout",
       "prompt_number": 197,
       "text": [
        "(array([ 500.,    0.,    0.,    0.,    0.,    0.,    0.,    0.,    0.,\n",
        "           0.,    0.,    0.,    0.,    0.,    0.,    0.,    0.,    0.,\n",
        "           0.,  500.]),\n",
        " array([ 0.  ,  0.05,  0.1 ,  0.15,  0.2 ,  0.25,  0.3 ,  0.35,  0.4 ,\n",
        "         0.45,  0.5 ,  0.55,  0.6 ,  0.65,  0.7 ,  0.75,  0.8 ,  0.85,\n",
        "         0.9 ,  0.95,  1.  ]),\n",
        " <a list of 20 Patch objects>)"
       ]
      },
      {
       "metadata": {},
       "output_type": "display_data",
       "png": "[encoded data removed]",
       "text": [
        "<matplotlib.figure.Figure at 0x14ef4cfd0>"
       ]
      }
     ],
     "prompt_number": 197
    },
    {
     "cell_type": "heading",
     "level": 3,
     "metadata": {},
     "source": [
      "Using NetwrokX and Louvain clustering"
     ]
    },
    {
     "cell_type": "code",
     "collapsed": false,
     "input": [
      "G = nx.Graph()"
     ],
     "language": "python",
     "metadata": {},
     "outputs": [],
     "prompt_number": 24
    },
    {
     "cell_type": "code",
     "collapsed": false,
     "input": [
      "for u in xrange(U):\n",
      "    for v in xrange(u+1,U):\n",
      "        G.add_weighted_edges_from([(u,v,sim[u,v])])"
     ],
     "language": "python",
     "metadata": {},
     "outputs": [],
     "prompt_number": 26
    },
    {
     "cell_type": "code",
     "collapsed": false,
     "input": [
      "partition = community.best_partition(G)"
     ],
     "language": "python",
     "metadata": {},
     "outputs": [],
     "prompt_number": 27
    },
    {
     "cell_type": "code",
     "collapsed": false,
     "input": [
      "size = float(len(set(partition.values())))\n",
      "pos = nx.spring_layout(G)\n",
      "count = 0.\n",
      "for com in set(partition.values()) :\n",
      "    count = count + 1.\n",
      "    list_nodes = [nodes for nodes in partition.keys()\n",
      "                                if partition[nodes] == com]\n",
      "    nx.draw_networkx_nodes(G, pos, list_nodes, node_size = 20,\n",
      "                                node_color = str(count / size))\n",
      "\n",
      "\n",
      "nx.draw_networkx_edges(G,pos, alpha=0.5)"
     ],
     "language": "python",
     "metadata": {},
     "outputs": [
      {
       "metadata": {},
       "output_type": "pyout",
       "prompt_number": 28,
       "text": [
        "<matplotlib.collections.LineCollection at 0x139d14f10>"
       ]
      },
      {
       "metadata": {},
       "output_type": "display_data",
       "png": "[encoded data removed]",
       "text": [
        "<matplotlib.figure.Figure at 0x13ccab550>"
       ]
      }
     ],
     "prompt_number": 28
    },
    {
     "cell_type": "code",
     "collapsed": false,
     "input": [],
     "language": "python",
     "metadata": {},
     "outputs": []
    },
    {
     "cell_type": "code",
     "collapsed": false,
     "input": [
      "for u in xrange(U):\n",
      "    if labels[u]!=partition[u]:\n",
      "        print u"
     ],
     "language": "python",
     "metadata": {},
     "outputs": [],
     "prompt_number": 32
    },
    {
     "cell_type": "code",
     "collapsed": false,
     "input": [],
     "language": "python",
     "metadata": {},
     "outputs": []
    },
    {
     "cell_type": "code",
     "collapsed": false,
     "input": [],
     "language": "python",
     "metadata": {},
     "outputs": []
    },
    {
     "cell_type": "code",
     "collapsed": false,
     "input": [],
     "language": "python",
     "metadata": {},
     "outputs": []
    },
    {
     "cell_type": "heading",
     "level": 2,
     "metadata": {},
     "source": [
      "PCA"
     ]
    },
    {
     "cell_type": "code",
     "collapsed": false,
     "input": [
      "from sklearn.decomposition import PCA"
     ],
     "language": "python",
     "metadata": {},
     "outputs": [],
     "prompt_number": 200
    },
    {
     "cell_type": "code",
     "collapsed": false,
     "input": [
      "pca = PCA(n_components=1)\n",
      "pca.fit(profiles)"
     ],
     "language": "python",
     "metadata": {},
     "outputs": [
      {
       "metadata": {},
       "output_type": "pyout",
       "prompt_number": 210,
       "text": [
        "PCA(copy=True, n_components=1, whiten=False)"
       ]
      }
     ],
     "prompt_number": 210
    },
    {
     "cell_type": "code",
     "collapsed": false,
     "input": [
      "print(pca.explained_variance_ratio_)"
     ],
     "language": "python",
     "metadata": {},
     "outputs": [
      {
       "output_type": "stream",
       "stream": "stdout",
       "text": [
        "[ 1.]\n"
       ]
      }
     ],
     "prompt_number": 211
    },
    {
     "cell_type": "code",
     "collapsed": false,
     "input": [
      "p_pca = pca.transform(profiles)"
     ],
     "language": "python",
     "metadata": {},
     "outputs": [],
     "prompt_number": 212
    },
    {
     "cell_type": "code",
     "collapsed": false,
     "input": [
      "p_pca, len(p_pca)"
     ],
     "language": "python",
     "metadata": {},
     "outputs": [
      {
       "metadata": {},
       "output_type": "pyout",
       "prompt_number": 221,
       "text": [
        "(array([[ -9.91001998e+02],\n",
        "        [ -1.03900200e+03],\n",
        "        [ -9.96001998e+02],\n",
        "        ..., \n",
        "        [ -1.02000200e+03],\n",
        "        [ -9.36001998e+02],\n",
        "        [  9.98001998e+05]]), 1001)"
       ]
      }
     ],
     "prompt_number": 221
    },
    {
     "cell_type": "code",
     "collapsed": false,
     "input": [
      "plt.plot(p_pca[:-1])"
     ],
     "language": "python",
     "metadata": {},
     "outputs": [
      {
       "metadata": {},
       "output_type": "pyout",
       "prompt_number": 218,
       "text": [
        "[<matplotlib.lines.Line2D at 0x10b588310>]"
       ]
      },
      {
       "metadata": {},
       "output_type": "display_data",
       "png": "[encoded data removed]",
       "text": [
        "<matplotlib.figure.Figure at 0x1093299d0>"
       ]
      }
     ],
     "prompt_number": 218
    },
    {
     "cell_type": "code",
     "collapsed": false,
     "input": [
      "p = profiles.T"
     ],
     "language": "python",
     "metadata": {},
     "outputs": [],
     "prompt_number": 222
    },
    {
     "cell_type": "code",
     "collapsed": false,
     "input": [
      "p[5,:]"
     ],
     "language": "python",
     "metadata": {},
     "outputs": [
      {
       "metadata": {},
       "output_type": "pyout",
       "prompt_number": 224,
       "text": [
        "array([ 0.32869911,  0.33993743,  0.33932136, ...,  0.33742331,\n",
        "        0.32015066,  0.333378  ])"
       ]
      }
     ],
     "prompt_number": 224
    },
    {
     "cell_type": "code",
     "collapsed": false,
     "input": [
      "cov = np.cov(p)\n",
      "cov"
     ],
     "language": "python",
     "metadata": {},
     "outputs": [
      {
       "metadata": {},
       "output_type": "pyout",
       "prompt_number": 226,
       "text": [
        "array([[  1.52752805e-04,  -2.76334094e-05,  -3.02164537e-05,\n",
        "         -4.95466001e-05,  -4.53563417e-05,   3.17850541e-06,\n",
        "         -4.07934383e-06,   9.00838423e-07,   2.20104106e-05,\n",
        "         -2.20104106e-05,  -3.39623157e-07,  -3.39623157e-07,\n",
        "          3.39623157e-07,   3.39623157e-07,   5.24372930e-06,\n",
        "         -4.49093330e-07,   4.14238374e-07,   3.48549564e-08,\n",
        "         -5.24372930e-06,   7.57569424e-07,   7.57569424e-07,\n",
        "         -7.57569424e-07,  -7.57569424e-07,  -1.04986788e-02],\n",
        "       [ -2.76334094e-05,   1.45741354e-04,  -3.25802409e-05,\n",
        "         -3.96919702e-05,  -4.58357336e-05,   1.84084490e-06,\n",
        "         -1.51938596e-05,   1.33530147e-05,  -1.05317203e-05,\n",
        "          1.05317203e-05,   2.73318698e-06,   2.73318698e-06,\n",
        "         -2.73318698e-06,  -2.73318698e-06,  -2.57260309e-07,\n",
        "         -5.19965811e-06,   5.94205123e-06,  -7.42393118e-07,\n",
        "          2.57260309e-07,   7.26341968e-07,   7.26341968e-07,\n",
        "         -7.26341968e-07,  -7.26341968e-07,  -4.74519323e-02],\n",
        "       [ -3.02164537e-05,  -3.25802409e-05,   1.49192962e-04,\n",
        "         -4.60536567e-05,  -4.03426108e-05,   6.23283292e-06,\n",
        "          2.99463423e-07,  -6.53229634e-06,  -8.15607403e-06,\n",
        "          8.15607403e-06,  -7.25022123e-06,  -7.25022123e-06,\n",
        "          7.25022123e-06,   7.25022123e-06,  -2.30510043e-07,\n",
        "          5.73255099e-06,  -2.60277176e-07,  -5.47227382e-06,\n",
        "          2.30510043e-07,  -3.42264301e-06,  -3.42264301e-06,\n",
        "          3.42264301e-06,   3.42264301e-06,   2.13119572e-02],\n",
        "       [ -4.95466001e-05,  -3.96919702e-05,  -4.60536567e-05,\n",
        "          1.70804024e-04,  -3.55117972e-05,   2.18961570e-06,\n",
        "          2.87140368e-06,  -5.06101938e-06,  -3.97783102e-06,\n",
        "          3.97783102e-06,   5.63273293e-06,   5.63273293e-06,\n",
        "         -5.63273293e-06,  -5.63273293e-06,   5.73280399e-06,\n",
        "         -1.73859109e-06,  -3.14940764e-07,   2.05353185e-06,\n",
        "         -5.73280399e-06,   3.83996312e-06,   3.83996312e-06,\n",
        "         -3.83996312e-06,  -3.83996312e-06,   1.32939418e-02],\n",
        "       [ -4.53563417e-05,  -4.58357336e-05,  -4.03426108e-05,\n",
        "         -3.55117972e-05,   1.67046483e-04,  -1.34417989e-05,\n",
        "          1.61023364e-05,  -2.66053742e-06,   6.55214757e-07,\n",
        "         -6.55214757e-07,  -7.76075533e-07,  -7.76075533e-07,\n",
        "          7.76075533e-07,   7.76075533e-07,  -1.04887629e-05,\n",
        "          1.65479154e-06,  -5.78107166e-06,   4.12628012e-06,\n",
        "          1.04887629e-05,  -1.90123150e-06,  -1.90123150e-06,\n",
        "          1.90123150e-06,   1.90123150e-06,   2.33447121e-02],\n",
        "       [  3.17850541e-06,   1.84084490e-06,   6.23283292e-06,\n",
        "          2.18961570e-06,  -1.34417989e-05,   2.13394878e-04,\n",
        "         -1.20064362e-04,  -9.33305162e-05,  -5.10600506e-06,\n",
        "          5.10600506e-06,   1.28357277e-05,   1.28357277e-05,\n",
        "         -1.28357277e-05,  -1.28357277e-05,   7.64277727e-06,\n",
        "         -4.35366942e-06,   1.01814315e-06,   3.33552627e-06,\n",
        "         -7.64277727e-06,   8.01489389e-06,   8.01489389e-06,\n",
        "         -8.01489389e-06,  -8.01489389e-06,   2.61676355e-02],\n",
        "       [ -4.07934383e-06,  -1.51938596e-05,   2.99463423e-07,\n",
        "          2.87140368e-06,   1.61023364e-05,  -1.20064362e-04,\n",
        "          2.59286245e-04,  -1.39221883e-04,  -7.95381239e-06,\n",
        "          7.95381239e-06,  -1.06412896e-05,  -1.06412896e-05,\n",
        "          1.06412896e-05,   1.06412896e-05,  -8.05856355e-06,\n",
        "         -5.17195514e-06,   6.32876958e-06,  -1.15681445e-06,\n",
        "          8.05856355e-06,  -1.06780593e-06,  -1.06780593e-06,\n",
        "          1.06780593e-06,   1.06780593e-06,  -6.22113080e-02],\n",
        "       [  9.00838423e-07,   1.33530147e-05,  -6.53229634e-06,\n",
        "         -5.06101938e-06,  -2.66053742e-06,  -9.33305162e-05,\n",
        "         -1.39221883e-04,   2.32552399e-04,   1.30598174e-05,\n",
        "         -1.30598174e-05,  -2.19443817e-06,  -2.19443817e-06,\n",
        "          2.19443817e-06,   2.19443817e-06,   4.15786285e-07,\n",
        "          9.52562455e-06,  -7.34691273e-06,  -2.17871183e-06,\n",
        "         -4.15786285e-07,  -6.94708797e-06,  -6.94708797e-06,\n",
        "          6.94708797e-06,   6.94708797e-06,   3.60436725e-02],\n",
        "       [  2.20104106e-05,  -1.05317203e-05,  -8.15607403e-06,\n",
        "         -3.97783102e-06,   6.55214757e-07,  -5.10600506e-06,\n",
        "         -7.95381239e-06,   1.30598174e-05,   2.68240512e-04,\n",
        "         -2.68240512e-04,  -3.98504840e-06,  -3.98504840e-06,\n",
        "          3.98504840e-06,   3.98504840e-06,   3.49859643e-06,\n",
        "          7.23173681e-06,  -8.30860426e-06,   1.07686745e-06,\n",
        "         -3.49859643e-06,   1.03898157e-07,   1.03898157e-07,\n",
        "         -1.03898157e-07,  -1.03898157e-07,   3.61338506e-02],\n",
        "       [ -2.20104106e-05,   1.05317203e-05,   8.15607403e-06,\n",
        "          3.97783102e-06,  -6.55214757e-07,   5.10600506e-06,\n",
        "          7.95381239e-06,  -1.30598174e-05,  -2.68240512e-04,\n",
        "          2.68240512e-04,   3.98504840e-06,   3.98504840e-06,\n",
        "         -3.98504840e-06,  -3.98504840e-06,  -3.49859643e-06,\n",
        "         -7.23173681e-06,   8.30860426e-06,  -1.07686745e-06,\n",
        "          3.49859643e-06,  -1.03898157e-07,  -1.03898157e-07,\n",
        "          1.03898157e-07,   1.03898157e-07,  -3.61338506e-02],\n",
        "       [ -3.39623157e-07,   2.73318698e-06,  -7.25022123e-06,\n",
        "          5.63273293e-06,  -7.76075533e-07,   1.28357277e-05,\n",
        "         -1.06412896e-05,  -2.19443817e-06,  -3.98504840e-06,\n",
        "          3.98504840e-06,   6.24826587e-02,  -6.23538821e-02,\n",
        "          6.23711379e-02,  -6.24999145e-02,   6.22955690e-02,\n",
        "         -4.16713900e-02,  -4.16915340e-02,  -4.14908726e-02,\n",
        "          6.25582276e-02,   6.21828252e-02,  -6.21815915e-02,\n",
        "         -6.26722051e-02,   6.26709714e-02,   6.80666932e-03],\n",
        "       [ -3.39623157e-07,   2.73318698e-06,  -7.25022123e-06,\n",
        "          5.63273293e-06,  -7.76075533e-07,   1.28357277e-05,\n",
        "         -1.06412896e-05,  -2.19443817e-06,  -3.98504840e-06,\n",
        "          3.98504840e-06,  -6.23538821e-02,   6.24826587e-02,\n",
        "         -6.24999145e-02,   6.23711379e-02,  -6.22919908e-02,\n",
        "          4.16714737e-02,   4.16961815e-02,   4.14861414e-02,\n",
        "         -6.25618058e-02,  -6.21815915e-02,   6.21828252e-02,\n",
        "          6.26709714e-02,  -6.26722051e-02,   6.80666932e-03],\n",
        "       [  3.39623157e-07,  -2.73318698e-06,   7.25022123e-06,\n",
        "         -5.63273293e-06,   7.76075533e-07,  -1.28357277e-05,\n",
        "          1.06412896e-05,   2.19443817e-06,   3.98504840e-06,\n",
        "         -3.98504840e-06,   6.23711379e-02,  -6.24999145e-02,\n",
        "          6.27750654e-02,  -6.26462889e-02,   6.24343001e-02,\n",
        "         -4.17689841e-02,  -4.17891753e-02,  -4.15880440e-02,\n",
        "          6.27119033e-02,   6.23259867e-02,  -6.23272203e-02,\n",
        "         -6.28189830e-02,   6.28202167e-02,  -6.80666932e-03],\n",
        "       [  3.39623157e-07,  -2.73318698e-06,   7.25022123e-06,\n",
        "         -5.63273293e-06,   7.76075533e-07,  -1.28357277e-05,\n",
        "          1.06412896e-05,   2.19443817e-06,   3.98504840e-06,\n",
        "         -3.98504840e-06,  -6.24999145e-02,   6.23711379e-02,\n",
        "         -6.26462889e-02,   6.27750654e-02,  -6.24378782e-02,\n",
        "          4.17689003e-02,   4.17845279e-02,   4.15927752e-02,\n",
        "         -6.27083251e-02,  -6.23272203e-02,   6.23259867e-02,\n",
        "          6.28202167e-02,  -6.28189830e-02,  -6.80666932e-03],\n",
        "       [  5.24372930e-06,  -2.57260309e-07,  -2.30510043e-07,\n",
        "          5.73280399e-06,  -1.04887629e-05,   7.64277727e-06,\n",
        "         -8.05856355e-06,   4.15786285e-07,   3.49859643e-06,\n",
        "         -3.49859643e-06,   6.22955690e-02,  -6.22919908e-02,\n",
        "          6.24343001e-02,  -6.24378782e-02,   6.23621970e-02,\n",
        "         -4.16300277e-02,  -4.16501518e-02,  -4.14496896e-02,\n",
        "          6.23676720e-02,   6.21194704e-02,  -6.21198712e-02,\n",
        "         -6.26099979e-02,   6.26103987e-02,  -5.47076411e-03],\n",
        "       [ -4.49093330e-07,  -5.19965811e-06,   5.73255099e-06,\n",
        "         -1.73859109e-06,   1.65479154e-06,  -4.35366942e-06,\n",
        "         -5.17195514e-06,   9.52562455e-06,   7.23173681e-06,\n",
        "         -7.23173681e-06,  -4.16713900e-02,   4.16714737e-02,\n",
        "         -4.17689841e-02,   4.17689003e-02,  -4.16300277e-02,\n",
        "          2.79596462e-02,   2.77991427e-02,   2.76815851e-02,\n",
        "         -4.18103463e-02,  -4.15562473e-02,   4.15509019e-02,\n",
        "          4.18894722e-02,  -4.18841267e-02,  -7.48859536e-03],\n",
        "       [  4.14238374e-07,   5.94205123e-06,  -2.60277176e-07,\n",
        "         -3.14940764e-07,  -5.78107166e-06,   1.01814315e-06,\n",
        "          6.32876958e-06,  -7.34691273e-06,  -8.30860426e-06,\n",
        "          8.30860426e-06,  -4.16915340e-02,   4.16961815e-02,\n",
        "         -4.17891753e-02,   4.17845279e-02,  -4.16501518e-02,\n",
        "          2.77991427e-02,   2.80022131e-02,   2.76793536e-02,\n",
        "         -4.18305576e-02,  -4.15763357e-02,   4.15757993e-02,\n",
        "          4.19049101e-02,  -4.19043736e-02,  -1.28247197e-02],\n",
        "       [  3.48549564e-08,  -7.42393118e-07,  -5.47227382e-06,\n",
        "          2.05353185e-06,   4.12628012e-06,   3.33552627e-06,\n",
        "         -1.15681445e-06,  -2.17871183e-06,   1.07686745e-06,\n",
        "         -1.07686745e-06,  -4.14908726e-02,   4.14861414e-02,\n",
        "         -4.15880440e-02,   4.15927752e-02,  -4.14496896e-02,\n",
        "          2.76815851e-02,   2.76793536e-02,   2.77179778e-02,\n",
        "         -4.16292270e-02,  -4.13762288e-02,   4.13821107e-02,\n",
        "          4.16968059e-02,  -4.17026878e-02,   2.03133151e-02],\n",
        "       [ -5.24372930e-06,   2.57260309e-07,   2.30510043e-07,\n",
        "         -5.73280399e-06,   1.04887629e-05,  -7.64277727e-06,\n",
        "          8.05856355e-06,  -4.15786285e-07,  -3.49859643e-06,\n",
        "          3.49859643e-06,   6.25582276e-02,  -6.25618058e-02,\n",
        "          6.27119033e-02,  -6.27083251e-02,   6.23676720e-02,\n",
        "         -4.18103463e-02,  -4.18305576e-02,  -4.16292270e-02,\n",
        "          6.29024589e-02,   6.23893415e-02,  -6.23889406e-02,\n",
        "         -6.28811903e-02,   6.28807895e-02,   5.47076411e-03],\n",
        "       [  7.57569424e-07,   7.26341968e-07,  -3.42264301e-06,\n",
        "          3.83996312e-06,  -1.90123150e-06,   8.01489389e-06,\n",
        "         -1.06780593e-06,  -6.94708797e-06,   1.03898157e-07,\n",
        "         -1.03898157e-07,   6.21828252e-02,  -6.21815915e-02,\n",
        "          6.23259867e-02,  -6.23272203e-02,   6.21194704e-02,\n",
        "         -4.15562473e-02,  -4.15763357e-02,  -4.13762288e-02,\n",
        "          6.23893415e-02,   6.21455313e-02,  -6.20097769e-02,\n",
        "         -6.24990349e-02,   6.23632805e-02,  -5.31941454e-02],\n",
        "       [  7.57569424e-07,   7.26341968e-07,  -3.42264301e-06,\n",
        "          3.83996312e-06,  -1.90123150e-06,   8.01489389e-06,\n",
        "         -1.06780593e-06,  -6.94708797e-06,   1.03898157e-07,\n",
        "         -1.03898157e-07,  -6.21815915e-02,   6.21828252e-02,\n",
        "         -6.23272203e-02,   6.23259867e-02,  -6.21198712e-02,\n",
        "          4.15509019e-02,   4.15757993e-02,   4.13821107e-02,\n",
        "         -6.23889406e-02,  -6.20097769e-02,   6.21455313e-02,\n",
        "          6.23632805e-02,  -6.24990349e-02,  -5.31941454e-02],\n",
        "       [ -7.57569424e-07,  -7.26341968e-07,   3.42264301e-06,\n",
        "         -3.83996312e-06,   1.90123150e-06,  -8.01489389e-06,\n",
        "          1.06780593e-06,   6.94708797e-06,  -1.03898157e-07,\n",
        "          1.03898157e-07,  -6.26722051e-02,   6.26709714e-02,\n",
        "         -6.28189830e-02,   6.28202167e-02,  -6.26099979e-02,\n",
        "          4.18894722e-02,   4.19049101e-02,   4.16968059e-02,\n",
        "         -6.28811903e-02,  -6.24990349e-02,   6.23632805e-02,\n",
        "          6.31279076e-02,  -6.29921532e-02,   5.31941454e-02],\n",
        "       [ -7.57569424e-07,  -7.26341968e-07,   3.42264301e-06,\n",
        "         -3.83996312e-06,   1.90123150e-06,  -8.01489389e-06,\n",
        "          1.06780593e-06,   6.94708797e-06,  -1.03898157e-07,\n",
        "          1.03898157e-07,   6.26709714e-02,  -6.26722051e-02,\n",
        "          6.28202167e-02,  -6.28189830e-02,   6.26103987e-02,\n",
        "         -4.18841267e-02,  -4.19043736e-02,  -4.17026878e-02,\n",
        "          6.28807895e-02,   6.23632805e-02,  -6.24990349e-02,\n",
        "         -6.29921532e-02,   6.31279076e-02,   5.31941454e-02],\n",
        "       [ -1.04986788e-02,  -4.74519323e-02,   2.13119572e-02,\n",
        "          1.32939418e-02,   2.33447121e-02,   2.61676355e-02,\n",
        "         -6.22113080e-02,   3.60436725e-02,   3.61338506e-02,\n",
        "         -3.61338506e-02,   6.80666932e-03,   6.80666932e-03,\n",
        "         -6.80666932e-03,  -6.80666932e-03,  -5.47076411e-03,\n",
        "         -7.48859536e-03,  -1.28247197e-02,   2.03133151e-02,\n",
        "          5.47076411e-03,  -5.31941454e-02,  -5.31941454e-02,\n",
        "          5.31941454e-02,   5.31941454e-02,   9.97004948e+08]])"
       ]
      }
     ],
     "prompt_number": 226
    },
    {
     "cell_type": "code",
     "collapsed": false,
     "input": [
      "U,D,V=np.linalg.svd(cov)"
     ],
     "language": "python",
     "metadata": {},
     "outputs": [],
     "prompt_number": 227
    },
    {
     "cell_type": "code",
     "collapsed": false,
     "input": [
      "U.shape, D.shape, V.shape"
     ],
     "language": "python",
     "metadata": {},
     "outputs": [
      {
       "metadata": {},
       "output_type": "pyout",
       "prompt_number": 232,
       "text": [
        "((24, 24), (24,), (24, 24))"
       ]
      }
     ],
     "prompt_number": 232
    },
    {
     "cell_type": "code",
     "collapsed": false,
     "input": [
      "import community"
     ],
     "language": "python",
     "metadata": {},
     "outputs": [
      {
       "ename": "ImportError",
       "evalue": "No module named community",
       "output_type": "pyerr",
       "traceback": [
        "\u001b[0;31m---------------------------------------------------------------------------\u001b[0m\n\u001b[0;31mImportError\u001b[0m                               Traceback (most recent call last)",
        "\u001b[0;32m<ipython-input-236-0bf92cae0d19>\u001b[0m in \u001b[0;36m<module>\u001b[0;34m()\u001b[0m\n\u001b[0;32m----> 1\u001b[0;31m \u001b[0;32mimport\u001b[0m \u001b[0mcommunity\u001b[0m\u001b[0;34m\u001b[0m\u001b[0m\n\u001b[0m",
        "\u001b[0;31mImportError\u001b[0m: No module named community"
       ]
      }
     ],
     "prompt_number": 236
    },
    {
     "cell_type": "heading",
     "level": 2,
     "metadata": {},
     "source": [
      "OCSVM"
     ]
    },
    {
     "cell_type": "code",
     "collapsed": false,
     "input": [
      "u1 = 550\n",
      "u2 = 600\n",
      "\n",
      "train = []\n",
      "\n",
      "for event in events:\n",
      "    if (event[0]<u2 and event[0]>=u1):\n",
      "        vec = np.array([0 for i in xrange(K)])\n",
      "        vector_ind = 0\n",
      "        field_ind = 4\n",
      "\n",
      "        for field in features:\n",
      "            for ele in field:\n",
      "                if event[field_ind] == ele:\n",
      "                    vec[vector_ind] = 1\n",
      "                vector_ind += 1\n",
      "            field_ind += 1\n",
      "        train.append(vec)"
     ],
     "language": "python",
     "metadata": {},
     "outputs": [],
     "prompt_number": 12
    },
    {
     "cell_type": "code",
     "collapsed": false,
     "input": [
      "u1 = 527\n",
      "u2 = 528\n",
      "\n",
      "train = []\n",
      "\n",
      "for event in events:\n",
      "    if (event[0]>=u1 and event[0]<u2):\n",
      "        vec = np.array([0 for i in xrange(3)])\n",
      "        field_ind = 4\n",
      "\n",
      "        for field in features:\n",
      "            for i in xrange(len(field)):\n",
      "                if (event[field_ind] == field[i]):\n",
      "                    vec[field_ind-4] = (i+1)*10\n",
      "            field_ind += 1\n",
      "        train.append(vec)"
     ],
     "language": "python",
     "metadata": {},
     "outputs": [],
     "prompt_number": 188
    },
    {
     "cell_type": "code",
     "collapsed": false,
     "input": [
      "len(train)"
     ],
     "language": "python",
     "metadata": {},
     "outputs": [
      {
       "metadata": {},
       "output_type": "pyout",
       "prompt_number": 13,
       "text": [
        "49684"
       ]
      }
     ],
     "prompt_number": 13
    },
    {
     "cell_type": "code",
     "collapsed": false,
     "input": [
      "pro = np.array([0 for i in xrange(3)])\n",
      "\n",
      "for event in train:\n",
      "    pro += event"
     ],
     "language": "python",
     "metadata": {},
     "outputs": [],
     "prompt_number": 113
    },
    {
     "cell_type": "code",
     "collapsed": false,
     "input": [
      "pro"
     ],
     "language": "python",
     "metadata": {},
     "outputs": [
      {
       "metadata": {},
       "output_type": "pyout",
       "prompt_number": 57,
       "text": [
        "array([1496560, 1499990, 1253770])"
       ]
      }
     ],
     "prompt_number": 57
    },
    {
     "cell_type": "code",
     "collapsed": false,
     "input": [
      "plt.plot(pro)"
     ],
     "language": "python",
     "metadata": {},
     "outputs": [
      {
       "metadata": {},
       "output_type": "pyout",
       "prompt_number": 58,
       "text": [
        "[<matplotlib.lines.Line2D at 0x12c55cf50>]"
       ]
      },
      {
       "metadata": {},
       "output_type": "display_data",
       "png": "[encoded data removed]",
       "text": [
        "<matplotlib.figure.Figure at 0x100433550>"
       ]
      }
     ],
     "prompt_number": 58
    },
    {
     "cell_type": "code",
     "collapsed": false,
     "input": [],
     "language": "python",
     "metadata": {},
     "outputs": []
    },
    {
     "cell_type": "code",
     "collapsed": false,
     "input": [
      "from sklearn import svm"
     ],
     "language": "python",
     "metadata": {},
     "outputs": [],
     "prompt_number": 14
    },
    {
     "cell_type": "code",
     "collapsed": false,
     "input": [
      "from sklearn import svm, grid_search, datasets"
     ],
     "language": "python",
     "metadata": {},
     "outputs": [],
     "prompt_number": 23
    },
    {
     "cell_type": "code",
     "collapsed": false,
     "input": [
      "C_range = 10.0 ** np.arange(-8, 0)\n",
      "gamma_range = 10.0 ** np.arange(-8, 0)\n",
      "#param_grid = dict(nu=C_range)\n",
      "param_grid = dict(gamma=gamma_range, nu=C_range)\n",
      "svr = svm.OneClassSVM()"
     ],
     "language": "python",
     "metadata": {},
     "outputs": [],
     "prompt_number": 15
    },
    {
     "cell_type": "code",
     "collapsed": false,
     "input": [
      "y = np.ones(len(train))"
     ],
     "language": "python",
     "metadata": {},
     "outputs": [],
     "prompt_number": 115
    },
    {
     "cell_type": "code",
     "collapsed": false,
     "input": [
      "grid = grid_search.GridSearchCV(svr, param_grid=param_grid, verbose = 1, scoring = 'accuracy')\n",
      "grid.fit(train, y)\n",
      "print(\"The best classifier is: \", grid.best_estimator_)"
     ],
     "language": "python",
     "metadata": {},
     "outputs": [
      {
       "output_type": "stream",
       "stream": "stderr",
       "text": [
        "[Parallel(n_jobs=1)]: Done   1 jobs       | elapsed:    0.0s\n",
        "[Parallel(n_jobs=1)]: Done  50 jobs       | elapsed:   24.8s\n"
       ]
      },
      {
       "output_type": "stream",
       "stream": "stdout",
       "text": [
        "Fitting 3 folds for each of 64 candidates, totalling 192 fits\n",
        "('The best classifier is: ', OneClassSVM(cache_size=200, coef0=0.0, degree=3, gamma=9.9999999999999995e-08,\n",
        "      kernel='rbf', max_iter=-1, nu=0.10000000000000001, random_state=None,\n",
        "      shrinking=True, tol=0.001, verbose=False))"
       ]
      },
      {
       "output_type": "stream",
       "stream": "stdout",
       "text": [
        "\n"
       ]
      },
      {
       "output_type": "stream",
       "stream": "stderr",
       "text": [
        "[Parallel(n_jobs=1)]: Done 192 out of 192 | elapsed:  1.8min finished\n"
       ]
      }
     ],
     "prompt_number": 116
    },
    {
     "cell_type": "code",
     "collapsed": false,
     "input": [
      "best_nu = 0\n",
      "best_gamma = 0\n",
      "best_sco = 0\n",
      "\n",
      "for nu in C_range:\n",
      "    for gamma in gamma_range:\n",
      "        clf = svm.OneClassSVM(nu=nu, kernel=\"rbf\", verbose=True, gamma=gamma)\n",
      "        clf.fit(train)\n",
      "        sco = clf.predict(train)\n",
      "        if np.sum(sco) >= best_sco :\n",
      "            best_nu = nu\n",
      "            best_gamma = gamma\n",
      "            best_sco = np.sum(sco)"
     ],
     "language": "python",
     "metadata": {},
     "outputs": [
      {
       "output_type": "stream",
       "stream": "stdout",
       "text": [
        "[LibSVM][LibSVM]"
       ]
      },
      {
       "output_type": "stream",
       "stream": "stdout",
       "text": [
        "[LibSVM]"
       ]
      },
      {
       "output_type": "stream",
       "stream": "stdout",
       "text": [
        "[LibSVM]"
       ]
      },
      {
       "output_type": "stream",
       "stream": "stdout",
       "text": [
        "[LibSVM]"
       ]
      },
      {
       "output_type": "stream",
       "stream": "stdout",
       "text": [
        "[LibSVM]"
       ]
      },
      {
       "output_type": "stream",
       "stream": "stdout",
       "text": [
        "[LibSVM]"
       ]
      },
      {
       "output_type": "stream",
       "stream": "stdout",
       "text": [
        "[LibSVM]"
       ]
      },
      {
       "output_type": "stream",
       "stream": "stdout",
       "text": [
        "[LibSVM]"
       ]
      },
      {
       "output_type": "stream",
       "stream": "stdout",
       "text": [
        "[LibSVM]"
       ]
      },
      {
       "output_type": "stream",
       "stream": "stdout",
       "text": [
        "[LibSVM]"
       ]
      },
      {
       "output_type": "stream",
       "stream": "stdout",
       "text": [
        "[LibSVM]"
       ]
      },
      {
       "output_type": "stream",
       "stream": "stdout",
       "text": [
        "[LibSVM]"
       ]
      },
      {
       "output_type": "stream",
       "stream": "stdout",
       "text": [
        "[LibSVM]"
       ]
      },
      {
       "output_type": "stream",
       "stream": "stdout",
       "text": [
        "[LibSVM]"
       ]
      },
      {
       "output_type": "stream",
       "stream": "stdout",
       "text": [
        "[LibSVM]"
       ]
      },
      {
       "output_type": "stream",
       "stream": "stdout",
       "text": [
        "[LibSVM]"
       ]
      },
      {
       "output_type": "stream",
       "stream": "stdout",
       "text": [
        "[LibSVM]"
       ]
      },
      {
       "output_type": "stream",
       "stream": "stdout",
       "text": [
        "[LibSVM]"
       ]
      },
      {
       "output_type": "stream",
       "stream": "stdout",
       "text": [
        "[LibSVM]"
       ]
      },
      {
       "output_type": "stream",
       "stream": "stdout",
       "text": [
        "[LibSVM]"
       ]
      },
      {
       "output_type": "stream",
       "stream": "stdout",
       "text": [
        "[LibSVM]"
       ]
      },
      {
       "output_type": "stream",
       "stream": "stdout",
       "text": [
        "[LibSVM]"
       ]
      },
      {
       "output_type": "stream",
       "stream": "stdout",
       "text": [
        "[LibSVM]"
       ]
      },
      {
       "output_type": "stream",
       "stream": "stdout",
       "text": [
        "[LibSVM]"
       ]
      },
      {
       "output_type": "stream",
       "stream": "stdout",
       "text": [
        "[LibSVM]"
       ]
      },
      {
       "output_type": "stream",
       "stream": "stdout",
       "text": [
        "[LibSVM]"
       ]
      },
      {
       "output_type": "stream",
       "stream": "stdout",
       "text": [
        "[LibSVM]"
       ]
      },
      {
       "output_type": "stream",
       "stream": "stdout",
       "text": [
        "[LibSVM]"
       ]
      },
      {
       "output_type": "stream",
       "stream": "stdout",
       "text": [
        "[LibSVM]"
       ]
      },
      {
       "output_type": "stream",
       "stream": "stdout",
       "text": [
        "[LibSVM]"
       ]
      },
      {
       "output_type": "stream",
       "stream": "stdout",
       "text": [
        "[LibSVM]"
       ]
      },
      {
       "output_type": "stream",
       "stream": "stdout",
       "text": [
        "[LibSVM]"
       ]
      },
      {
       "output_type": "stream",
       "stream": "stdout",
       "text": [
        "[LibSVM]"
       ]
      },
      {
       "output_type": "stream",
       "stream": "stdout",
       "text": [
        "[LibSVM]"
       ]
      },
      {
       "output_type": "stream",
       "stream": "stdout",
       "text": [
        "[LibSVM]"
       ]
      },
      {
       "output_type": "stream",
       "stream": "stdout",
       "text": [
        "[LibSVM]"
       ]
      },
      {
       "output_type": "stream",
       "stream": "stdout",
       "text": [
        "[LibSVM]"
       ]
      },
      {
       "output_type": "stream",
       "stream": "stdout",
       "text": [
        "[LibSVM]"
       ]
      },
      {
       "output_type": "stream",
       "stream": "stdout",
       "text": [
        "[LibSVM]"
       ]
      },
      {
       "output_type": "stream",
       "stream": "stdout",
       "text": [
        "[LibSVM]"
       ]
      },
      {
       "output_type": "stream",
       "stream": "stdout",
       "text": [
        "[LibSVM]"
       ]
      },
      {
       "output_type": "stream",
       "stream": "stdout",
       "text": [
        "[LibSVM]"
       ]
      },
      {
       "output_type": "stream",
       "stream": "stdout",
       "text": [
        "[LibSVM]"
       ]
      },
      {
       "output_type": "stream",
       "stream": "stdout",
       "text": [
        "[LibSVM]"
       ]
      },
      {
       "output_type": "stream",
       "stream": "stdout",
       "text": [
        "[LibSVM]"
       ]
      },
      {
       "output_type": "stream",
       "stream": "stdout",
       "text": [
        "[LibSVM]"
       ]
      },
      {
       "output_type": "stream",
       "stream": "stdout",
       "text": [
        "[LibSVM]"
       ]
      },
      {
       "output_type": "stream",
       "stream": "stdout",
       "text": [
        "[LibSVM]"
       ]
      },
      {
       "output_type": "stream",
       "stream": "stdout",
       "text": [
        "[LibSVM]"
       ]
      },
      {
       "output_type": "stream",
       "stream": "stdout",
       "text": [
        "[LibSVM]"
       ]
      },
      {
       "output_type": "stream",
       "stream": "stdout",
       "text": [
        "[LibSVM]"
       ]
      },
      {
       "output_type": "stream",
       "stream": "stdout",
       "text": [
        "[LibSVM]"
       ]
      },
      {
       "output_type": "stream",
       "stream": "stdout",
       "text": [
        "[LibSVM]"
       ]
      },
      {
       "output_type": "stream",
       "stream": "stdout",
       "text": [
        "[LibSVM]"
       ]
      },
      {
       "output_type": "stream",
       "stream": "stdout",
       "text": [
        "[LibSVM]"
       ]
      },
      {
       "output_type": "stream",
       "stream": "stdout",
       "text": [
        "[LibSVM]"
       ]
      },
      {
       "output_type": "stream",
       "stream": "stdout",
       "text": [
        "[LibSVM]"
       ]
      },
      {
       "output_type": "stream",
       "stream": "stdout",
       "text": [
        "[LibSVM]"
       ]
      },
      {
       "output_type": "stream",
       "stream": "stdout",
       "text": [
        "[LibSVM]"
       ]
      },
      {
       "output_type": "stream",
       "stream": "stdout",
       "text": [
        "[LibSVM]"
       ]
      },
      {
       "output_type": "stream",
       "stream": "stdout",
       "text": [
        "[LibSVM]"
       ]
      },
      {
       "output_type": "stream",
       "stream": "stdout",
       "text": [
        "[LibSVM]"
       ]
      },
      {
       "output_type": "stream",
       "stream": "stdout",
       "text": [
        "[LibSVM]"
       ]
      }
     ],
     "prompt_number": 16
    },
    {
     "cell_type": "code",
     "collapsed": false,
     "input": [
      "best_nu, best_gamma, best_sco"
     ],
     "language": "python",
     "metadata": {},
     "outputs": [
      {
       "metadata": {},
       "output_type": "pyout",
       "prompt_number": 17,
       "text": [
        "(0.10000000000000001, 1.0000000000000001e-05, 49807.0)"
       ]
      }
     ],
     "prompt_number": 17
    },
    {
     "cell_type": "code",
     "collapsed": false,
     "input": [
      "clf = svm.OneClassSVM(nu=best_nu, kernel=\"rbf\", verbose=True, gamma=best_gamma)"
     ],
     "language": "python",
     "metadata": {},
     "outputs": [],
     "prompt_number": 18
    },
    {
     "cell_type": "code",
     "collapsed": false,
     "input": [
      "clf.fit(train)"
     ],
     "language": "python",
     "metadata": {},
     "outputs": [
      {
       "output_type": "stream",
       "stream": "stdout",
       "text": [
        "[LibSVM]"
       ]
      },
      {
       "metadata": {},
       "output_type": "pyout",
       "prompt_number": 19,
       "text": [
        "OneClassSVM(cache_size=200, coef0=0.0, degree=3, gamma=1.0000000000000001e-05,\n",
        "      kernel='rbf', max_iter=-1, nu=0.10000000000000001, random_state=None,\n",
        "      shrinking=True, tol=0.001, verbose=True)"
       ]
      }
     ],
     "prompt_number": 19
    },
    {
     "cell_type": "code",
     "collapsed": false,
     "input": [
      "pro_acc = np.array([0 for i in xrange(K)])\n",
      "pro_rej = np.array([0 for i in xrange(K)])\n",
      "\n",
      "for i in xrange(len(sco)):\n",
      "    if (sco[i]==1):\n",
      "        pro_acc += train[i]\n",
      "    else:\n",
      "        pro_rej += train[i]"
     ],
     "language": "python",
     "metadata": {},
     "outputs": [],
     "prompt_number": 152
    },
    {
     "cell_type": "code",
     "collapsed": false,
     "input": [
      "pro_acc"
     ],
     "language": "python",
     "metadata": {},
     "outputs": [
      {
       "metadata": {},
       "output_type": "pyout",
       "prompt_number": 153,
       "text": [
        "array([18776,     0,  6292,     0,  6230,     0,     0,     0, 18838,\n",
        "       12563,     0,     0, 12505])"
       ]
      }
     ],
     "prompt_number": 153
    },
    {
     "cell_type": "code",
     "collapsed": false,
     "input": [
      "pro_acc[8]"
     ],
     "language": "python",
     "metadata": {},
     "outputs": [
      {
       "metadata": {},
       "output_type": "pyout",
       "prompt_number": 154,
       "text": [
        "18838"
       ]
      }
     ],
     "prompt_number": 154
    },
    {
     "cell_type": "code",
     "collapsed": false,
     "input": [
      "pro_rej"
     ],
     "language": "python",
     "metadata": {},
     "outputs": [
      {
       "metadata": {},
       "output_type": "pyout",
       "prompt_number": 155,
       "text": [
        "array([ 6016,     0, 18723,     0, 18506,     0,     0,     0,  6233,\n",
        "       12329,     0,     0, 12410])"
       ]
      }
     ],
     "prompt_number": 155
    },
    {
     "cell_type": "code",
     "collapsed": false,
     "input": [
      "plt.bar([i for i in xrange(K)], pro_acc, align='center')\n",
      "plt.xticks([i for i in xrange(K)], flat_feat, rotation=90)"
     ],
     "language": "python",
     "metadata": {},
     "outputs": [
      {
       "metadata": {},
       "output_type": "pyout",
       "prompt_number": 156,
       "text": [
        "([<matplotlib.axis.XTick at 0x12cd96fd0>,\n",
        "  <matplotlib.axis.XTick at 0x12cd75610>,\n",
        "  <matplotlib.axis.XTick at 0x133aaba50>,\n",
        "  <matplotlib.axis.XTick at 0x133ab6210>,\n",
        "  <matplotlib.axis.XTick at 0x133ab6950>,\n",
        "  <matplotlib.axis.XTick at 0x133ac00d0>,\n",
        "  <matplotlib.axis.XTick at 0x133ac0810>,\n",
        "  <matplotlib.axis.XTick at 0x133ac0f50>,\n",
        "  <matplotlib.axis.XTick at 0x133acb6d0>,\n",
        "  <matplotlib.axis.XTick at 0x133acbe10>,\n",
        "  <matplotlib.axis.XTick at 0x133ad5590>,\n",
        "  <matplotlib.axis.XTick at 0x133ad5cd0>,\n",
        "  <matplotlib.axis.XTick at 0x133ae0450>],\n",
        " <a list of 13 Text xticklabel objects>)"
       ]
      },
      {
       "metadata": {},
       "output_type": "display_data",
       "png": "[encoded data removed]",
       "text": [
        "<matplotlib.figure.Figure at 0x12cd03d90>"
       ]
      }
     ],
     "prompt_number": 156
    },
    {
     "cell_type": "code",
     "collapsed": false,
     "input": [
      "plt.bar([i for i in xrange(K)], pro_rej, align='center')\n",
      "plt.xticks([i for i in xrange(K)], flat_feat, rotation=90)"
     ],
     "language": "python",
     "metadata": {},
     "outputs": [
      {
       "metadata": {},
       "output_type": "pyout",
       "prompt_number": 157,
       "text": [
        "([<matplotlib.axis.XTick at 0x133ae9910>,\n",
        "  <matplotlib.axis.XTick at 0x1314c68d0>,\n",
        "  <matplotlib.axis.XTick at 0x133c0fa50>,\n",
        "  <matplotlib.axis.XTick at 0x133cff210>,\n",
        "  <matplotlib.axis.XTick at 0x133cff950>,\n",
        "  <matplotlib.axis.XTick at 0x133d070d0>,\n",
        "  <matplotlib.axis.XTick at 0x133d07810>,\n",
        "  <matplotlib.axis.XTick at 0x133d07f50>,\n",
        "  <matplotlib.axis.XTick at 0x133d166d0>,\n",
        "  <matplotlib.axis.XTick at 0x133d16e10>,\n",
        "  <matplotlib.axis.XTick at 0x133d1f590>,\n",
        "  <matplotlib.axis.XTick at 0x133d1fcd0>,\n",
        "  <matplotlib.axis.XTick at 0x133d29450>],\n",
        " <a list of 13 Text xticklabel objects>)"
       ]
      },
      {
       "metadata": {},
       "output_type": "display_data",
       "png": "[encoded data removed]",
       "text": [
        "<matplotlib.figure.Figure at 0x12cd96e10>"
       ]
      }
     ],
     "prompt_number": 157
    },
    {
     "cell_type": "code",
     "collapsed": false,
     "input": [
      "plt.bar([i for i in xrange(K)], pro, align='center')\n",
      "plt.xticks([i for i in xrange(K)], flat_feat, rotation=90)"
     ],
     "language": "python",
     "metadata": {},
     "outputs": [
      {
       "metadata": {},
       "output_type": "pyout",
       "prompt_number": 158,
       "text": [
        "([<matplotlib.axis.XTick at 0x133d31810>,\n",
        "  <matplotlib.axis.XTick at 0x12cddb9d0>,\n",
        "  <matplotlib.axis.XTick at 0x12cf978d0>,\n",
        "  <matplotlib.axis.XTick at 0x1329bd090>,\n",
        "  <matplotlib.axis.XTick at 0x1329bd7d0>,\n",
        "  <matplotlib.axis.XTick at 0x1329bdf10>,\n",
        "  <matplotlib.axis.XTick at 0x1329c5690>,\n",
        "  <matplotlib.axis.XTick at 0x1329c5dd0>,\n",
        "  <matplotlib.axis.XTick at 0x1329cf550>,\n",
        "  <matplotlib.axis.XTick at 0x1329cfc90>,\n",
        "  <matplotlib.axis.XTick at 0x1329dc410>,\n",
        "  <matplotlib.axis.XTick at 0x1329dcb50>,\n",
        "  <matplotlib.axis.XTick at 0x1329e42d0>],\n",
        " <a list of 13 Text xticklabel objects>)"
       ]
      },
      {
       "metadata": {},
       "output_type": "display_data",
       "png": "[encoded data removed]",
       "text": [
        "<matplotlib.figure.Figure at 0x133b25d10>"
       ]
      }
     ],
     "prompt_number": 158
    },
    {
     "cell_type": "code",
     "collapsed": false,
     "input": [
      "flat_feat[18]"
     ],
     "language": "python",
     "metadata": {},
     "outputs": [
      {
       "metadata": {},
       "output_type": "pyout",
       "prompt_number": 65,
       "text": [
        "'skype'"
       ]
      }
     ],
     "prompt_number": 65
    },
    {
     "cell_type": "code",
     "collapsed": false,
     "input": [],
     "language": "python",
     "metadata": {},
     "outputs": []
    },
    {
     "cell_type": "code",
     "collapsed": false,
     "input": [],
     "language": "python",
     "metadata": {},
     "outputs": []
    },
    {
     "cell_type": "code",
     "collapsed": false,
     "input": [
      "u = 50\n",
      "\n",
      "test = []\n",
      "\n",
      "for event in new_events[:10000]:\n",
      "    if (event[0]<u):\n",
      "        vec = np.array([False for i in xrange(K)])\n",
      "        vector_ind = 0\n",
      "        field_ind = 1\n",
      "\n",
      "        for field in features:\n",
      "            for ele in field:\n",
      "                if event[field_ind] == ele:\n",
      "                    vec[vector_ind] = True\n",
      "                vector_ind += 1\n",
      "            field_ind += 1\n",
      "        test.append(vec)"
     ],
     "language": "python",
     "metadata": {},
     "outputs": [],
     "prompt_number": 20
    },
    {
     "cell_type": "code",
     "collapsed": false,
     "input": [
      "u1 = 550\n",
      "u2 = 600\n",
      "\n",
      "test = []\n",
      "\n",
      "for event in new_events[:10000]:\n",
      "    if (event[0]>=u1 and event[0]<u2):\n",
      "        vec = np.array([False for i in xrange(K)])\n",
      "        vector_ind = 0\n",
      "        field_ind = 4\n",
      "\n",
      "        for field in features:\n",
      "            for ele in field:\n",
      "                if event[field_ind] == ele:\n",
      "                    vec[vector_ind] = True\n",
      "                vector_ind += 1\n",
      "            field_ind += 1\n",
      "        test.append(vec)"
     ],
     "language": "python",
     "metadata": {},
     "outputs": [],
     "prompt_number": 14
    },
    {
     "cell_type": "code",
     "collapsed": false,
     "input": [
      "len(test)"
     ],
     "language": "python",
     "metadata": {},
     "outputs": [
      {
       "metadata": {},
       "output_type": "pyout",
       "prompt_number": 15,
       "text": [
        "5016"
       ]
      }
     ],
     "prompt_number": 15
    },
    {
     "cell_type": "code",
     "collapsed": false,
     "input": [
      "np.sum(clf.predict(test))"
     ],
     "language": "python",
     "metadata": {},
     "outputs": [
      {
       "metadata": {},
       "output_type": "pyout",
       "prompt_number": 27,
       "text": [
        "124.0"
       ]
      }
     ],
     "prompt_number": 27
    },
    {
     "cell_type": "code",
     "collapsed": false,
     "input": [
      "abn_users = {}\n",
      "for event in new_events[:10000]:\n",
      "    if abn_users.has_key(event[0]):\n",
      "        abn_users[event[0]] += 1\n",
      "    else:\n",
      "        abn_users[event[0]] = 1"
     ],
     "language": "python",
     "metadata": {},
     "outputs": [],
     "prompt_number": 186
    },
    {
     "cell_type": "heading",
     "level": 2,
     "metadata": {},
     "source": [
      "OCSVM on Clusters"
     ]
    },
    {
     "cell_type": "code",
     "collapsed": false,
     "input": [
      "from scipy.cluster.vq import vq, kmeans, whiten"
     ],
     "language": "python",
     "metadata": {},
     "outputs": [
      {
       "ename": "ImportError",
       "evalue": "cannot import name Kmeans",
       "output_type": "pyerr",
       "traceback": [
        "\u001b[0;31m---------------------------------------------------------------------------\u001b[0m\n\u001b[0;31mImportError\u001b[0m                               Traceback (most recent call last)",
        "\u001b[0;32m<ipython-input-11-bded5f6c1828>\u001b[0m in \u001b[0;36m<module>\u001b[0;34m()\u001b[0m\n\u001b[0;32m----> 1\u001b[0;31m \u001b[0;32mfrom\u001b[0m \u001b[0mscipy\u001b[0m\u001b[0;34m.\u001b[0m\u001b[0mcluster\u001b[0m\u001b[0;34m.\u001b[0m\u001b[0mvq\u001b[0m \u001b[0;32mimport\u001b[0m \u001b[0mvq\u001b[0m\u001b[0;34m,\u001b[0m \u001b[0mKmeans\u001b[0m\u001b[0;34m,\u001b[0m \u001b[0mwhiten\u001b[0m\u001b[0;34m\u001b[0m\u001b[0m\n\u001b[0m",
        "\u001b[0;31mImportError\u001b[0m: cannot import name Kmeans"
       ]
      }
     ],
     "prompt_number": 11
    },
    {
     "cell_type": "code",
     "collapsed": false,
     "input": [
      "from sklearn import svm\n",
      "from sklearn.cluster import KMeans"
     ],
     "language": "python",
     "metadata": {},
     "outputs": [],
     "prompt_number": 14
    },
    {
     "cell_type": "code",
     "collapsed": false,
     "input": [
      "C_range = 10.0 ** np.arange(-8, 0)\n",
      "gamma_range = 10.0 ** np.arange(-8, 1)\n",
      "param_grid = dict(gamma=gamma_range, nu=C_range)"
     ],
     "language": "python",
     "metadata": {},
     "outputs": [],
     "prompt_number": 36
    },
    {
     "cell_type": "code",
     "collapsed": false,
     "input": [
      "def prediction(event_set):\n",
      "    \n",
      "    pred_set = []\n",
      "    \n",
      "    for event in event_set:\n",
      "        for i in xrange(len(a)):\n",
      "            flag = 0\n",
      "            val = clf_best[i].predict(event)\n",
      "            if val==1:\n",
      "                pred_set.append(1)\n",
      "                flag = 1\n",
      "                break\n",
      "        if flag==0:\n",
      "            pred_set.append(-1)\n",
      "            \n",
      "    return pred_set"
     ],
     "language": "python",
     "metadata": {},
     "outputs": [],
     "prompt_number": 15
    },
    {
     "cell_type": "code",
     "collapsed": false,
     "input": [
      "u1 = 550\n",
      "u2 = 600\n",
      "\n",
      "train = []\n",
      "\n",
      "for event in events:\n",
      "    if (event[0]<u2 and event[0]>=u1):\n",
      "        vec = np.array([0 for i in xrange(K)])\n",
      "        vector_ind = 0\n",
      "        field_ind = 4\n",
      "\n",
      "        for field in features:\n",
      "            for ele in field:\n",
      "                if event[field_ind] == ele:\n",
      "                    vec[vector_ind] = 1\n",
      "                vector_ind += 1\n",
      "            field_ind += 1\n",
      "        train.append(vec)\n",
      "        \n",
      "print len(train)\n",
      "        \n",
      "for event in new_events[:10]:\n",
      "    if (event[0]<u2 and event[0]>=u1):\n",
      "        vec = np.array([0 for i in xrange(K)])\n",
      "        vector_ind = 0\n",
      "        field_ind = 4\n",
      "\n",
      "        for field in features:\n",
      "            for ele in field:\n",
      "                if event[field_ind] == ele:\n",
      "                    vec[vector_ind] = 1\n",
      "                vector_ind += 1\n",
      "            field_ind += 1\n",
      "        train.append(vec)\n",
      "\n",
      "print len(train)"
     ],
     "language": "python",
     "metadata": {},
     "outputs": [
      {
       "output_type": "stream",
       "stream": "stdout",
       "text": [
        "49684\n",
        "49692\n"
       ]
      }
     ],
     "prompt_number": 18
    },
    {
     "cell_type": "code",
     "collapsed": false,
     "input": [
      "u1 = 550\n",
      "u2 = 600\n",
      "\n",
      "test = []\n",
      "\n",
      "for event in new_events[:10000]:\n",
      "    if (event[0]>=u1 and event[0]<u2):\n",
      "        vec = np.array([False for i in xrange(K)])\n",
      "        vector_ind = 0\n",
      "        field_ind = 4\n",
      "\n",
      "        for field in features:\n",
      "            for ele in field:\n",
      "                if event[field_ind] == ele:\n",
      "                    vec[vector_ind] = True\n",
      "                vector_ind += 1\n",
      "            field_ind += 1\n",
      "        test.append(vec)"
     ],
     "language": "python",
     "metadata": {},
     "outputs": [],
     "prompt_number": 19
    },
    {
     "cell_type": "code",
     "collapsed": false,
     "input": [
      "train_arr = np.array(train)"
     ],
     "language": "python",
     "metadata": {},
     "outputs": [],
     "prompt_number": 20
    },
    {
     "cell_type": "code",
     "collapsed": false,
     "input": [
      "def uniquify(a):\n",
      "    a_uniq = []\n",
      "    for ele in a:\n",
      "        dup = 0\n",
      "        for e in a_uniq:\n",
      "            if np.array_equal(ele,e):\n",
      "                dup = 1\n",
      "                break\n",
      "        if dup==0:\n",
      "            a_uniq.append(ele)\n",
      "            \n",
      "    return a_uniq"
     ],
     "language": "python",
     "metadata": {},
     "outputs": [],
     "prompt_number": 21
    },
    {
     "cell_type": "code",
     "collapsed": false,
     "input": [
      "train_uniq = uniquify(train_arr)\n",
      "len(train_uniq)"
     ],
     "language": "python",
     "metadata": {},
     "outputs": [
      {
       "metadata": {},
       "output_type": "pyout",
       "prompt_number": 77,
       "text": [
        "12"
       ]
      }
     ],
     "prompt_number": 77
    },
    {
     "cell_type": "code",
     "collapsed": false,
     "input": [
      "train_arr = np.array(train_uniq)"
     ],
     "language": "python",
     "metadata": {},
     "outputs": [],
     "prompt_number": 83
    },
    {
     "cell_type": "code",
     "collapsed": false,
     "input": [
      "np.shape(train_arr)"
     ],
     "language": "python",
     "metadata": {},
     "outputs": [
      {
       "metadata": {},
       "output_type": "pyout",
       "prompt_number": 22,
       "text": [
        "(49692, 13)"
       ]
      }
     ],
     "prompt_number": 22
    },
    {
     "cell_type": "code",
     "collapsed": false,
     "input": [
      "c = 3"
     ],
     "language": "python",
     "metadata": {},
     "outputs": [],
     "prompt_number": 40
    },
    {
     "cell_type": "code",
     "collapsed": false,
     "input": [
      "#a, b = kmeans(train_arr, c)\n",
      "km = KMeans(n_clusters=c, init='k-means++')"
     ],
     "language": "python",
     "metadata": {},
     "outputs": [],
     "prompt_number": 41
    },
    {
     "cell_type": "code",
     "collapsed": false,
     "input": [
      "clus = km.fit_predict(train)\n",
      "clus"
     ],
     "language": "python",
     "metadata": {},
     "outputs": [
      {
       "metadata": {},
       "output_type": "pyout",
       "prompt_number": 42,
       "text": [
        "array([0, 0, 0, ..., 0, 0, 0], dtype=int32)"
       ]
      }
     ],
     "prompt_number": 42
    },
    {
     "cell_type": "code",
     "collapsed": false,
     "input": [
      "len(clus)"
     ],
     "language": "python",
     "metadata": {},
     "outputs": [
      {
       "metadata": {},
       "output_type": "pyout",
       "prompt_number": 43,
       "text": [
        "49692"
       ]
      }
     ],
     "prompt_number": 43
    },
    {
     "cell_type": "code",
     "collapsed": false,
     "input": [
      "len(a), b"
     ],
     "language": "python",
     "metadata": {},
     "outputs": [
      {
       "ename": "NameError",
       "evalue": "name 'a' is not defined",
       "output_type": "pyerr",
       "traceback": [
        "\u001b[0;31m---------------------------------------------------------------------------\u001b[0m\n\u001b[0;31mNameError\u001b[0m                                 Traceback (most recent call last)",
        "\u001b[0;32m<ipython-input-44-8d4d79e10237>\u001b[0m in \u001b[0;36m<module>\u001b[0;34m()\u001b[0m\n\u001b[0;32m----> 1\u001b[0;31m \u001b[0mlen\u001b[0m\u001b[0;34m(\u001b[0m\u001b[0ma\u001b[0m\u001b[0;34m)\u001b[0m\u001b[0;34m,\u001b[0m \u001b[0mb\u001b[0m\u001b[0;34m\u001b[0m\u001b[0m\n\u001b[0m",
        "\u001b[0;31mNameError\u001b[0m: name 'a' is not defined"
       ]
      }
     ],
     "prompt_number": 44
    },
    {
     "cell_type": "code",
     "collapsed": false,
     "input": [
      "norm_clust = []\n",
      "\n",
      "for event in train_arr:\n",
      "    d = []\n",
      "    for i in xrange(len(a)):\n",
      "        d.append(np.linalg.norm(a[i]-event))\n",
      "    \n",
      "    norm_clust.append(d.index(min(d)))"
     ],
     "language": "python",
     "metadata": {},
     "outputs": [],
     "prompt_number": 24
    },
    {
     "cell_type": "code",
     "collapsed": false,
     "input": [
      "eve_clu = [[] for i in xrange(c)]\n",
      "                \n",
      "count = [0 for i in xrange(c)]\n",
      "\n",
      "for i in xrange(len(clus)):\n",
      "    eve_clu[clus[i]].append(train_arr[i])\n",
      "    count[clus[i]] += 1"
     ],
     "language": "python",
     "metadata": {},
     "outputs": [],
     "prompt_number": 45
    },
    {
     "cell_type": "code",
     "collapsed": false,
     "input": [
      "best_nu = [0 for i in xrange(c)]\n",
      "best_gamma = [0 for i in xrange(c)]\n",
      "best_sco = [0 for i in xrange(c)]\n",
      "\n",
      "for i in xrange(c):\n",
      "    for nu in C_range:\n",
      "        for gamma in gamma_range:\n",
      "            clf = svm.OneClassSVM(nu=nu, kernel=\"rbf\", verbose=True, gamma=gamma)\n",
      "            clf.fit(eve_clu[i])\n",
      "            sco = clf.predict(eve_clu[i])\n",
      "            if np.sum(sco) >= best_sco[i] :\n",
      "                best_nu[i] = nu\n",
      "                best_gamma[i] = gamma\n",
      "                best_sco[i] = np.sum(sco)\n",
      "            del clf"
     ],
     "language": "python",
     "metadata": {},
     "outputs": [
      {
       "output_type": "stream",
       "stream": "stdout",
       "text": [
        "[LibSVM][LibSVM]"
       ]
      },
      {
       "output_type": "stream",
       "stream": "stdout",
       "text": [
        "[LibSVM]"
       ]
      },
      {
       "output_type": "stream",
       "stream": "stdout",
       "text": [
        "[LibSVM]"
       ]
      },
      {
       "output_type": "stream",
       "stream": "stdout",
       "text": [
        "[LibSVM]"
       ]
      },
      {
       "output_type": "stream",
       "stream": "stdout",
       "text": [
        "[LibSVM]"
       ]
      },
      {
       "output_type": "stream",
       "stream": "stdout",
       "text": [
        "[LibSVM]"
       ]
      },
      {
       "output_type": "stream",
       "stream": "stdout",
       "text": [
        "[LibSVM]"
       ]
      },
      {
       "output_type": "stream",
       "stream": "stdout",
       "text": [
        "[LibSVM]"
       ]
      },
      {
       "output_type": "stream",
       "stream": "stdout",
       "text": [
        "[LibSVM]"
       ]
      },
      {
       "output_type": "stream",
       "stream": "stdout",
       "text": [
        "[LibSVM]"
       ]
      },
      {
       "output_type": "stream",
       "stream": "stdout",
       "text": [
        "[LibSVM]"
       ]
      },
      {
       "output_type": "stream",
       "stream": "stdout",
       "text": [
        "[LibSVM]"
       ]
      },
      {
       "output_type": "stream",
       "stream": "stdout",
       "text": [
        "[LibSVM]"
       ]
      },
      {
       "output_type": "stream",
       "stream": "stdout",
       "text": [
        "[LibSVM]"
       ]
      },
      {
       "output_type": "stream",
       "stream": "stdout",
       "text": [
        "[LibSVM]"
       ]
      }
     ]
    },
    {
     "cell_type": "code",
     "collapsed": false,
     "input": [
      "best_sco, np.sum(best_sco)"
     ],
     "language": "python",
     "metadata": {},
     "outputs": [
      {
       "metadata": {},
       "output_type": "pyout",
       "prompt_number": 38,
       "text": [
        "([16512.0, 8243.0, 4286.0, 0, 8308.0], 37349.0)"
       ]
      }
     ],
     "prompt_number": 38
    },
    {
     "cell_type": "code",
     "collapsed": false,
     "input": [
      "count, np.sum(count)"
     ],
     "language": "python",
     "metadata": {},
     "outputs": [
      {
       "metadata": {},
       "output_type": "pyout",
       "prompt_number": 39,
       "text": [
        "([16518, 8243, 12462, 4161, 8308], 49692)"
       ]
      }
     ],
     "prompt_number": 39
    },
    {
     "cell_type": "code",
     "collapsed": false,
     "input": [
      "best_nu"
     ],
     "language": "python",
     "metadata": {},
     "outputs": [
      {
       "metadata": {},
       "output_type": "pyout",
       "prompt_number": 29,
       "text": [
        "[0.10000000000000001, 0.10000000000000001, 0.10000000000000001]"
       ]
      }
     ],
     "prompt_number": 29
    },
    {
     "cell_type": "code",
     "collapsed": false,
     "input": [
      "best_gamma"
     ],
     "language": "python",
     "metadata": {},
     "outputs": [
      {
       "metadata": {},
       "output_type": "pyout",
       "prompt_number": 30,
       "text": [
        "[0.0001, 0.0001, 1.0000000000000001e-05]"
       ]
      }
     ],
     "prompt_number": 30
    },
    {
     "cell_type": "code",
     "collapsed": false,
     "input": [
      "for i in xrange(len(a)):\n",
      "    if best_nu[i]==0:\n",
      "        best_nu[i] = 0.0001"
     ],
     "language": "python",
     "metadata": {},
     "outputs": [],
     "prompt_number": 31
    },
    {
     "cell_type": "code",
     "collapsed": false,
     "input": [
      "clf_best = []\n",
      "for i in xrange(len(a)):\n",
      "    clf_best.append(svm.OneClassSVM(nu=best_nu[i], kernel=\"rbf\", verbose=True, gamma=best_gamma[i]))\n",
      "    clf_best[i].fit(eve_clu[i])"
     ],
     "language": "python",
     "metadata": {},
     "outputs": [
      {
       "output_type": "stream",
       "stream": "stdout",
       "text": [
        "[LibSVM][LibSVM]"
       ]
      },
      {
       "output_type": "stream",
       "stream": "stdout",
       "text": [
        "[LibSVM]"
       ]
      }
     ],
     "prompt_number": 32
    },
    {
     "cell_type": "code",
     "collapsed": false,
     "input": [
      "len(test)"
     ],
     "language": "python",
     "metadata": {},
     "outputs": [
      {
       "metadata": {},
       "output_type": "pyout",
       "prompt_number": 33,
       "text": [
        "5016"
       ]
      }
     ],
     "prompt_number": 33
    },
    {
     "cell_type": "code",
     "collapsed": false,
     "input": [
      "np.sum(prediction(test))"
     ],
     "language": "python",
     "metadata": {},
     "outputs": [
      {
       "metadata": {},
       "output_type": "pyout",
       "prompt_number": 34,
       "text": [
        "-5016"
       ]
      }
     ],
     "prompt_number": 34
    },
    {
     "cell_type": "code",
     "collapsed": false,
     "input": [
      "rej = []\n",
      "lab = prediction(train)\n",
      "for i in xrange(len(train)):\n",
      "    if lab[i]==-1:\n",
      "        rej.append(train[i])"
     ],
     "language": "python",
     "metadata": {},
     "outputs": [],
     "prompt_number": 35
    },
    {
     "cell_type": "code",
     "collapsed": false,
     "input": [
      "rej_uniq = uniquify(rej)"
     ],
     "language": "python",
     "metadata": {},
     "outputs": [],
     "prompt_number": 36
    },
    {
     "cell_type": "code",
     "collapsed": false,
     "input": [
      "rej_uniq"
     ],
     "language": "python",
     "metadata": {},
     "outputs": [
      {
       "metadata": {},
       "output_type": "pyout",
       "prompt_number": 37,
       "text": [
        "[array([0, 0, 0, 1, 0, 0, 0, 1, 0, 0, 1, 0, 0]),\n",
        " array([1, 0, 0, 0, 0, 0, 0, 0, 1, 1, 0, 0, 0]),\n",
        " array([1, 0, 0, 0, 0, 0, 0, 0, 1, 0, 0, 0, 1]),\n",
        " array([0, 0, 1, 0, 0, 0, 0, 0, 1, 1, 0, 0, 0]),\n",
        " array([1, 0, 0, 0, 1, 0, 0, 0, 0, 1, 0, 0, 0]),\n",
        " array([0, 0, 1, 0, 0, 0, 0, 0, 1, 0, 0, 0, 1])]"
       ]
      }
     ],
     "prompt_number": 37
    },
    {
     "cell_type": "code",
     "collapsed": false,
     "input": [
      "del clf_best\n",
      "del norm_clust\n",
      "del eve_clu"
     ],
     "language": "python",
     "metadata": {},
     "outputs": [],
     "prompt_number": 38
    },
    {
     "cell_type": "code",
     "collapsed": false,
     "input": [],
     "language": "python",
     "metadata": {},
     "outputs": []
    }
   ],
   "metadata": {}
  }
 ]
}