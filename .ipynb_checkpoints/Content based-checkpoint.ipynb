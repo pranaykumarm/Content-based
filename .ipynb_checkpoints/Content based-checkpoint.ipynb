{
 "metadata": {
  "name": "",
  "signature": "sha256:54f5a67da6d928b61a282efbb69d62f4fc53ffcfb3575a831c04e9fd8798a67f"
 },
 "nbformat": 3,
 "nbformat_minor": 0,
 "worksheets": [
  {
   "cells": [
    {
     "cell_type": "code",
     "collapsed": false,
     "input": [
      "import numpy as np\n",
      "import matplotlib.pyplot as plt\n",
      "import math\n",
      "%matplotlib inline"
     ],
     "language": "python",
     "metadata": {},
     "outputs": [],
     "prompt_number": 5
    },
    {
     "cell_type": "markdown",
     "metadata": {},
     "source": [
      "event: user, access{server(IP)-2, media-2, location-2, path_prefix-2, size, last_modified-2, action-2}<br>\n",
      "e.g. - [123, [1,0,1,0,1,0,1,0,100,1,0,1,0]]"
     ]
    },
    {
     "cell_type": "code",
     "collapsed": false,
     "input": [
      "events = [[0, [1,0,1,0,1,0,1,0,100,1,0,1,0]], [1, [1,0,1,0,1,0,1,0,100,1,0,1,0]], [0, [1,0,0,1,1,0,0,1,1000,0,1,0,1]]]"
     ],
     "language": "python",
     "metadata": {},
     "outputs": [],
     "prompt_number": 3
    },
    {
     "cell_type": "code",
     "collapsed": false,
     "input": [
      "K = len(events[0][1])\n",
      "K"
     ],
     "language": "python",
     "metadata": {},
     "outputs": [
      {
       "metadata": {},
       "output_type": "pyout",
       "prompt_number": 8,
       "text": [
        "13"
       ]
      }
     ],
     "prompt_number": 8
    },
    {
     "cell_type": "code",
     "collapsed": false,
     "input": [
      "U = 0\n",
      "for event in events:\n",
      "    u = event[0]\n",
      "    event[1] = np.array(event[1])\n",
      "    U = max(u,U)\n",
      "    \n",
      "U = U+1\n",
      "U"
     ],
     "language": "python",
     "metadata": {},
     "outputs": [
      {
       "metadata": {},
       "output_type": "pyout",
       "prompt_number": 14,
       "text": [
        "2"
       ]
      }
     ],
     "prompt_number": 14
    },
    {
     "cell_type": "code",
     "collapsed": false,
     "input": [
      "events"
     ],
     "language": "python",
     "metadata": {},
     "outputs": [
      {
       "metadata": {},
       "output_type": "pyout",
       "prompt_number": 7,
       "text": [
        "[[0, array([  1,   0,   1,   0,   1,   0,   1,   0, 100,   1,   0,   1,   0])],\n",
        " [1, array([  1,   0,   1,   0,   1,   0,   1,   0, 100,   1,   0,   1,   0])],\n",
        " [0, array([   1,    0,    0,    1,    1,    0,    0,    1, 1000,    0,    1,\n",
        "            0,    1])]]"
       ]
      }
     ],
     "prompt_number": 7
    },
    {
     "cell_type": "code",
     "collapsed": false,
     "input": [
      "profiles = [[np.array([0.0 for f in xrange(K)]), 0] for u in xrange(U)]\n",
      "profiles"
     ],
     "language": "python",
     "metadata": {},
     "outputs": [
      {
       "metadata": {},
       "output_type": "pyout",
       "prompt_number": 17,
       "text": [
        "[[array([ 0.,  0.,  0.,  0.,  0.,  0.,  0.,  0.,  0.,  0.,  0.,  0.,  0.]), 0],\n",
        " [array([ 0.,  0.,  0.,  0.,  0.,  0.,  0.,  0.,  0.,  0.,  0.,  0.,  0.]), 0]]"
       ]
      }
     ],
     "prompt_number": 17
    },
    {
     "cell_type": "code",
     "collapsed": false,
     "input": [
      "for event in events:\n",
      "    u = event[0]\n",
      "    profiles[u][0] += event[1]\n",
      "    profiles[u][1] += 1\n",
      "    \n",
      "profiles"
     ],
     "language": "python",
     "metadata": {},
     "outputs": [
      {
       "metadata": {},
       "output_type": "pyout",
       "prompt_number": 18,
       "text": [
        "[[array([  2.00000000e+00,   0.00000000e+00,   1.00000000e+00,\n",
        "           1.00000000e+00,   2.00000000e+00,   0.00000000e+00,\n",
        "           1.00000000e+00,   1.00000000e+00,   1.10000000e+03,\n",
        "           1.00000000e+00,   1.00000000e+00,   1.00000000e+00,\n",
        "           1.00000000e+00]), 2],\n",
        " [array([   1.,    0.,    1.,    0.,    1.,    0.,    1.,    0.,  100.,\n",
        "            1.,    0.,    1.,    0.]), 1]]"
       ]
      }
     ],
     "prompt_number": 18
    },
    {
     "cell_type": "code",
     "collapsed": false,
     "input": [
      "for profile in profiles:\n",
      "    profile[0] = profile[0]/profile[1]\n",
      "    \n",
      "profiles"
     ],
     "language": "python",
     "metadata": {},
     "outputs": [
      {
       "metadata": {},
       "output_type": "pyout",
       "prompt_number": 19,
       "text": [
        "[[array([  1.00000000e+00,   0.00000000e+00,   5.00000000e-01,\n",
        "           5.00000000e-01,   1.00000000e+00,   0.00000000e+00,\n",
        "           5.00000000e-01,   5.00000000e-01,   5.50000000e+02,\n",
        "           5.00000000e-01,   5.00000000e-01,   5.00000000e-01,\n",
        "           5.00000000e-01]), 2],\n",
        " [array([   1.,    0.,    1.,    0.,    1.,    0.,    1.,    0.,  100.,\n",
        "            1.,    0.,    1.,    0.]), 1]]"
       ]
      }
     ],
     "prompt_number": 19
    },
    {
     "cell_type": "code",
     "collapsed": false,
     "input": [
      "def score(event):\n",
      "    u = event[0]\n",
      "    event[1] = np.array(event[1])\n",
      "    val = np.dot(profiles[u][0], event[1])/(np.linalg.norm(profiles[u][0])*np.linalg.norm(event[1]))\n",
      "    return val"
     ],
     "language": "python",
     "metadata": {},
     "outputs": [],
     "prompt_number": 24
    },
    {
     "cell_type": "code",
     "collapsed": false,
     "input": [
      "score([1, [1,0,1,0,1,0,1,0,100,1,0,1,0]])"
     ],
     "language": "python",
     "metadata": {},
     "outputs": [
      {
       "metadata": {},
       "output_type": "pyout",
       "prompt_number": 25,
       "text": [
        "1.0"
       ]
      }
     ],
     "prompt_number": 25
    },
    {
     "cell_type": "code",
     "collapsed": false,
     "input": [
      "score([0, [1,0,0,1,1,0,0,1,100,0,1,0,1]])"
     ],
     "language": "python",
     "metadata": {},
     "outputs": [
      {
       "metadata": {},
       "output_type": "pyout",
       "prompt_number": 29,
       "text": [
        "0.99976623039408152"
       ]
      }
     ],
     "prompt_number": 29
    },
    {
     "cell_type": "code",
     "collapsed": false,
     "input": [],
     "language": "python",
     "metadata": {},
     "outputs": []
    }
   ],
   "metadata": {}
  }
 ]
}