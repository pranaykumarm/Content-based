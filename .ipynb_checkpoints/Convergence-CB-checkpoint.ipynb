{
 "metadata": {
  "name": "",
  "signature": "sha256:ac4b78c175a3b85f5304357b7707dd1e561166bdeb621a6438185207ea174fef"
 },
 "nbformat": 3,
 "nbformat_minor": 0,
 "worksheets": [
  {
   "cells": [
    {
     "cell_type": "code",
     "collapsed": false,
     "input": [
      "import numpy as np\n",
      "import matplotlib.pyplot as plt\n",
      "import math\n",
      "import networkx as nx\n",
      "import community\n",
      "%matplotlib inline"
     ],
     "language": "python",
     "metadata": {},
     "outputs": [],
     "prompt_number": 1
    },
    {
     "cell_type": "code",
     "collapsed": false,
     "input": [
      "f = open('features.log')\n",
      "\n",
      "all_events = []\n",
      "\n",
      "for line in f:\n",
      "    contents = line.split()\n",
      "    all_events.append([int(contents[0]),contents[1],contents[2],contents[3],contents[4],contents[5],contents[6],float(contents[7]),float(contents[8])])\n",
      "\n",
      "f.close()"
     ],
     "language": "python",
     "metadata": {},
     "outputs": [],
     "prompt_number": 2
    },
    {
     "cell_type": "code",
     "collapsed": false,
     "input": [
      "users = []\n",
      "httpcode = {}\n",
      "httpop = {}\n",
      "httpversion = {} \n",
      "application = {}\n",
      "media = {}\n",
      "browser = {}\n",
      "bytesOut = []\n",
      "bytesIn = []\n",
      "\n",
      "for event in all_events:\n",
      "    users.append(event[0])\n",
      "    httpcode.setdefault(event[1])\n",
      "    httpop.setdefault(event[2])\n",
      "    httpversion.setdefault(event[3])\n",
      "    application.setdefault(event[4])\n",
      "    media.setdefault(event[5])\n",
      "    browser.setdefault(event[6])\n",
      "    bytesOut.append(event[7])\n",
      "    bytesIn.append(event[8])\n",
      "    \n",
      "U = max(users)+1\n",
      "U"
     ],
     "language": "python",
     "metadata": {},
     "outputs": [
      {
       "metadata": {},
       "output_type": "pyout",
       "prompt_number": 4,
       "text": [
        "1000"
       ]
      }
     ],
     "prompt_number": 4
    },
    {
     "cell_type": "code",
     "collapsed": false,
     "input": [
      "httpcode = httpcode.keys()\n",
      "httpop = httpop.keys()\n",
      "httpversion = httpversion.keys()\n",
      "application = application.keys()\n",
      "media = media.keys()\n",
      "browser = browser.keys()\n",
      "\n",
      "print httpcode\n",
      "print httpop\n",
      "print httpversion\n",
      "print application\n",
      "print media\n",
      "print browser"
     ],
     "language": "python",
     "metadata": {},
     "outputs": [
      {
       "output_type": "stream",
       "stream": "stdout",
       "text": [
        "['450', '200', '400', '300', '150']\n",
        "['PUSH', 'PUT', 'GET']\n",
        "['1', '1.1']\n",
        "['box', 'web', 'email', 'social']\n",
        "['tor', 'pdf', 'mpeg', 'text', 'skype']\n",
        "['apache', 'chrome', 'opera', 'explorer']\n"
       ]
      }
     ],
     "prompt_number": 5
    },
    {
     "cell_type": "code",
     "collapsed": false,
     "input": [
      "features = [httpcode,httpop,httpversion,application,media,browser]\n",
      "features"
     ],
     "language": "python",
     "metadata": {},
     "outputs": [
      {
       "metadata": {},
       "output_type": "pyout",
       "prompt_number": 6,
       "text": [
        "[['450', '200', '400', '300', '150'],\n",
        " ['PUSH', 'PUT', 'GET'],\n",
        " ['1', '1.1'],\n",
        " ['box', 'web', 'email', 'social'],\n",
        " ['tor', 'pdf', 'mpeg', 'text', 'skype'],\n",
        " ['apache', 'chrome', 'opera', 'explorer']]"
       ]
      }
     ],
     "prompt_number": 6
    },
    {
     "cell_type": "code",
     "collapsed": false,
     "input": [
      "K = len(httpcode)+len(httpop)+len(httpversion)+len(application)+len(media)+len(browser)\n",
      "K"
     ],
     "language": "python",
     "metadata": {},
     "outputs": [
      {
       "metadata": {},
       "output_type": "pyout",
       "prompt_number": 7,
       "text": [
        "23"
       ]
      }
     ],
     "prompt_number": 7
    },
    {
     "cell_type": "code",
     "collapsed": false,
     "input": [
      "def update_profiles(events):\n",
      "    for event in events:\n",
      "        u = event[0]\n",
      "        vector_ind = 0\n",
      "        field_ind = 1\n",
      "        access[u,K] += 1\n",
      "\n",
      "        for field in features:\n",
      "            for ele in field:\n",
      "                if event[field_ind] == ele:\n",
      "                    access[u,vector_ind] += 1\n",
      "                vector_ind += 1\n",
      "            field_ind += 1\n",
      "            \n",
      "    for k in xrange(K+1):\n",
      "        access[U,k] = np.sum(access[:-1,k])\n",
      "        \n",
      "    # to avoid divison by zero\n",
      "    #for u in xrange(U):\n",
      "        #if access[u,K] == 0:\n",
      "            #access[u,K] = -1\n",
      "        \n",
      "    # building profiles w.r.t. users\n",
      "    profile_u = np.array([[0.0 for j in xrange(K)] for i in xrange(U)])\n",
      "    for u in xrange(U):\n",
      "        for k in xrange(K):\n",
      "            profile_u[u,k] = access[u,k]/access[u,K]\n",
      "            \n",
      "    return profile_u"
     ],
     "language": "python",
     "metadata": {},
     "outputs": [],
     "prompt_number": 51
    },
    {
     "cell_type": "code",
     "collapsed": false,
     "input": [
      "def change(sim1, sim2):\n",
      "    delete = []\n",
      "    for u in xrange(U):\n",
      "        if math.isnan(sim2[u,0]):\n",
      "            delete.append(u)\n",
      "    \n",
      "    sim1 = np.delete(sim1, delete, 0)\n",
      "    sim2 = np.delete(sim2, delete, 0)\n",
      "    diff = sim1 - sim2\n",
      "    return math.sqrt(np.mean(diff**2))"
     ],
     "language": "python",
     "metadata": {},
     "outputs": [],
     "prompt_number": 55
    },
    {
     "cell_type": "code",
     "collapsed": false,
     "input": [
      "chunk = 100000\n",
      "N = 10"
     ],
     "language": "python",
     "metadata": {},
     "outputs": [],
     "prompt_number": 56
    },
    {
     "cell_type": "code",
     "collapsed": false,
     "input": [
      "access = np.array([[0.0 for j in xrange(K+1)] for i in xrange(U+1)])\n",
      "profile_old = np.array([[0.0 for j in xrange(K)] for i in xrange(U)])\n",
      "diff = []\n",
      "\n",
      "for i in xrange(N):\n",
      "    print i\n",
      "    events = all_events[i*chunk:(i+1)*chunk]\n",
      "    profile_cur = update_profiles(events)\n",
      "    if i!=0:\n",
      "        diff.append(change(profile_cur, profile_old))\n",
      "    profile_old = profile_cur"
     ],
     "language": "python",
     "metadata": {},
     "outputs": [
      {
       "output_type": "stream",
       "stream": "stdout",
       "text": [
        "0\n",
        "1"
       ]
      },
      {
       "output_type": "stream",
       "stream": "stdout",
       "text": [
        "\n",
        "2"
       ]
      },
      {
       "output_type": "stream",
       "stream": "stdout",
       "text": [
        "\n",
        "3"
       ]
      },
      {
       "output_type": "stream",
       "stream": "stdout",
       "text": [
        "\n",
        "4"
       ]
      },
      {
       "output_type": "stream",
       "stream": "stdout",
       "text": [
        "\n",
        "5"
       ]
      },
      {
       "output_type": "stream",
       "stream": "stdout",
       "text": [
        "\n",
        "6"
       ]
      },
      {
       "output_type": "stream",
       "stream": "stdout",
       "text": [
        "\n",
        "7"
       ]
      },
      {
       "output_type": "stream",
       "stream": "stdout",
       "text": [
        "\n",
        "8"
       ]
      },
      {
       "output_type": "stream",
       "stream": "stdout",
       "text": [
        "\n",
        "9"
       ]
      },
      {
       "output_type": "stream",
       "stream": "stdout",
       "text": [
        "\n"
       ]
      }
     ],
     "prompt_number": 68
    },
    {
     "cell_type": "code",
     "collapsed": false,
     "input": [
      "diff"
     ],
     "language": "python",
     "metadata": {},
     "outputs": [
      {
       "metadata": {},
       "output_type": "pyout",
       "prompt_number": 69,
       "text": [
        "[0.019557880631276385,\n",
        " 0.011276040584489807,\n",
        " 0.007913775417193247,\n",
        " 0.006139049957642191,\n",
        " 0.0,\n",
        " 0.014275826606567519,\n",
        " 0.008119718580611765,\n",
        " 0.005787668941559569,\n",
        " 0.004479538518199563]"
       ]
      }
     ],
     "prompt_number": 69
    },
    {
     "cell_type": "code",
     "collapsed": false,
     "input": [
      "plt.plot(diff)"
     ],
     "language": "python",
     "metadata": {},
     "outputs": [
      {
       "metadata": {},
       "output_type": "pyout",
       "prompt_number": 70,
       "text": [
        "[<matplotlib.lines.Line2D at 0x129abfc10>]"
       ]
      },
      {
       "metadata": {},
       "output_type": "display_data",
       "png": "[encoded data removed]",
       "text": [
        "<matplotlib.figure.Figure at 0x128b97950>"
       ]
      }
     ],
     "prompt_number": 70
    },
    {
     "cell_type": "code",
     "collapsed": false,
     "input": [
      "access"
     ],
     "language": "python",
     "metadata": {},
     "outputs": [
      {
       "metadata": {},
       "output_type": "pyout",
       "prompt_number": 60,
       "text": [
        "array([[  2.19000000e+02,   2.18000000e+02,   1.97000000e+02, ...,\n",
        "          0.00000000e+00,   5.23000000e+02,   1.00700000e+03],\n",
        "       [  1.96000000e+02,   1.92000000e+02,   1.92000000e+02, ...,\n",
        "          0.00000000e+00,   4.83000000e+02,   9.59000000e+02],\n",
        "       [  1.97000000e+02,   2.03000000e+02,   1.91000000e+02, ...,\n",
        "          0.00000000e+00,   5.05000000e+02,   1.00200000e+03],\n",
        "       ..., \n",
        "       [  2.09000000e+02,   1.83000000e+02,   2.18000000e+02, ...,\n",
        "          5.17000000e+02,   0.00000000e+00,   9.78000000e+02],\n",
        "       [  2.19000000e+02,   1.86000000e+02,   2.15000000e+02, ...,\n",
        "          5.27000000e+02,   0.00000000e+00,   1.06200000e+03],\n",
        "       [  2.00586000e+05,   1.98982000e+05,   1.99668000e+05, ...,\n",
        "          2.51009000e+05,   2.51009000e+05,   1.00000000e+06]])"
       ]
      }
     ],
     "prompt_number": 60
    },
    {
     "cell_type": "code",
     "collapsed": false,
     "input": [
      "access = np.array([[0.0 for j in xrange(K+1)] for i in xrange(U+1)])\n",
      "\n",
      "events = all_events[0:chunk]\n",
      "profile_cur = update_profiles(events)"
     ],
     "language": "python",
     "metadata": {},
     "outputs": [],
     "prompt_number": 61
    },
    {
     "cell_type": "code",
     "collapsed": false,
     "input": [
      "profile_cur"
     ],
     "language": "python",
     "metadata": {},
     "outputs": [
      {
       "metadata": {},
       "output_type": "pyout",
       "prompt_number": 62,
       "text": [
        "array([[ 0.23444976,  0.22488038,  0.20574163, ...,  0.        ,\n",
        "         0.        ,  0.51196172],\n",
        "       [ 0.205     ,  0.22      ,  0.22      , ...,  0.        ,\n",
        "         0.        ,  0.495     ],\n",
        "       [ 0.22274882,  0.18483412,  0.19905213, ...,  0.        ,\n",
        "         0.        ,  0.50236967],\n",
        "       ..., \n",
        "       [        nan,         nan,         nan, ...,         nan,\n",
        "                nan,         nan],\n",
        "       [        nan,         nan,         nan, ...,         nan,\n",
        "                nan,         nan],\n",
        "       [        nan,         nan,         nan, ...,         nan,\n",
        "                nan,         nan]])"
       ]
      }
     ],
     "prompt_number": 62
    }
   ],
   "metadata": {}
  }
 ]
}